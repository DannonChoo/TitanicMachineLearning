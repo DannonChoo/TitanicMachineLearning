{
 "cells": [
  {
   "cell_type": "markdown",
   "metadata": {
    "colab_type": "text",
    "id": "YEvxCWlRzS-p",
    "toc": true
   },
   "source": [
    "<h1>Table of Contents<span class=\"tocSkip\"></span></h1>\n",
    "<div class=\"toc\"><ul class=\"toc-item\"><li><span><a href=\"#Assignment-1\" data-toc-modified-id=\"Assignment-1-1\"><span class=\"toc-item-num\">1&nbsp;&nbsp;</span>Assignment 1</a></span><ul class=\"toc-item\"><li><span><a href=\"#Titanic\" data-toc-modified-id=\"Titanic-1.1\"><span class=\"toc-item-num\">1.1&nbsp;&nbsp;</span>Titanic</a></span></li></ul></li><li><span><a href=\"#Data-Importing¶\" data-toc-modified-id=\"Data-Importing¶-2\"><span class=\"toc-item-num\">2&nbsp;&nbsp;</span>Data Importing¶</a></span></li><li><span><a href=\"#Exploratory-Data-Analysis\" data-toc-modified-id=\"Exploratory-Data-Analysis-3\"><span class=\"toc-item-num\">3&nbsp;&nbsp;</span>Exploratory Data Analysis</a></span></li><li><span><a href=\"#Data-Preparation\" data-toc-modified-id=\"Data-Preparation-4\"><span class=\"toc-item-num\">4&nbsp;&nbsp;</span>Data Preparation</a></span><ul class=\"toc-item\"><li><span><a href=\"#Combine-Data\" data-toc-modified-id=\"Combine-Data-4.1\"><span class=\"toc-item-num\">4.1&nbsp;&nbsp;</span>Combine Data</a></span></li><li><span><a href=\"#Extracting-Passenger-Titles\" data-toc-modified-id=\"Extracting-Passenger-Titles-4.2\"><span class=\"toc-item-num\">4.2&nbsp;&nbsp;</span>Extracting Passenger Titles</a></span></li><li><span><a href=\"#Processing-Age\" data-toc-modified-id=\"Processing-Age-4.3\"><span class=\"toc-item-num\">4.3&nbsp;&nbsp;</span>Processing Age</a></span></li><li><span><a href=\"#Processing-Name\" data-toc-modified-id=\"Processing-Name-4.4\"><span class=\"toc-item-num\">4.4&nbsp;&nbsp;</span>Processing Name</a></span></li><li><span><a href=\"#Processing-Fare\" data-toc-modified-id=\"Processing-Fare-4.5\"><span class=\"toc-item-num\">4.5&nbsp;&nbsp;</span>Processing Fare</a></span></li><li><span><a href=\"#Processing-Embarked\" data-toc-modified-id=\"Processing-Embarked-4.6\"><span class=\"toc-item-num\">4.6&nbsp;&nbsp;</span>Processing Embarked</a></span></li><li><span><a href=\"#Processing-Cabin\" data-toc-modified-id=\"Processing-Cabin-4.7\"><span class=\"toc-item-num\">4.7&nbsp;&nbsp;</span>Processing Cabin</a></span></li><li><span><a href=\"#Processing-Sex\" data-toc-modified-id=\"Processing-Sex-4.8\"><span class=\"toc-item-num\">4.8&nbsp;&nbsp;</span>Processing Sex</a></span></li><li><span><a href=\"#Creating-Family-Feature\" data-toc-modified-id=\"Creating-Family-Feature-4.9\"><span class=\"toc-item-num\">4.9&nbsp;&nbsp;</span>Creating Family Feature</a></span></li></ul></li><li><span><a href=\"#Feature-Selection\" data-toc-modified-id=\"Feature-Selection-5\"><span class=\"toc-item-num\">5&nbsp;&nbsp;</span>Feature Selection</a></span></li><li><span><a href=\"#Score-and-Evaluate-Model¶\" data-toc-modified-id=\"Score-and-Evaluate-Model¶-6\"><span class=\"toc-item-num\">6&nbsp;&nbsp;</span>Score and Evaluate Model¶</a></span><ul class=\"toc-item\"><li><span><a href=\"#Score-Model-and-Evaluate-Model-with-Logistic-Regression:\" data-toc-modified-id=\"Score-Model-and-Evaluate-Model-with-Logistic-Regression:-6.1\"><span class=\"toc-item-num\">6.1&nbsp;&nbsp;</span>Score Model and Evaluate Model with Logistic Regression:</a></span></li><li><span><a href=\"#Score-Model-and-Evaluate-Model-with-Random-Forest:\" data-toc-modified-id=\"Score-Model-and-Evaluate-Model-with-Random-Forest:-6.2\"><span class=\"toc-item-num\">6.2&nbsp;&nbsp;</span>Score Model and Evaluate Model with Random Forest:</a></span></li><li><span><a href=\"#Score-Model-and-Evaluate-Model-with-K-Nearest-Neighbours:\" data-toc-modified-id=\"Score-Model-and-Evaluate-Model-with-K-Nearest-Neighbours:-6.3\"><span class=\"toc-item-num\">6.3&nbsp;&nbsp;</span>Score Model and Evaluate Model with K Nearest Neighbours:</a></span></li></ul></li><li><span><a href=\"#Tuning-Hyperparameters\" data-toc-modified-id=\"Tuning-Hyperparameters-7\"><span class=\"toc-item-num\">7&nbsp;&nbsp;</span>Tuning Hyperparameters</a></span><ul class=\"toc-item\"><li><span><a href=\"#Tuning-Random-Forest\" data-toc-modified-id=\"Tuning-Random-Forest-7.1\"><span class=\"toc-item-num\">7.1&nbsp;&nbsp;</span>Tuning Random Forest</a></span></li><li><span><a href=\"#Tuning-Logistic-Regression\" data-toc-modified-id=\"Tuning-Logistic-Regression-7.2\"><span class=\"toc-item-num\">7.2&nbsp;&nbsp;</span>Tuning Logistic Regression</a></span></li><li><span><a href=\"#Tuning-K-Nearest-Neighbours\" data-toc-modified-id=\"Tuning-K-Nearest-Neighbours-7.3\"><span class=\"toc-item-num\">7.3&nbsp;&nbsp;</span>Tuning K Nearest Neighbours</a></span></li></ul></li><li><span><a href=\"#Submitting-to-Kaggle\" data-toc-modified-id=\"Submitting-to-Kaggle-8\"><span class=\"toc-item-num\">8&nbsp;&nbsp;</span>Submitting to Kaggle</a></span></li><li><span><a href=\"#Conclusions\" data-toc-modified-id=\"Conclusions-9\"><span class=\"toc-item-num\">9&nbsp;&nbsp;</span>Conclusions</a></span><ul class=\"toc-item\"><li><span><a href=\"#Report\" data-toc-modified-id=\"Report-9.1\"><span class=\"toc-item-num\">9.1&nbsp;&nbsp;</span>Report</a></span></li></ul></li><li><span><a href=\"#References\" data-toc-modified-id=\"References-10\"><span class=\"toc-item-num\">10&nbsp;&nbsp;</span>References</a></span></li></ul></div>"
   ]
  },
  {
   "cell_type": "markdown",
   "metadata": {
    "colab_type": "text",
    "hide_input": false,
    "id": "r9hRGnVTzS-s"
   },
   "source": [
    "# Assignment 1\n",
    "Name : Dannon Choo <br>\n",
    "Admin No.: P1922503"
   ]
  },
  {
   "cell_type": "markdown",
   "metadata": {
    "colab_type": "text",
    "id": "39pMVfQDzS-t"
   },
   "source": [
    "## Titanic\n",
    "- For this problem, use only 1 target output variable (Survived)\n",
    "- Prepare the data and perform necessary feature engineering\n",
    "- Create **_at least two models_** \n",
    "- Evaluate the models and pick the best candidate\n",
    "- Form some conclusions"
   ]
  },
  {
   "cell_type": "code",
   "execution_count": 3,
   "metadata": {
    "colab": {},
    "colab_type": "code",
    "id": "nJf8kl96zS-v"
   },
   "outputs": [],
   "source": [
    "# shift-tab to show docstring: highlight and shift-tab: format\n",
    "#?zip()\n",
    "#%lsmagic\n",
    "# Suppress Future Warnings\n",
    "import warnings\n",
    "#warnings.simplefilter(action='ignore', category=FutureWarning)\n",
    "warnings.filterwarnings('ignore')"
   ]
  },
  {
   "cell_type": "markdown",
   "metadata": {
    "colab_type": "text",
    "id": "TmhuhkeXzS-3"
   },
   "source": [
    "# Data Importing¶"
   ]
  },
  {
   "cell_type": "code",
   "execution_count": 4,
   "metadata": {
    "colab": {
     "base_uri": "https://localhost:8080/",
     "height": 151
    },
    "colab_type": "code",
    "executionInfo": {
     "elapsed": 3554,
     "status": "ok",
     "timestamp": 1591345872705,
     "user": {
      "displayName": "Dannon Choo",
      "photoUrl": "https://lh3.googleusercontent.com/a-/AOh14GhdtUj67GQ_ikEO4rMJN8QzdjQQ8Kv1CIGFq2ib=s64",
      "userId": "13104822539939925533"
     },
     "user_tz": -480
    },
    "id": "Vo7XyEP_zS-4",
    "outputId": "79d59176-13e9-4ad7-9730-9ea8c299a822"
   },
   "outputs": [
    {
     "name": "stdout",
     "output_type": "stream",
     "text": [
      "************************\n",
      "        Versions        \n",
      "************************\n",
      "Scikit-learn version=0.23.1\n",
      "Numpy version=1.18.5\n",
      "Pandas version=1.0.5\n",
      "Matplotlib version=3.2.2\n",
      "Python version=3.8.3\n"
     ]
    }
   ],
   "source": [
    "import sklearn\n",
    "import numpy as np\n",
    "import pandas as pd\n",
    "import matplotlib\n",
    "import platform\n",
    "\n",
    "message=\"        Versions        \"\n",
    "print(\"*\"*len(message))\n",
    "print(message)\n",
    "print(\"*\"*len(message))\n",
    "print(\"Scikit-learn version={}\".format(sklearn.__version__))\n",
    "print(\"Numpy version={}\".format(np.__version__))\n",
    "print(\"Pandas version={}\".format(pd.__version__))\n",
    "print(\"Matplotlib version={}\".format(matplotlib.__version__))\n",
    "print(\"Python version={}\".format(platform.python_version()))"
   ]
  },
  {
   "cell_type": "code",
   "execution_count": 6,
   "metadata": {
    "colab": {},
    "colab_type": "code",
    "id": "Bsr1g4nqzS-9"
   },
   "outputs": [],
   "source": [
    "import numpy as np\n",
    "import pandas as pd\n",
    "from sklearn import datasets \n",
    "from matplotlib import pyplot as plt\n",
    "import seaborn as sns\n",
    "import pickle\n",
    "%matplotlib inline\n",
    "from sklearn.preprocessing import StandardScaler, LabelEncoder\n",
    "from sklearn.ensemble import RandomForestClassifier\n",
    "from sklearn.linear_model import LogisticRegression\n",
    "from sklearn.neighbors import KNeighborsClassifier\n",
    "from sklearn.feature_selection import SelectKBest\n",
    "from sklearn.model_selection import StratifiedKFold\n",
    "from sklearn.model_selection import GridSearchCV\n",
    "from sklearn.model_selection import learning_curve\n",
    "from sklearn.model_selection import cross_val_score, cross_val_predict\n",
    "from sklearn.feature_selection import SelectFromModel\n",
    "from sklearn.metrics import classification_report, confusion_matrix, plot_roc_curve, auc"
   ]
  },
  {
   "cell_type": "code",
   "execution_count": 7,
   "metadata": {
    "colab": {},
    "colab_type": "code",
    "id": "Om3uIVsdzS_B"
   },
   "outputs": [],
   "source": [
    "data = pd.read_csv(\"train.csv\")"
   ]
  },
  {
   "cell_type": "code",
   "execution_count": 8,
   "metadata": {
    "colab": {
     "base_uri": "https://localhost:8080/",
     "height": 34
    },
    "colab_type": "code",
    "executionInfo": {
     "elapsed": 3544,
     "status": "ok",
     "timestamp": 1591345872707,
     "user": {
      "displayName": "Dannon Choo",
      "photoUrl": "https://lh3.googleusercontent.com/a-/AOh14GhdtUj67GQ_ikEO4rMJN8QzdjQQ8Kv1CIGFq2ib=s64",
      "userId": "13104822539939925533"
     },
     "user_tz": -480
    },
    "id": "ooC38gkgzS_E",
    "outputId": "8ffb0ec8-8bb5-43d7-8c36-3c5b8668286b"
   },
   "outputs": [
    {
     "data": {
      "text/plain": [
       "(897, 12)"
      ]
     },
     "execution_count": 8,
     "metadata": {},
     "output_type": "execute_result"
    }
   ],
   "source": [
    "data.shape"
   ]
  },
  {
   "cell_type": "code",
   "execution_count": 9,
   "metadata": {
    "colab": {
     "base_uri": "https://localhost:8080/",
     "height": 195
    },
    "colab_type": "code",
    "executionInfo": {
     "elapsed": 3542,
     "status": "ok",
     "timestamp": 1591345872707,
     "user": {
      "displayName": "Dannon Choo",
      "photoUrl": "https://lh3.googleusercontent.com/a-/AOh14GhdtUj67GQ_ikEO4rMJN8QzdjQQ8Kv1CIGFq2ib=s64",
      "userId": "13104822539939925533"
     },
     "user_tz": -480
    },
    "id": "k0qWfaPOzS_H",
    "outputId": "d0140fd9-1278-4f0a-c957-a92eb509ba05"
   },
   "outputs": [
    {
     "data": {
      "text/html": [
       "<div>\n",
       "<style scoped>\n",
       "    .dataframe tbody tr th:only-of-type {\n",
       "        vertical-align: middle;\n",
       "    }\n",
       "\n",
       "    .dataframe tbody tr th {\n",
       "        vertical-align: top;\n",
       "    }\n",
       "\n",
       "    .dataframe thead th {\n",
       "        text-align: right;\n",
       "    }\n",
       "</style>\n",
       "<table border=\"1\" class=\"dataframe\">\n",
       "  <thead>\n",
       "    <tr style=\"text-align: right;\">\n",
       "      <th></th>\n",
       "      <th>PassengerId</th>\n",
       "      <th>Survived</th>\n",
       "      <th>Pclass</th>\n",
       "      <th>Name</th>\n",
       "      <th>Sex</th>\n",
       "      <th>Age</th>\n",
       "      <th>SibSp</th>\n",
       "      <th>Parch</th>\n",
       "      <th>Ticket</th>\n",
       "      <th>Fare</th>\n",
       "      <th>Cabin</th>\n",
       "      <th>Embarked</th>\n",
       "    </tr>\n",
       "  </thead>\n",
       "  <tbody>\n",
       "    <tr>\n",
       "      <th>0</th>\n",
       "      <td>1</td>\n",
       "      <td>1</td>\n",
       "      <td>1</td>\n",
       "      <td>Beckwith, Mrs. Richard Leonard (Sallie Monypeny)</td>\n",
       "      <td>female</td>\n",
       "      <td>47.0</td>\n",
       "      <td>1</td>\n",
       "      <td>1</td>\n",
       "      <td>11751</td>\n",
       "      <td>52.5542</td>\n",
       "      <td>D35</td>\n",
       "      <td>S</td>\n",
       "    </tr>\n",
       "    <tr>\n",
       "      <th>1</th>\n",
       "      <td>2</td>\n",
       "      <td>1</td>\n",
       "      <td>1</td>\n",
       "      <td>Behr, Mr. Karl Howell</td>\n",
       "      <td>male</td>\n",
       "      <td>26.0</td>\n",
       "      <td>0</td>\n",
       "      <td>0</td>\n",
       "      <td>111369</td>\n",
       "      <td>30.0000</td>\n",
       "      <td>C148</td>\n",
       "      <td>C</td>\n",
       "    </tr>\n",
       "    <tr>\n",
       "      <th>2</th>\n",
       "      <td>3</td>\n",
       "      <td>1</td>\n",
       "      <td>1</td>\n",
       "      <td>Bidois, Miss. Rosalie</td>\n",
       "      <td>female</td>\n",
       "      <td>42.0</td>\n",
       "      <td>0</td>\n",
       "      <td>0</td>\n",
       "      <td>PC 17757</td>\n",
       "      <td>227.5250</td>\n",
       "      <td>NaN</td>\n",
       "      <td>C</td>\n",
       "    </tr>\n",
       "    <tr>\n",
       "      <th>3</th>\n",
       "      <td>4</td>\n",
       "      <td>1</td>\n",
       "      <td>1</td>\n",
       "      <td>Bird, Miss. Ellen</td>\n",
       "      <td>female</td>\n",
       "      <td>29.0</td>\n",
       "      <td>0</td>\n",
       "      <td>0</td>\n",
       "      <td>PC 17483</td>\n",
       "      <td>221.7792</td>\n",
       "      <td>C97</td>\n",
       "      <td>S</td>\n",
       "    </tr>\n",
       "    <tr>\n",
       "      <th>4</th>\n",
       "      <td>5</td>\n",
       "      <td>0</td>\n",
       "      <td>1</td>\n",
       "      <td>Birnbaum, Mr. Jakob</td>\n",
       "      <td>male</td>\n",
       "      <td>25.0</td>\n",
       "      <td>0</td>\n",
       "      <td>0</td>\n",
       "      <td>13905</td>\n",
       "      <td>26.0000</td>\n",
       "      <td>NaN</td>\n",
       "      <td>C</td>\n",
       "    </tr>\n",
       "  </tbody>\n",
       "</table>\n",
       "</div>"
      ],
      "text/plain": [
       "   PassengerId  Survived  Pclass  \\\n",
       "0            1         1       1   \n",
       "1            2         1       1   \n",
       "2            3         1       1   \n",
       "3            4         1       1   \n",
       "4            5         0       1   \n",
       "\n",
       "                                               Name     Sex   Age  SibSp  \\\n",
       "0  Beckwith, Mrs. Richard Leonard (Sallie Monypeny)  female  47.0      1   \n",
       "1                             Behr, Mr. Karl Howell    male  26.0      0   \n",
       "2                             Bidois, Miss. Rosalie  female  42.0      0   \n",
       "3                                 Bird, Miss. Ellen  female  29.0      0   \n",
       "4                               Birnbaum, Mr. Jakob    male  25.0      0   \n",
       "\n",
       "   Parch    Ticket      Fare Cabin Embarked  \n",
       "0      1     11751   52.5542   D35        S  \n",
       "1      0    111369   30.0000  C148        C  \n",
       "2      0  PC 17757  227.5250   NaN        C  \n",
       "3      0  PC 17483  221.7792   C97        S  \n",
       "4      0     13905   26.0000   NaN        C  "
      ]
     },
     "execution_count": 9,
     "metadata": {},
     "output_type": "execute_result"
    }
   ],
   "source": [
    "train = pd.read_csv(\"train.csv\")\n",
    "train[:5]"
   ]
  },
  {
   "cell_type": "code",
   "execution_count": 10,
   "metadata": {
    "colab": {
     "base_uri": "https://localhost:8080/",
     "height": 195
    },
    "colab_type": "code",
    "executionInfo": {
     "elapsed": 3540,
     "status": "ok",
     "timestamp": 1591345872708,
     "user": {
      "displayName": "Dannon Choo",
      "photoUrl": "https://lh3.googleusercontent.com/a-/AOh14GhdtUj67GQ_ikEO4rMJN8QzdjQQ8Kv1CIGFq2ib=s64",
      "userId": "13104822539939925533"
     },
     "user_tz": -480
    },
    "id": "iMXuHQ8UzS_K",
    "outputId": "b78e0829-80a1-4e25-ba4b-72f61ce899b9"
   },
   "outputs": [
    {
     "data": {
      "text/html": [
       "<div>\n",
       "<style scoped>\n",
       "    .dataframe tbody tr th:only-of-type {\n",
       "        vertical-align: middle;\n",
       "    }\n",
       "\n",
       "    .dataframe tbody tr th {\n",
       "        vertical-align: top;\n",
       "    }\n",
       "\n",
       "    .dataframe thead th {\n",
       "        text-align: right;\n",
       "    }\n",
       "</style>\n",
       "<table border=\"1\" class=\"dataframe\">\n",
       "  <thead>\n",
       "    <tr style=\"text-align: right;\">\n",
       "      <th></th>\n",
       "      <th>PassengerId</th>\n",
       "      <th>Pclass</th>\n",
       "      <th>Name</th>\n",
       "      <th>Sex</th>\n",
       "      <th>Age</th>\n",
       "      <th>SibSp</th>\n",
       "      <th>Parch</th>\n",
       "      <th>Ticket</th>\n",
       "      <th>Fare</th>\n",
       "      <th>Cabin</th>\n",
       "      <th>Embarked</th>\n",
       "    </tr>\n",
       "  </thead>\n",
       "  <tbody>\n",
       "    <tr>\n",
       "      <th>0</th>\n",
       "      <td>6</td>\n",
       "      <td>1</td>\n",
       "      <td>Bishop, Mr. Dickinson H</td>\n",
       "      <td>male</td>\n",
       "      <td>25.0</td>\n",
       "      <td>1</td>\n",
       "      <td>0</td>\n",
       "      <td>11967</td>\n",
       "      <td>91.0792</td>\n",
       "      <td>B49</td>\n",
       "      <td>C</td>\n",
       "    </tr>\n",
       "    <tr>\n",
       "      <th>1</th>\n",
       "      <td>8</td>\n",
       "      <td>1</td>\n",
       "      <td>Bissette, Miss. Amelia</td>\n",
       "      <td>female</td>\n",
       "      <td>35.0</td>\n",
       "      <td>0</td>\n",
       "      <td>0</td>\n",
       "      <td>PC 17760</td>\n",
       "      <td>135.6333</td>\n",
       "      <td>C99</td>\n",
       "      <td>S</td>\n",
       "    </tr>\n",
       "    <tr>\n",
       "      <th>2</th>\n",
       "      <td>9</td>\n",
       "      <td>1</td>\n",
       "      <td>Bjornstrom-Steffansson, Mr. Mauritz Hakan</td>\n",
       "      <td>male</td>\n",
       "      <td>28.0</td>\n",
       "      <td>0</td>\n",
       "      <td>0</td>\n",
       "      <td>110564</td>\n",
       "      <td>26.5500</td>\n",
       "      <td>C52</td>\n",
       "      <td>S</td>\n",
       "    </tr>\n",
       "    <tr>\n",
       "      <th>3</th>\n",
       "      <td>12</td>\n",
       "      <td>1</td>\n",
       "      <td>Bonnell, Miss. Caroline</td>\n",
       "      <td>female</td>\n",
       "      <td>30.0</td>\n",
       "      <td>0</td>\n",
       "      <td>0</td>\n",
       "      <td>36928</td>\n",
       "      <td>164.8667</td>\n",
       "      <td>C7</td>\n",
       "      <td>S</td>\n",
       "    </tr>\n",
       "    <tr>\n",
       "      <th>4</th>\n",
       "      <td>14</td>\n",
       "      <td>1</td>\n",
       "      <td>Borebank, Mr. John James</td>\n",
       "      <td>male</td>\n",
       "      <td>42.0</td>\n",
       "      <td>0</td>\n",
       "      <td>0</td>\n",
       "      <td>110489</td>\n",
       "      <td>26.5500</td>\n",
       "      <td>D22</td>\n",
       "      <td>S</td>\n",
       "    </tr>\n",
       "  </tbody>\n",
       "</table>\n",
       "</div>"
      ],
      "text/plain": [
       "   PassengerId  Pclass                                       Name     Sex  \\\n",
       "0            6       1                    Bishop, Mr. Dickinson H    male   \n",
       "1            8       1                     Bissette, Miss. Amelia  female   \n",
       "2            9       1  Bjornstrom-Steffansson, Mr. Mauritz Hakan    male   \n",
       "3           12       1                    Bonnell, Miss. Caroline  female   \n",
       "4           14       1                   Borebank, Mr. John James    male   \n",
       "\n",
       "    Age  SibSp  Parch    Ticket      Fare Cabin Embarked  \n",
       "0  25.0      1      0     11967   91.0792   B49        C  \n",
       "1  35.0      0      0  PC 17760  135.6333   C99        S  \n",
       "2  28.0      0      0    110564   26.5500   C52        S  \n",
       "3  30.0      0      0     36928  164.8667    C7        S  \n",
       "4  42.0      0      0    110489   26.5500   D22        S  "
      ]
     },
     "execution_count": 10,
     "metadata": {},
     "output_type": "execute_result"
    }
   ],
   "source": [
    "test = pd.read_csv(\"test.csv\")\n",
    "test[:5]"
   ]
  },
  {
   "cell_type": "code",
   "execution_count": 11,
   "metadata": {
    "colab": {
     "base_uri": "https://localhost:8080/",
     "height": 34
    },
    "colab_type": "code",
    "executionInfo": {
     "elapsed": 3538,
     "status": "ok",
     "timestamp": 1591345872709,
     "user": {
      "displayName": "Dannon Choo",
      "photoUrl": "https://lh3.googleusercontent.com/a-/AOh14GhdtUj67GQ_ikEO4rMJN8QzdjQQ8Kv1CIGFq2ib=s64",
      "userId": "13104822539939925533"
     },
     "user_tz": -480
    },
    "id": "45kZ_NzHzS_P",
    "outputId": "0486476f-34f4-4dd9-8739-7a0e9d01c818"
   },
   "outputs": [
    {
     "data": {
      "text/plain": [
       "(412, 11)"
      ]
     },
     "execution_count": 11,
     "metadata": {},
     "output_type": "execute_result"
    }
   ],
   "source": [
    "test.shape"
   ]
  },
  {
   "cell_type": "markdown",
   "metadata": {
    "colab_type": "text",
    "id": "2HqQwRZ8zS_R"
   },
   "source": [
    "# Exploratory Data Analysis"
   ]
  },
  {
   "cell_type": "code",
   "execution_count": 12,
   "metadata": {
    "colab": {
     "base_uri": "https://localhost:8080/",
     "height": 336
    },
    "colab_type": "code",
    "executionInfo": {
     "elapsed": 3535,
     "status": "ok",
     "timestamp": 1591345872709,
     "user": {
      "displayName": "Dannon Choo",
      "photoUrl": "https://lh3.googleusercontent.com/a-/AOh14GhdtUj67GQ_ikEO4rMJN8QzdjQQ8Kv1CIGFq2ib=s64",
      "userId": "13104822539939925533"
     },
     "user_tz": -480
    },
    "id": "zUnVPH3QzS_S",
    "outputId": "f116fde9-d7e7-41c0-93be-3afeca387fca"
   },
   "outputs": [
    {
     "name": "stdout",
     "output_type": "stream",
     "text": [
      "<class 'pandas.core.frame.DataFrame'>\n",
      "RangeIndex: 897 entries, 0 to 896\n",
      "Data columns (total 12 columns):\n",
      " #   Column       Non-Null Count  Dtype  \n",
      "---  ------       --------------  -----  \n",
      " 0   PassengerId  897 non-null    int64  \n",
      " 1   Survived     897 non-null    int64  \n",
      " 2   Pclass       897 non-null    int64  \n",
      " 3   Name         897 non-null    object \n",
      " 4   Sex          897 non-null    object \n",
      " 5   Age          724 non-null    float64\n",
      " 6   SibSp        897 non-null    int64  \n",
      " 7   Parch        897 non-null    int64  \n",
      " 8   Ticket       897 non-null    object \n",
      " 9   Fare         897 non-null    float64\n",
      " 10  Cabin        212 non-null    object \n",
      " 11  Embarked     895 non-null    object \n",
      "dtypes: float64(2), int64(5), object(5)\n",
      "memory usage: 84.2+ KB\n"
     ]
    }
   ],
   "source": [
    "train.info()"
   ]
  },
  {
   "cell_type": "code",
   "execution_count": 13,
   "metadata": {
    "colab": {
     "base_uri": "https://localhost:8080/",
     "height": 319
    },
    "colab_type": "code",
    "executionInfo": {
     "elapsed": 3534,
     "status": "ok",
     "timestamp": 1591345872710,
     "user": {
      "displayName": "Dannon Choo",
      "photoUrl": "https://lh3.googleusercontent.com/a-/AOh14GhdtUj67GQ_ikEO4rMJN8QzdjQQ8Kv1CIGFq2ib=s64",
      "userId": "13104822539939925533"
     },
     "user_tz": -480
    },
    "id": "KjM_1ixHzS_U",
    "outputId": "97a3ac4c-dbef-4026-c36a-213b31853692"
   },
   "outputs": [
    {
     "name": "stdout",
     "output_type": "stream",
     "text": [
      "<class 'pandas.core.frame.DataFrame'>\n",
      "RangeIndex: 412 entries, 0 to 411\n",
      "Data columns (total 11 columns):\n",
      " #   Column       Non-Null Count  Dtype  \n",
      "---  ------       --------------  -----  \n",
      " 0   PassengerId  412 non-null    int64  \n",
      " 1   Pclass       412 non-null    int64  \n",
      " 2   Name         412 non-null    object \n",
      " 3   Sex          412 non-null    object \n",
      " 4   Age          322 non-null    float64\n",
      " 5   SibSp        412 non-null    int64  \n",
      " 6   Parch        412 non-null    int64  \n",
      " 7   Ticket       412 non-null    object \n",
      " 8   Fare         411 non-null    float64\n",
      " 9   Cabin        83 non-null     object \n",
      " 10  Embarked     412 non-null    object \n",
      "dtypes: float64(2), int64(4), object(5)\n",
      "memory usage: 35.5+ KB\n"
     ]
    }
   ],
   "source": [
    "test.info()"
   ]
  },
  {
   "cell_type": "code",
   "execution_count": 14,
   "metadata": {
    "colab": {
     "base_uri": "https://localhost:8080/",
     "height": 235
    },
    "colab_type": "code",
    "executionInfo": {
     "elapsed": 3532,
     "status": "ok",
     "timestamp": 1591345872710,
     "user": {
      "displayName": "Dannon Choo",
      "photoUrl": "https://lh3.googleusercontent.com/a-/AOh14GhdtUj67GQ_ikEO4rMJN8QzdjQQ8Kv1CIGFq2ib=s64",
      "userId": "13104822539939925533"
     },
     "user_tz": -480
    },
    "id": "i5a-y93ZzS_Y",
    "outputId": "d002d6a2-3cdb-4771-c458-0aa9937e6360"
   },
   "outputs": [
    {
     "data": {
      "text/plain": [
       "PassengerId      0\n",
       "Survived         0\n",
       "Pclass           0\n",
       "Name             0\n",
       "Sex              0\n",
       "Age            173\n",
       "SibSp            0\n",
       "Parch            0\n",
       "Ticket           0\n",
       "Fare             0\n",
       "Cabin          685\n",
       "Embarked         2\n",
       "dtype: int64"
      ]
     },
     "execution_count": 14,
     "metadata": {},
     "output_type": "execute_result"
    }
   ],
   "source": [
    "train.isnull().sum()"
   ]
  },
  {
   "cell_type": "code",
   "execution_count": 15,
   "metadata": {
    "colab": {
     "base_uri": "https://localhost:8080/",
     "height": 218
    },
    "colab_type": "code",
    "executionInfo": {
     "elapsed": 3530,
     "status": "ok",
     "timestamp": 1591345872711,
     "user": {
      "displayName": "Dannon Choo",
      "photoUrl": "https://lh3.googleusercontent.com/a-/AOh14GhdtUj67GQ_ikEO4rMJN8QzdjQQ8Kv1CIGFq2ib=s64",
      "userId": "13104822539939925533"
     },
     "user_tz": -480
    },
    "id": "1a0svOSVzS_a",
    "outputId": "972d8dfc-590b-4f5b-c88a-4dfbecf58dd5"
   },
   "outputs": [
    {
     "data": {
      "text/plain": [
       "PassengerId      0\n",
       "Pclass           0\n",
       "Name             0\n",
       "Sex              0\n",
       "Age             90\n",
       "SibSp            0\n",
       "Parch            0\n",
       "Ticket           0\n",
       "Fare             1\n",
       "Cabin          329\n",
       "Embarked         0\n",
       "dtype: int64"
      ]
     },
     "execution_count": 15,
     "metadata": {},
     "output_type": "execute_result"
    }
   ],
   "source": [
    "test.isnull().sum()"
   ]
  },
  {
   "cell_type": "code",
   "execution_count": 16,
   "metadata": {
    "colab": {
     "base_uri": "https://localhost:8080/",
     "height": 50
    },
    "colab_type": "code",
    "executionInfo": {
     "elapsed": 3528,
     "status": "ok",
     "timestamp": 1591345872711,
     "user": {
      "displayName": "Dannon Choo",
      "photoUrl": "https://lh3.googleusercontent.com/a-/AOh14GhdtUj67GQ_ikEO4rMJN8QzdjQQ8Kv1CIGFq2ib=s64",
      "userId": "13104822539939925533"
     },
     "user_tz": -480
    },
    "id": "4BhSfp0DzS_c",
    "outputId": "ffb2cedb-07a9-45b8-f655-87f229d77b8d"
   },
   "outputs": [
    {
     "name": "stdout",
     "output_type": "stream",
     "text": [
      "['PassengerId', 'Survived', 'Pclass', 'Age', 'SibSp', 'Parch', 'Fare']\n",
      "['Name', 'Sex', 'Ticket', 'Cabin', 'Embarked']\n"
     ]
    }
   ],
   "source": [
    "# Get list of numeric and nonnumeric variables\n",
    "numvars = list(train.columns[train.dtypes != \"object\"])\n",
    "nonnumvars = list(train.columns[train.dtypes == \"object\"])\n",
    "print(numvars)\n",
    "print(nonnumvars)"
   ]
  },
  {
   "cell_type": "code",
   "execution_count": 17,
   "metadata": {
    "colab": {
     "base_uri": "https://localhost:8080/",
     "height": 50
    },
    "colab_type": "code",
    "executionInfo": {
     "elapsed": 3526,
     "status": "ok",
     "timestamp": 1591345872712,
     "user": {
      "displayName": "Dannon Choo",
      "photoUrl": "https://lh3.googleusercontent.com/a-/AOh14GhdtUj67GQ_ikEO4rMJN8QzdjQQ8Kv1CIGFq2ib=s64",
      "userId": "13104822539939925533"
     },
     "user_tz": -480
    },
    "id": "bWZ7SsJXzS_e",
    "outputId": "0225ff66-ffb6-4a58-babb-085676a34724"
   },
   "outputs": [
    {
     "name": "stdout",
     "output_type": "stream",
     "text": [
      "['Pclass', 'Age', 'SibSp', 'Parch', 'Fare']\n",
      "['Sex', 'Cabin', 'Embarked']\n"
     ]
    }
   ],
   "source": [
    "# Do some further exploration on list to get list of features used\n",
    "numvars.remove('PassengerId')\n",
    "numvars.remove('Survived')\n",
    "numfeats = numvars\n",
    "print(numfeats)\n",
    "\n",
    "#nonnumvars.remove('Cabin')\n",
    "nonnumvars.remove('Name')\n",
    "nonnumvars.remove('Ticket')\n",
    "nonnumfeats = nonnumvars\n",
    "print(nonnumfeats)"
   ]
  },
  {
   "cell_type": "code",
   "execution_count": 18,
   "metadata": {
    "colab": {},
    "colab_type": "code",
    "id": "1MhYSeWfzS_g"
   },
   "outputs": [],
   "source": [
    "def bar_chart(feature):\n",
    "    survived = train[train['Survived']==1][feature].value_counts()\n",
    "    dead = train[train['Survived']==0][feature].value_counts()\n",
    "    df = pd.DataFrame([survived,dead])\n",
    "    df.index = ['Survived','Dead']\n",
    "    df.plot(kind='bar',stacked=True, figsize=(10,5))"
   ]
  },
  {
   "cell_type": "code",
   "execution_count": 19,
   "metadata": {
    "colab": {
     "base_uri": "https://localhost:8080/",
     "height": 354
    },
    "colab_type": "code",
    "executionInfo": {
     "elapsed": 3521,
     "status": "ok",
     "timestamp": 1591345872712,
     "user": {
      "displayName": "Dannon Choo",
      "photoUrl": "https://lh3.googleusercontent.com/a-/AOh14GhdtUj67GQ_ikEO4rMJN8QzdjQQ8Kv1CIGFq2ib=s64",
      "userId": "13104822539939925533"
     },
     "user_tz": -480
    },
    "id": "MwXfMnvOzS_i",
    "outputId": "4cd9695d-77cf-4854-d031-985f2adbb328"
   },
   "outputs": [
    {
     "data": {
      "image/png": "[encoded data removed]",
      "text/plain": [
       "<Figure size 720x360 with 1 Axes>"
      ]
     },
     "metadata": {
      "needs_background": "light"
     },
     "output_type": "display_data"
    }
   ],
   "source": [
    "#Pclass\n",
    "bar_chart('Pclass')"
   ]
  },
  {
   "cell_type": "markdown",
   "metadata": {
    "colab_type": "text",
    "id": "5_WhwXF-zS_j"
   },
   "source": [
    "- Majority of passengers who were in 1st class survived\n",
    "- Majority of passengers who were in 3rd class died"
   ]
  },
  {
   "cell_type": "code",
   "execution_count": 20,
   "metadata": {
    "colab": {
     "base_uri": "https://localhost:8080/",
     "height": 354
    },
    "colab_type": "code",
    "executionInfo": {
     "elapsed": 4163,
     "status": "ok",
     "timestamp": 1591345873356,
     "user": {
      "displayName": "Dannon Choo",
      "photoUrl": "https://lh3.googleusercontent.com/a-/AOh14GhdtUj67GQ_ikEO4rMJN8QzdjQQ8Kv1CIGFq2ib=s64",
      "userId": "13104822539939925533"
     },
     "user_tz": -480
    },
    "id": "Fo7tf_CxzS_k",
    "outputId": "efb9c1d0-9cbb-48d2-c091-199a7329fdbf"
   },
   "outputs": [
    {
     "data": {
      "image/png": "[encoded data removed]",
      "text/plain": [
       "<Figure size 720x360 with 1 Axes>"
      ]
     },
     "metadata": {
      "needs_background": "light"
     },
     "output_type": "display_data"
    }
   ],
   "source": [
    "#Gender\n",
    "bar_chart('Sex')"
   ]
  },
  {
   "cell_type": "markdown",
   "metadata": {
    "colab_type": "text",
    "id": "4fqAiPiMzS_m"
   },
   "source": [
    "- More females survived compared to males\n",
    "- There were more males than females on the titanic"
   ]
  },
  {
   "cell_type": "code",
   "execution_count": 21,
   "metadata": {
    "colab": {
     "base_uri": "https://localhost:8080/",
     "height": 354
    },
    "colab_type": "code",
    "executionInfo": {
     "elapsed": 4159,
     "status": "ok",
     "timestamp": 1591345873356,
     "user": {
      "displayName": "Dannon Choo",
      "photoUrl": "https://lh3.googleusercontent.com/a-/AOh14GhdtUj67GQ_ikEO4rMJN8QzdjQQ8Kv1CIGFq2ib=s64",
      "userId": "13104822539939925533"
     },
     "user_tz": -480
    },
    "id": "beM8XAEFzS_m",
    "outputId": "4eb4b0d8-fd9a-4440-ec17-b81071124f67"
   },
   "outputs": [
    {
     "data": {
      "image/png": "[encoded data removed]",
      "text/plain": [
       "<Figure size 720x360 with 1 Axes>"
      ]
     },
     "metadata": {
      "needs_background": "light"
     },
     "output_type": "display_data"
    }
   ],
   "source": [
    "#SibSp\n",
    "bar_chart('SibSp')"
   ]
  },
  {
   "cell_type": "markdown",
   "metadata": {
    "colab_type": "text",
    "id": "HIagYSd6zS_o"
   },
   "source": [
    "- Majority of passengers with no siblings or spouse died\n",
    "- Most passengers were on the titanic without siblings or spouses"
   ]
  },
  {
   "cell_type": "code",
   "execution_count": 22,
   "metadata": {
    "colab": {
     "base_uri": "https://localhost:8080/",
     "height": 354
    },
    "colab_type": "code",
    "executionInfo": {
     "elapsed": 4156,
     "status": "ok",
     "timestamp": 1591345873357,
     "user": {
      "displayName": "Dannon Choo",
      "photoUrl": "https://lh3.googleusercontent.com/a-/AOh14GhdtUj67GQ_ikEO4rMJN8QzdjQQ8Kv1CIGFq2ib=s64",
      "userId": "13104822539939925533"
     },
     "user_tz": -480
    },
    "id": "s_UjF4tUzS_o",
    "outputId": "c61a043d-a78b-470f-b199-0e6569e3935a"
   },
   "outputs": [
    {
     "data": {
      "image/png": "[encoded data removed]",
      "text/plain": [
       "<Figure size 720x360 with 1 Axes>"
      ]
     },
     "metadata": {
      "needs_background": "light"
     },
     "output_type": "display_data"
    }
   ],
   "source": [
    "#Parch\n",
    "bar_chart('Parch')"
   ]
  },
  {
   "cell_type": "markdown",
   "metadata": {
    "colab_type": "text",
    "id": "CR_FPI4XzS_q"
   },
   "source": [
    "- Majority of passengers with no parents or children with them died\n",
    "- Majority of passengers on the titanic boarded without parents or children"
   ]
  },
  {
   "cell_type": "code",
   "execution_count": 23,
   "metadata": {
    "colab": {
     "base_uri": "https://localhost:8080/",
     "height": 354
    },
    "colab_type": "code",
    "executionInfo": {
     "elapsed": 4599,
     "status": "ok",
     "timestamp": 1591345873804,
     "user": {
      "displayName": "Dannon Choo",
      "photoUrl": "https://lh3.googleusercontent.com/a-/AOh14GhdtUj67GQ_ikEO4rMJN8QzdjQQ8Kv1CIGFq2ib=s64",
      "userId": "13104822539939925533"
     },
     "user_tz": -480
    },
    "id": "pNVuNX4bzS_r",
    "outputId": "af48da03-ae3f-4abd-9323-224c1a1fddeb"
   },
   "outputs": [
    {
     "data": {
      "image/png": "[encoded data removed]",
      "text/plain": [
       "<Figure size 720x360 with 1 Axes>"
      ]
     },
     "metadata": {
      "needs_background": "light"
     },
     "output_type": "display_data"
    }
   ],
   "source": [
    "#Embarked\n",
    "bar_chart('Embarked')"
   ]
  },
  {
   "cell_type": "markdown",
   "metadata": {
    "colab_type": "text",
    "id": "BOIshXVhzS_t"
   },
   "source": [
    "- Majority of the passengers embarked from Southampton\n",
    "- Passengers who embarked from Southampton were more likely to die\n",
    "- Majority of passenger who embarked from Cherbourg survived"
   ]
  },
  {
   "cell_type": "code",
   "execution_count": 24,
   "metadata": {
    "colab": {
     "base_uri": "https://localhost:8080/",
     "height": 248
    },
    "colab_type": "code",
    "executionInfo": {
     "elapsed": 4598,
     "status": "ok",
     "timestamp": 1591345873805,
     "user": {
      "displayName": "Dannon Choo",
      "photoUrl": "https://lh3.googleusercontent.com/a-/AOh14GhdtUj67GQ_ikEO4rMJN8QzdjQQ8Kv1CIGFq2ib=s64",
      "userId": "13104822539939925533"
     },
     "user_tz": -480
    },
    "id": "n2nROpRMzS_u",
    "outputId": "952cadab-efc8-46ac-f91d-a790d0aabe3b"
   },
   "outputs": [
    {
     "data": {
      "image/png": "[encoded data removed]",
      "text/plain": [
       "<Figure size 432x288 with 1 Axes>"
      ]
     },
     "metadata": {},
     "output_type": "display_data"
    }
   ],
   "source": [
    "sns.set(style=\"whitegrid\")\n",
    "ax = sns.boxplot(y=train[\"Age\"])"
   ]
  },
  {
   "cell_type": "markdown",
   "metadata": {
    "colab_type": "text",
    "id": "jexEaZBuzS_y"
   },
   "source": [
    "- There are outliers above the age of around 68\n",
    "- The median age is around 28\n",
    "- The first quartile and third quartile is around 21 and 39 respectively"
   ]
  },
  {
   "cell_type": "code",
   "execution_count": 25,
   "metadata": {
    "colab": {
     "base_uri": "https://localhost:8080/",
     "height": 285
    },
    "colab_type": "code",
    "executionInfo": {
     "elapsed": 5074,
     "status": "ok",
     "timestamp": 1591345874291,
     "user": {
      "displayName": "Dannon Choo",
      "photoUrl": "https://lh3.googleusercontent.com/a-/AOh14GhdtUj67GQ_ikEO4rMJN8QzdjQQ8Kv1CIGFq2ib=s64",
      "userId": "13104822539939925533"
     },
     "user_tz": -480
    },
    "id": "hG5Hu65bzS_y",
    "outputId": "f2f5b0b2-9067-4331-9b98-383efef2a4c0"
   },
   "outputs": [
    {
     "data": {
      "text/plain": [
       "<matplotlib.axes._subplots.AxesSubplot at 0x1fcf35781f0>"
      ]
     },
     "execution_count": 25,
     "metadata": {},
     "output_type": "execute_result"
    },
    {
     "data": {
      "image/png": "[encoded data removed]",
      "text/plain": [
       "<Figure size 432x288 with 1 Axes>"
      ]
     },
     "metadata": {},
     "output_type": "display_data"
    }
   ],
   "source": [
    "train['Age'].hist(bins=10)"
   ]
  },
  {
   "cell_type": "markdown",
   "metadata": {
    "colab_type": "text",
    "id": "yldVzJ4UzS_1"
   },
   "source": [
    "- The ages are positively skewed"
   ]
  },
  {
   "cell_type": "code",
   "execution_count": 26,
   "metadata": {
    "colab": {
     "base_uri": "https://localhost:8080/",
     "height": 331
    },
    "colab_type": "code",
    "executionInfo": {
     "elapsed": 6154,
     "status": "ok",
     "timestamp": 1591345875374,
     "user": {
      "displayName": "Dannon Choo",
      "photoUrl": "https://lh3.googleusercontent.com/a-/AOh14GhdtUj67GQ_ikEO4rMJN8QzdjQQ8Kv1CIGFq2ib=s64",
      "userId": "13104822539939925533"
     },
     "user_tz": -480
    },
    "id": "k0mm0UaPzS_1",
    "outputId": "3640976a-b8a7-48e3-c456-4400dee13807",
    "scrolled": true
   },
   "outputs": [
    {
     "data": {
      "text/plain": [
       "Text(0.5, 1.0, 'Male')"
      ]
     },
     "execution_count": 26,
     "metadata": {},
     "output_type": "execute_result"
    },
    {
     "data": {
      "image/png": "[encoded data removed]",
      "text/plain": [
       "<Figure size 720x288 with 2 Axes>"
      ]
     },
     "metadata": {},
     "output_type": "display_data"
    }
   ],
   "source": [
    "fig, axes = plt.subplots(nrows=1, ncols=2,figsize=(10, 4))\n",
    "fig.suptitle('Histogram of people who survived and died for each gender')\n",
    "\n",
    "female = train[train['Sex']=='female']\n",
    "male = train[train['Sex']=='male']\n",
    "\n",
    "ax = sns.distplot(female[female['Survived']==1]['Age'].dropna(), bins=18, label = 'survived', ax = axes[0], kde =False)\n",
    "ax = sns.distplot(female[female['Survived']==0]['Age'].dropna(), bins=40, label = 'died', ax = axes[0], kde =False)\n",
    "ax.legend()\n",
    "ax.set_title('Female')\n",
    "\n",
    "ax = sns.distplot(male[male['Survived']==1]['Age'].dropna(), bins=18, label = 'survived', ax = axes[1], kde = False)\n",
    "ax = sns.distplot(male[male['Survived']==0]['Age'].dropna(), bins=40, label = 'died', ax = axes[1], kde = False)\n",
    "ax.legend()\n",
    "ax.set_title('Male')"
   ]
  },
  {
   "cell_type": "markdown",
   "metadata": {
    "colab_type": "text",
    "id": "VyKv11Y4zS_4"
   },
   "source": [
    "- Majority of females survived the titanic and has a median age of around 25\n",
    "- Majority of males died during the titanic and had a median age of around 22\n",
    "- Majority of male and female children (around 0-4 years old) survived the titanic"
   ]
  },
  {
   "cell_type": "markdown",
   "metadata": {
    "colab_type": "text",
    "id": "62zQNd_TzS_5"
   },
   "source": [
    "# Data Preparation"
   ]
  },
  {
   "cell_type": "markdown",
   "metadata": {
    "colab_type": "text",
    "id": "vzDo7bvXzS_5"
   },
   "source": [
    "## Combine Data"
   ]
  },
  {
   "cell_type": "code",
   "execution_count": 30,
   "metadata": {
    "colab": {
     "base_uri": "https://localhost:8080/"
    },
    "colab_type": "code",
    "executionInfo": {
     "elapsed": 6151,
     "status": "ok",
     "timestamp": 1591345875375,
     "user": {
      "displayName": "Dannon Choo",
      "photoUrl": "https://lh3.googleusercontent.com/a-/AOh14GhdtUj67GQ_ikEO4rMJN8QzdjQQ8Kv1CIGFq2ib=s64",
      "userId": "13104822539939925533"
     },
     "user_tz": -480
    },
    "id": "iFvI-qjRzS_6",
    "outputId": "34f54ece-5eb6-41c6-8d89-7ea583191fa6"
   },
   "outputs": [
    {
     "data": {
      "text/html": [
       "<div>\n",
       "<style scoped>\n",
       "    .dataframe tbody tr th:only-of-type {\n",
       "        vertical-align: middle;\n",
       "    }\n",
       "\n",
       "    .dataframe tbody tr th {\n",
       "        vertical-align: top;\n",
       "    }\n",
       "\n",
       "    .dataframe thead th {\n",
       "        text-align: right;\n",
       "    }\n",
       "</style>\n",
       "<table border=\"1\" class=\"dataframe\">\n",
       "  <thead>\n",
       "    <tr style=\"text-align: right;\">\n",
       "      <th></th>\n",
       "      <th>Pclass</th>\n",
       "      <th>Name</th>\n",
       "      <th>Sex</th>\n",
       "      <th>Age</th>\n",
       "      <th>SibSp</th>\n",
       "      <th>Parch</th>\n",
       "      <th>Ticket</th>\n",
       "      <th>Fare</th>\n",
       "      <th>Cabin</th>\n",
       "      <th>Embarked</th>\n",
       "    </tr>\n",
       "  </thead>\n",
       "  <tbody>\n",
       "    <tr>\n",
       "      <th>0</th>\n",
       "      <td>1</td>\n",
       "      <td>Beckwith, Mrs. Richard Leonard (Sallie Monypeny)</td>\n",
       "      <td>female</td>\n",
       "      <td>47.0</td>\n",
       "      <td>1</td>\n",
       "      <td>1</td>\n",
       "      <td>11751</td>\n",
       "      <td>52.5542</td>\n",
       "      <td>D35</td>\n",
       "      <td>S</td>\n",
       "    </tr>\n",
       "    <tr>\n",
       "      <th>1</th>\n",
       "      <td>1</td>\n",
       "      <td>Behr, Mr. Karl Howell</td>\n",
       "      <td>male</td>\n",
       "      <td>26.0</td>\n",
       "      <td>0</td>\n",
       "      <td>0</td>\n",
       "      <td>111369</td>\n",
       "      <td>30.0000</td>\n",
       "      <td>C148</td>\n",
       "      <td>C</td>\n",
       "    </tr>\n",
       "    <tr>\n",
       "      <th>2</th>\n",
       "      <td>1</td>\n",
       "      <td>Bidois, Miss. Rosalie</td>\n",
       "      <td>female</td>\n",
       "      <td>42.0</td>\n",
       "      <td>0</td>\n",
       "      <td>0</td>\n",
       "      <td>PC 17757</td>\n",
       "      <td>227.5250</td>\n",
       "      <td>NaN</td>\n",
       "      <td>C</td>\n",
       "    </tr>\n",
       "    <tr>\n",
       "      <th>3</th>\n",
       "      <td>1</td>\n",
       "      <td>Bird, Miss. Ellen</td>\n",
       "      <td>female</td>\n",
       "      <td>29.0</td>\n",
       "      <td>0</td>\n",
       "      <td>0</td>\n",
       "      <td>PC 17483</td>\n",
       "      <td>221.7792</td>\n",
       "      <td>C97</td>\n",
       "      <td>S</td>\n",
       "    </tr>\n",
       "    <tr>\n",
       "      <th>4</th>\n",
       "      <td>1</td>\n",
       "      <td>Birnbaum, Mr. Jakob</td>\n",
       "      <td>male</td>\n",
       "      <td>25.0</td>\n",
       "      <td>0</td>\n",
       "      <td>0</td>\n",
       "      <td>13905</td>\n",
       "      <td>26.0000</td>\n",
       "      <td>NaN</td>\n",
       "      <td>C</td>\n",
       "    </tr>\n",
       "  </tbody>\n",
       "</table>\n",
       "</div>"
      ],
      "text/plain": [
       "   Pclass                                              Name     Sex   Age  \\\n",
       "0       1  Beckwith, Mrs. Richard Leonard (Sallie Monypeny)  female  47.0   \n",
       "1       1                             Behr, Mr. Karl Howell    male  26.0   \n",
       "2       1                             Bidois, Miss. Rosalie  female  42.0   \n",
       "3       1                                 Bird, Miss. Ellen  female  29.0   \n",
       "4       1                               Birnbaum, Mr. Jakob    male  25.0   \n",
       "\n",
       "   SibSp  Parch    Ticket      Fare Cabin Embarked  \n",
       "0      1      1     11751   52.5542   D35        S  \n",
       "1      0      0    111369   30.0000  C148        C  \n",
       "2      0      0  PC 17757  227.5250   NaN        C  \n",
       "3      0      0  PC 17483  221.7792   C97        S  \n",
       "4      0      0     13905   26.0000   NaN        C  "
      ]
     },
     "execution_count": 30,
     "metadata": {},
     "output_type": "execute_result"
    }
   ],
   "source": [
    "# combine data\n",
    "def combine_data():\n",
    "    train = pd.read_csv('train.csv')\n",
    "    test = pd.read_csv('test.csv')\n",
    "\n",
    "    # remove survived column from training data \n",
    "    targets = train['Survived']\n",
    "    train.drop(['Survived'], 1, inplace=True)\n",
    "    \n",
    "    # merging for future feature engineering\n",
    "    # remove the PassengerID\n",
    "    total = train.append(test)\n",
    "    total.reset_index(inplace=True)\n",
    "    total.drop(['index', 'PassengerId'], inplace=True, axis=1)\n",
    "    \n",
    "    return total\n",
    "\n",
    "total = combine_data()\n",
    "total.head()"
   ]
  },
  {
   "cell_type": "markdown",
   "metadata": {
    "colab_type": "text",
    "id": "kzEtdT6azS__"
   },
   "source": [
    "## Extracting Passenger Titles"
   ]
  },
  {
   "cell_type": "code",
   "execution_count": 31,
   "metadata": {
    "colab": {
     "base_uri": "https://localhost:8080/",
     "height": 34
    },
    "colab_type": "code",
    "executionInfo": {
     "elapsed": 6149,
     "status": "ok",
     "timestamp": 1591345875376,
     "user": {
      "displayName": "Dannon Choo",
      "photoUrl": "https://lh3.googleusercontent.com/a-/AOh14GhdtUj67GQ_ikEO4rMJN8QzdjQQ8Kv1CIGFq2ib=s64",
      "userId": "13104822539939925533"
     },
     "user_tz": -480
    },
    "id": "ZSZpOnwVzTAA",
    "outputId": "6d02688e-c570-4ca0-9432-e672501a5a9d"
   },
   "outputs": [
    {
     "name": "stdout",
     "output_type": "stream",
     "text": [
      "{'Ms', 'Mlle', 'Col', 'Lady', 'Mrs', 'Jonkheer', 'Dr', 'Miss', 'Rev', 'Master', 'the Countess', 'Major', 'Mr', 'Mme', 'Capt'}\n"
     ]
    }
   ],
   "source": [
    "#Passenger title\n",
    "titles = set()\n",
    "for name in data['Name']:\n",
    "    titles.add(name.split(',')[1].split('.')[0].strip())\n",
    "\n",
    "print(titles)"
   ]
  },
  {
   "cell_type": "code",
   "execution_count": 32,
   "metadata": {
    "colab": {
     "base_uri": "https://localhost:8080/",
     "height": 195
    },
    "colab_type": "code",
    "executionInfo": {
     "elapsed": 6146,
     "status": "ok",
     "timestamp": 1591345875376,
     "user": {
      "displayName": "Dannon Choo",
      "photoUrl": "https://lh3.googleusercontent.com/a-/AOh14GhdtUj67GQ_ikEO4rMJN8QzdjQQ8Kv1CIGFq2ib=s64",
      "userId": "13104822539939925533"
     },
     "user_tz": -480
    },
    "id": "HBnzvCvLzTAF",
    "outputId": "bea465cb-bdba-401c-cb09-343c69649ecc"
   },
   "outputs": [
    {
     "data": {
      "text/html": [
       "<div>\n",
       "<style scoped>\n",
       "    .dataframe tbody tr th:only-of-type {\n",
       "        vertical-align: middle;\n",
       "    }\n",
       "\n",
       "    .dataframe tbody tr th {\n",
       "        vertical-align: top;\n",
       "    }\n",
       "\n",
       "    .dataframe thead th {\n",
       "        text-align: right;\n",
       "    }\n",
       "</style>\n",
       "<table border=\"1\" class=\"dataframe\">\n",
       "  <thead>\n",
       "    <tr style=\"text-align: right;\">\n",
       "      <th></th>\n",
       "      <th>Pclass</th>\n",
       "      <th>Name</th>\n",
       "      <th>Sex</th>\n",
       "      <th>Age</th>\n",
       "      <th>SibSp</th>\n",
       "      <th>Parch</th>\n",
       "      <th>Ticket</th>\n",
       "      <th>Fare</th>\n",
       "      <th>Cabin</th>\n",
       "      <th>Embarked</th>\n",
       "      <th>Title</th>\n",
       "    </tr>\n",
       "  </thead>\n",
       "  <tbody>\n",
       "    <tr>\n",
       "      <th>0</th>\n",
       "      <td>1</td>\n",
       "      <td>Beckwith, Mrs. Richard Leonard (Sallie Monypeny)</td>\n",
       "      <td>female</td>\n",
       "      <td>47.0</td>\n",
       "      <td>1</td>\n",
       "      <td>1</td>\n",
       "      <td>11751</td>\n",
       "      <td>52.5542</td>\n",
       "      <td>D35</td>\n",
       "      <td>S</td>\n",
       "      <td>Mrs</td>\n",
       "    </tr>\n",
       "    <tr>\n",
       "      <th>1</th>\n",
       "      <td>1</td>\n",
       "      <td>Behr, Mr. Karl Howell</td>\n",
       "      <td>male</td>\n",
       "      <td>26.0</td>\n",
       "      <td>0</td>\n",
       "      <td>0</td>\n",
       "      <td>111369</td>\n",
       "      <td>30.0000</td>\n",
       "      <td>C148</td>\n",
       "      <td>C</td>\n",
       "      <td>Mr</td>\n",
       "    </tr>\n",
       "    <tr>\n",
       "      <th>2</th>\n",
       "      <td>1</td>\n",
       "      <td>Bidois, Miss. Rosalie</td>\n",
       "      <td>female</td>\n",
       "      <td>42.0</td>\n",
       "      <td>0</td>\n",
       "      <td>0</td>\n",
       "      <td>PC 17757</td>\n",
       "      <td>227.5250</td>\n",
       "      <td>NaN</td>\n",
       "      <td>C</td>\n",
       "      <td>Miss</td>\n",
       "    </tr>\n",
       "    <tr>\n",
       "      <th>3</th>\n",
       "      <td>1</td>\n",
       "      <td>Bird, Miss. Ellen</td>\n",
       "      <td>female</td>\n",
       "      <td>29.0</td>\n",
       "      <td>0</td>\n",
       "      <td>0</td>\n",
       "      <td>PC 17483</td>\n",
       "      <td>221.7792</td>\n",
       "      <td>C97</td>\n",
       "      <td>S</td>\n",
       "      <td>Miss</td>\n",
       "    </tr>\n",
       "    <tr>\n",
       "      <th>4</th>\n",
       "      <td>1</td>\n",
       "      <td>Birnbaum, Mr. Jakob</td>\n",
       "      <td>male</td>\n",
       "      <td>25.0</td>\n",
       "      <td>0</td>\n",
       "      <td>0</td>\n",
       "      <td>13905</td>\n",
       "      <td>26.0000</td>\n",
       "      <td>NaN</td>\n",
       "      <td>C</td>\n",
       "      <td>Mr</td>\n",
       "    </tr>\n",
       "  </tbody>\n",
       "</table>\n",
       "</div>"
      ],
      "text/plain": [
       "   Pclass                                              Name     Sex   Age  \\\n",
       "0       1  Beckwith, Mrs. Richard Leonard (Sallie Monypeny)  female  47.0   \n",
       "1       1                             Behr, Mr. Karl Howell    male  26.0   \n",
       "2       1                             Bidois, Miss. Rosalie  female  42.0   \n",
       "3       1                                 Bird, Miss. Ellen  female  29.0   \n",
       "4       1                               Birnbaum, Mr. Jakob    male  25.0   \n",
       "\n",
       "   SibSp  Parch    Ticket      Fare Cabin Embarked Title  \n",
       "0      1      1     11751   52.5542   D35        S   Mrs  \n",
       "1      0      0    111369   30.0000  C148        C    Mr  \n",
       "2      0      0  PC 17757  227.5250   NaN        C  Miss  \n",
       "3      0      0  PC 17483  221.7792   C97        S  Miss  \n",
       "4      0      0     13905   26.0000   NaN        C    Mr  "
      ]
     },
     "execution_count": 32,
     "metadata": {},
     "output_type": "execute_result"
    }
   ],
   "source": [
    "#Split titles into Mr,Mrs,Miss\n",
    "\n",
    "Title_Dictionary = {\n",
    "    \"Capt\": \"Mr\",\n",
    "    \"Col\": \"Mr\",\n",
    "    \"Major\": \"Mr\",\n",
    "    \"Jonkheer\": \"Mr\",\n",
    "    \"Don\": \"Mr\",\n",
    "    \"Sir\" : \"Mr\",\n",
    "    \"Dr\": \"Dr\",\n",
    "    \"Rev\": \"Rev\",\n",
    "    \"the Countess\":\"Mrs\",\n",
    "    \"Mme\": \"Mrs\",\n",
    "    \"Mlle\": \"Miss\",\n",
    "    \"Ms\": \"Mrs\",\n",
    "    \"Mr\" : \"Mr\",\n",
    "    \"Mrs\" : \"Mrs\",\n",
    "    \"Miss\" : \"Miss\",\n",
    "    \"Master\" : \"Master\",\n",
    "    \"Lady\" : \"Mrs\"\n",
    "}\n",
    "\n",
    "\n",
    "def get_titles():\n",
    "    # Extract the title from each name\n",
    "    total['Title'] = total['Name'].map(lambda name:name.split(',')[1].split('.')[0].strip())\n",
    "    \n",
    "    total['Title'] = total.Title.map(Title_Dictionary)\n",
    "    return total\n",
    "\n",
    "total = get_titles()\n",
    "total.head()"
   ]
  },
  {
   "cell_type": "code",
   "execution_count": 33,
   "metadata": {
    "colab": {
     "base_uri": "https://localhost:8080/",
     "height": 77
    },
    "colab_type": "code",
    "executionInfo": {
     "elapsed": 6143,
     "status": "ok",
     "timestamp": 1591345875377,
     "user": {
      "displayName": "Dannon Choo",
      "photoUrl": "https://lh3.googleusercontent.com/a-/AOh14GhdtUj67GQ_ikEO4rMJN8QzdjQQ8Kv1CIGFq2ib=s64",
      "userId": "13104822539939925533"
     },
     "user_tz": -480
    },
    "id": "PLe6RG-7zTAI",
    "outputId": "4eb08a9d-b89b-442b-a7b2-4a04469c29e4"
   },
   "outputs": [
    {
     "data": {
      "text/html": [
       "<div>\n",
       "<style scoped>\n",
       "    .dataframe tbody tr th:only-of-type {\n",
       "        vertical-align: middle;\n",
       "    }\n",
       "\n",
       "    .dataframe tbody tr th {\n",
       "        vertical-align: top;\n",
       "    }\n",
       "\n",
       "    .dataframe thead th {\n",
       "        text-align: right;\n",
       "    }\n",
       "</style>\n",
       "<table border=\"1\" class=\"dataframe\">\n",
       "  <thead>\n",
       "    <tr style=\"text-align: right;\">\n",
       "      <th></th>\n",
       "      <th>Pclass</th>\n",
       "      <th>Name</th>\n",
       "      <th>Sex</th>\n",
       "      <th>Age</th>\n",
       "      <th>SibSp</th>\n",
       "      <th>Parch</th>\n",
       "      <th>Ticket</th>\n",
       "      <th>Fare</th>\n",
       "      <th>Cabin</th>\n",
       "      <th>Embarked</th>\n",
       "      <th>Title</th>\n",
       "    </tr>\n",
       "  </thead>\n",
       "  <tbody>\n",
       "    <tr>\n",
       "      <th>955</th>\n",
       "      <td>1</td>\n",
       "      <td>Oliva y Ocana, Dona. Fermina</td>\n",
       "      <td>female</td>\n",
       "      <td>39.0</td>\n",
       "      <td>0</td>\n",
       "      <td>0</td>\n",
       "      <td>PC 17758</td>\n",
       "      <td>108.9</td>\n",
       "      <td>C105</td>\n",
       "      <td>C</td>\n",
       "      <td>NaN</td>\n",
       "    </tr>\n",
       "  </tbody>\n",
       "</table>\n",
       "</div>"
      ],
      "text/plain": [
       "     Pclass                          Name     Sex   Age  SibSp  Parch  \\\n",
       "955       1  Oliva y Ocana, Dona. Fermina  female  39.0      0      0   \n",
       "\n",
       "       Ticket   Fare Cabin Embarked Title  \n",
       "955  PC 17758  108.9  C105        C   NaN  "
      ]
     },
     "execution_count": 33,
     "metadata": {},
     "output_type": "execute_result"
    }
   ],
   "source": [
    "#check null for titles\n",
    "total[total['Title'].isnull()]"
   ]
  },
  {
   "cell_type": "markdown",
   "metadata": {
    "colab_type": "text",
    "id": "x4sM2WqhzTAK"
   },
   "source": [
    "## Processing Age"
   ]
  },
  {
   "cell_type": "code",
   "execution_count": 34,
   "metadata": {
    "colab": {
     "base_uri": "https://localhost:8080/",
     "height": 50
    },
    "colab_type": "code",
    "executionInfo": {
     "elapsed": 6140,
     "status": "ok",
     "timestamp": 1591345875377,
     "user": {
      "displayName": "Dannon Choo",
      "photoUrl": "https://lh3.googleusercontent.com/a-/AOh14GhdtUj67GQ_ikEO4rMJN8QzdjQQ8Kv1CIGFq2ib=s64",
      "userId": "13104822539939925533"
     },
     "user_tz": -480
    },
    "id": "45d1jGBuzTAL",
    "outputId": "a7373a05-c326-465a-b2e6-e7c2e816ebd4"
   },
   "outputs": [
    {
     "name": "stdout",
     "output_type": "stream",
     "text": [
      "Null age values in train: 173\n",
      "Null age values in test: 90\n"
     ]
    }
   ],
   "source": [
    "#number of null values in train and test\n",
    "print(\"Null age values in train: {}\".format(total.iloc[:897].Age.isnull().sum()))\n",
    "print(\"Null age values in test: {}\".format(total.iloc[897:].Age.isnull().sum()))"
   ]
  },
  {
   "cell_type": "code",
   "execution_count": 35,
   "metadata": {
    "colab": {
     "base_uri": "https://localhost:8080/",
     "height": 195
    },
    "colab_type": "code",
    "executionInfo": {
     "elapsed": 6138,
     "status": "ok",
     "timestamp": 1591345875378,
     "user": {
      "displayName": "Dannon Choo",
      "photoUrl": "https://lh3.googleusercontent.com/a-/AOh14GhdtUj67GQ_ikEO4rMJN8QzdjQQ8Kv1CIGFq2ib=s64",
      "userId": "13104822539939925533"
     },
     "user_tz": -480
    },
    "id": "cGHTmpeqzTAO",
    "outputId": "3c5667d7-59fd-4223-8da8-e98727161c72"
   },
   "outputs": [
    {
     "data": {
      "text/html": [
       "<div>\n",
       "<style scoped>\n",
       "    .dataframe tbody tr th:only-of-type {\n",
       "        vertical-align: middle;\n",
       "    }\n",
       "\n",
       "    .dataframe tbody tr th {\n",
       "        vertical-align: top;\n",
       "    }\n",
       "\n",
       "    .dataframe thead th {\n",
       "        text-align: right;\n",
       "    }\n",
       "</style>\n",
       "<table border=\"1\" class=\"dataframe\">\n",
       "  <thead>\n",
       "    <tr style=\"text-align: right;\">\n",
       "      <th></th>\n",
       "      <th>Sex</th>\n",
       "      <th>Title</th>\n",
       "      <th>Age</th>\n",
       "    </tr>\n",
       "  </thead>\n",
       "  <tbody>\n",
       "    <tr>\n",
       "      <th>0</th>\n",
       "      <td>female</td>\n",
       "      <td>Dr</td>\n",
       "      <td>49.0</td>\n",
       "    </tr>\n",
       "    <tr>\n",
       "      <th>1</th>\n",
       "      <td>female</td>\n",
       "      <td>Miss</td>\n",
       "      <td>22.0</td>\n",
       "    </tr>\n",
       "    <tr>\n",
       "      <th>2</th>\n",
       "      <td>female</td>\n",
       "      <td>Mrs</td>\n",
       "      <td>36.0</td>\n",
       "    </tr>\n",
       "    <tr>\n",
       "      <th>3</th>\n",
       "      <td>male</td>\n",
       "      <td>Dr</td>\n",
       "      <td>47.0</td>\n",
       "    </tr>\n",
       "    <tr>\n",
       "      <th>4</th>\n",
       "      <td>male</td>\n",
       "      <td>Master</td>\n",
       "      <td>5.5</td>\n",
       "    </tr>\n",
       "  </tbody>\n",
       "</table>\n",
       "</div>"
      ],
      "text/plain": [
       "      Sex   Title   Age\n",
       "0  female      Dr  49.0\n",
       "1  female    Miss  22.0\n",
       "2  female     Mrs  36.0\n",
       "3    male      Dr  47.0\n",
       "4    male  Master   5.5"
      ]
     },
     "execution_count": 35,
     "metadata": {},
     "output_type": "execute_result"
    }
   ],
   "source": [
    "#Find median age by grouping columns\n",
    "grouped_train = total.iloc[:897].groupby(['Sex','Title'])\n",
    "grouped_median_train = grouped_train.median()\n",
    "grouped_median_train = grouped_median_train.reset_index()[['Sex', 'Title', 'Age']]\n",
    "\n",
    "grouped_median_train.head()"
   ]
  },
  {
   "cell_type": "code",
   "execution_count": 36,
   "metadata": {
    "colab": {
     "base_uri": "https://localhost:8080/",
     "height": 195
    },
    "colab_type": "code",
    "executionInfo": {
     "elapsed": 6746,
     "status": "ok",
     "timestamp": 1591345875989,
     "user": {
      "displayName": "Dannon Choo",
      "photoUrl": "https://lh3.googleusercontent.com/a-/AOh14GhdtUj67GQ_ikEO4rMJN8QzdjQQ8Kv1CIGFq2ib=s64",
      "userId": "13104822539939925533"
     },
     "user_tz": -480
    },
    "id": "ZqcTDREHzTAQ",
    "outputId": "5df0bbd5-460f-4c24-ebf8-d69014b3da93"
   },
   "outputs": [
    {
     "data": {
      "text/html": [
       "<div>\n",
       "<style scoped>\n",
       "    .dataframe tbody tr th:only-of-type {\n",
       "        vertical-align: middle;\n",
       "    }\n",
       "\n",
       "    .dataframe tbody tr th {\n",
       "        vertical-align: top;\n",
       "    }\n",
       "\n",
       "    .dataframe thead th {\n",
       "        text-align: right;\n",
       "    }\n",
       "</style>\n",
       "<table border=\"1\" class=\"dataframe\">\n",
       "  <thead>\n",
       "    <tr style=\"text-align: right;\">\n",
       "      <th></th>\n",
       "      <th>Pclass</th>\n",
       "      <th>Name</th>\n",
       "      <th>Sex</th>\n",
       "      <th>Age</th>\n",
       "      <th>SibSp</th>\n",
       "      <th>Parch</th>\n",
       "      <th>Ticket</th>\n",
       "      <th>Fare</th>\n",
       "      <th>Cabin</th>\n",
       "      <th>Embarked</th>\n",
       "      <th>Title</th>\n",
       "    </tr>\n",
       "  </thead>\n",
       "  <tbody>\n",
       "    <tr>\n",
       "      <th>0</th>\n",
       "      <td>1</td>\n",
       "      <td>Beckwith, Mrs. Richard Leonard (Sallie Monypeny)</td>\n",
       "      <td>female</td>\n",
       "      <td>47.0</td>\n",
       "      <td>1</td>\n",
       "      <td>1</td>\n",
       "      <td>11751</td>\n",
       "      <td>52.5542</td>\n",
       "      <td>D35</td>\n",
       "      <td>S</td>\n",
       "      <td>Mrs</td>\n",
       "    </tr>\n",
       "    <tr>\n",
       "      <th>1</th>\n",
       "      <td>1</td>\n",
       "      <td>Behr, Mr. Karl Howell</td>\n",
       "      <td>male</td>\n",
       "      <td>26.0</td>\n",
       "      <td>0</td>\n",
       "      <td>0</td>\n",
       "      <td>111369</td>\n",
       "      <td>30.0000</td>\n",
       "      <td>C148</td>\n",
       "      <td>C</td>\n",
       "      <td>Mr</td>\n",
       "    </tr>\n",
       "    <tr>\n",
       "      <th>2</th>\n",
       "      <td>1</td>\n",
       "      <td>Bidois, Miss. Rosalie</td>\n",
       "      <td>female</td>\n",
       "      <td>42.0</td>\n",
       "      <td>0</td>\n",
       "      <td>0</td>\n",
       "      <td>PC 17757</td>\n",
       "      <td>227.5250</td>\n",
       "      <td>NaN</td>\n",
       "      <td>C</td>\n",
       "      <td>Miss</td>\n",
       "    </tr>\n",
       "    <tr>\n",
       "      <th>3</th>\n",
       "      <td>1</td>\n",
       "      <td>Bird, Miss. Ellen</td>\n",
       "      <td>female</td>\n",
       "      <td>29.0</td>\n",
       "      <td>0</td>\n",
       "      <td>0</td>\n",
       "      <td>PC 17483</td>\n",
       "      <td>221.7792</td>\n",
       "      <td>C97</td>\n",
       "      <td>S</td>\n",
       "      <td>Miss</td>\n",
       "    </tr>\n",
       "    <tr>\n",
       "      <th>4</th>\n",
       "      <td>1</td>\n",
       "      <td>Birnbaum, Mr. Jakob</td>\n",
       "      <td>male</td>\n",
       "      <td>25.0</td>\n",
       "      <td>0</td>\n",
       "      <td>0</td>\n",
       "      <td>13905</td>\n",
       "      <td>26.0000</td>\n",
       "      <td>NaN</td>\n",
       "      <td>C</td>\n",
       "      <td>Mr</td>\n",
       "    </tr>\n",
       "  </tbody>\n",
       "</table>\n",
       "</div>"
      ],
      "text/plain": [
       "   Pclass                                              Name     Sex   Age  \\\n",
       "0       1  Beckwith, Mrs. Richard Leonard (Sallie Monypeny)  female  47.0   \n",
       "1       1                             Behr, Mr. Karl Howell    male  26.0   \n",
       "2       1                             Bidois, Miss. Rosalie  female  42.0   \n",
       "3       1                                 Bird, Miss. Ellen  female  29.0   \n",
       "4       1                               Birnbaum, Mr. Jakob    male  25.0   \n",
       "\n",
       "   SibSp  Parch    Ticket      Fare Cabin Embarked Title  \n",
       "0      1      1     11751   52.5542   D35        S   Mrs  \n",
       "1      0      0    111369   30.0000  C148        C    Mr  \n",
       "2      0      0  PC 17757  227.5250   NaN        C  Miss  \n",
       "3      0      0  PC 17483  221.7792   C97        S  Miss  \n",
       "4      0      0     13905   26.0000   NaN        C    Mr  "
      ]
     },
     "execution_count": 36,
     "metadata": {},
     "output_type": "execute_result"
    }
   ],
   "source": [
    "#fill in null age values\n",
    "def fill_age(row):\n",
    "    condition = (\n",
    "        (grouped_median_train['Sex'] == row['Sex']) & \n",
    "        (grouped_median_train['Title'] == row['Title'])\n",
    "    ) \n",
    "    return grouped_median_train[condition]['Age'].values[0]\n",
    "\n",
    "\n",
    "def process_age():\n",
    "    global total\n",
    "    # Fill the null values of the Age\n",
    "    total['Age'] = total.apply(lambda row: fill_age(row) if np.isnan(row['Age']) else row['Age'], axis=1)\n",
    "    return total\n",
    "\n",
    "total = process_age()\n",
    "total.head()"
   ]
  },
  {
   "cell_type": "code",
   "execution_count": 37,
   "metadata": {
    "colab": {
     "base_uri": "https://localhost:8080/",
     "height": 195
    },
    "colab_type": "code",
    "executionInfo": {
     "elapsed": 6743,
     "status": "ok",
     "timestamp": 1591345875990,
     "user": {
      "displayName": "Dannon Choo",
      "photoUrl": "https://lh3.googleusercontent.com/a-/AOh14GhdtUj67GQ_ikEO4rMJN8QzdjQQ8Kv1CIGFq2ib=s64",
      "userId": "13104822539939925533"
     },
     "user_tz": -480
    },
    "id": "KPF0UXL9zTAU",
    "outputId": "842218ec-8980-4480-e3a0-87edf3c3f08f"
   },
   "outputs": [
    {
     "data": {
      "text/html": [
       "<div>\n",
       "<style scoped>\n",
       "    .dataframe tbody tr th:only-of-type {\n",
       "        vertical-align: middle;\n",
       "    }\n",
       "\n",
       "    .dataframe tbody tr th {\n",
       "        vertical-align: top;\n",
       "    }\n",
       "\n",
       "    .dataframe thead th {\n",
       "        text-align: right;\n",
       "    }\n",
       "</style>\n",
       "<table border=\"1\" class=\"dataframe\">\n",
       "  <thead>\n",
       "    <tr style=\"text-align: right;\">\n",
       "      <th></th>\n",
       "      <th>Pclass</th>\n",
       "      <th>Name</th>\n",
       "      <th>Sex</th>\n",
       "      <th>Age</th>\n",
       "      <th>SibSp</th>\n",
       "      <th>Parch</th>\n",
       "      <th>Ticket</th>\n",
       "      <th>Fare</th>\n",
       "      <th>Cabin</th>\n",
       "      <th>Embarked</th>\n",
       "      <th>Title</th>\n",
       "      <th>AgeBinnedEncoded</th>\n",
       "    </tr>\n",
       "  </thead>\n",
       "  <tbody>\n",
       "    <tr>\n",
       "      <th>0</th>\n",
       "      <td>1</td>\n",
       "      <td>Beckwith, Mrs. Richard Leonard (Sallie Monypeny)</td>\n",
       "      <td>female</td>\n",
       "      <td>47.0</td>\n",
       "      <td>1</td>\n",
       "      <td>1</td>\n",
       "      <td>11751</td>\n",
       "      <td>52.5542</td>\n",
       "      <td>D35</td>\n",
       "      <td>S</td>\n",
       "      <td>Mrs</td>\n",
       "      <td>3</td>\n",
       "    </tr>\n",
       "    <tr>\n",
       "      <th>1</th>\n",
       "      <td>1</td>\n",
       "      <td>Behr, Mr. Karl Howell</td>\n",
       "      <td>male</td>\n",
       "      <td>26.0</td>\n",
       "      <td>0</td>\n",
       "      <td>0</td>\n",
       "      <td>111369</td>\n",
       "      <td>30.0000</td>\n",
       "      <td>C148</td>\n",
       "      <td>C</td>\n",
       "      <td>Mr</td>\n",
       "      <td>1</td>\n",
       "    </tr>\n",
       "    <tr>\n",
       "      <th>2</th>\n",
       "      <td>1</td>\n",
       "      <td>Bidois, Miss. Rosalie</td>\n",
       "      <td>female</td>\n",
       "      <td>42.0</td>\n",
       "      <td>0</td>\n",
       "      <td>0</td>\n",
       "      <td>PC 17757</td>\n",
       "      <td>227.5250</td>\n",
       "      <td>NaN</td>\n",
       "      <td>C</td>\n",
       "      <td>Miss</td>\n",
       "      <td>3</td>\n",
       "    </tr>\n",
       "    <tr>\n",
       "      <th>3</th>\n",
       "      <td>1</td>\n",
       "      <td>Bird, Miss. Ellen</td>\n",
       "      <td>female</td>\n",
       "      <td>29.0</td>\n",
       "      <td>0</td>\n",
       "      <td>0</td>\n",
       "      <td>PC 17483</td>\n",
       "      <td>221.7792</td>\n",
       "      <td>C97</td>\n",
       "      <td>S</td>\n",
       "      <td>Miss</td>\n",
       "      <td>1</td>\n",
       "    </tr>\n",
       "    <tr>\n",
       "      <th>4</th>\n",
       "      <td>1</td>\n",
       "      <td>Birnbaum, Mr. Jakob</td>\n",
       "      <td>male</td>\n",
       "      <td>25.0</td>\n",
       "      <td>0</td>\n",
       "      <td>0</td>\n",
       "      <td>13905</td>\n",
       "      <td>26.0000</td>\n",
       "      <td>NaN</td>\n",
       "      <td>C</td>\n",
       "      <td>Mr</td>\n",
       "      <td>1</td>\n",
       "    </tr>\n",
       "  </tbody>\n",
       "</table>\n",
       "</div>"
      ],
      "text/plain": [
       "   Pclass                                              Name     Sex   Age  \\\n",
       "0       1  Beckwith, Mrs. Richard Leonard (Sallie Monypeny)  female  47.0   \n",
       "1       1                             Behr, Mr. Karl Howell    male  26.0   \n",
       "2       1                             Bidois, Miss. Rosalie  female  42.0   \n",
       "3       1                                 Bird, Miss. Ellen  female  29.0   \n",
       "4       1                               Birnbaum, Mr. Jakob    male  25.0   \n",
       "\n",
       "   SibSp  Parch    Ticket      Fare Cabin Embarked Title  AgeBinnedEncoded  \n",
       "0      1      1     11751   52.5542   D35        S   Mrs                 3  \n",
       "1      0      0    111369   30.0000  C148        C    Mr                 1  \n",
       "2      0      0  PC 17757  227.5250   NaN        C  Miss                 3  \n",
       "3      0      0  PC 17483  221.7792   C97        S  Miss                 1  \n",
       "4      0      0     13905   26.0000   NaN        C    Mr                 1  "
      ]
     },
     "execution_count": 37,
     "metadata": {},
     "output_type": "execute_result"
    }
   ],
   "source": [
    "#bin age into 4 groups\n",
    "def bin_age():\n",
    "    global total\n",
    "    \n",
    "    total['AgeBinned'] = pd.qcut(total['Age'], 4)\n",
    "    total['AgeBinnedEncoded'] = LabelEncoder().fit_transform(total['AgeBinned'])\n",
    "    total = total.drop(['AgeBinned'], axis=1)\n",
    "\n",
    "    return total\n",
    "\n",
    "total = bin_age()\n",
    "total.head()"
   ]
  },
  {
   "cell_type": "markdown",
   "metadata": {
    "colab_type": "text",
    "id": "MSWwco8EzTAW"
   },
   "source": [
    "## Processing Name"
   ]
  },
  {
   "cell_type": "code",
   "execution_count": 38,
   "metadata": {
    "colab": {
     "base_uri": "https://localhost:8080/",
     "height": 400
    },
    "colab_type": "code",
    "executionInfo": {
     "elapsed": 6739,
     "status": "ok",
     "timestamp": 1591345875990,
     "user": {
      "displayName": "Dannon Choo",
      "photoUrl": "https://lh3.googleusercontent.com/a-/AOh14GhdtUj67GQ_ikEO4rMJN8QzdjQQ8Kv1CIGFq2ib=s64",
      "userId": "13104822539939925533"
     },
     "user_tz": -480
    },
    "id": "7dIiOZ0jzTAX",
    "outputId": "fd0f1733-7ea1-463e-901b-dde2147f2b88"
   },
   "outputs": [
    {
     "data": {
      "text/html": [
       "<div>\n",
       "<style scoped>\n",
       "    .dataframe tbody tr th:only-of-type {\n",
       "        vertical-align: middle;\n",
       "    }\n",
       "\n",
       "    .dataframe tbody tr th {\n",
       "        vertical-align: top;\n",
       "    }\n",
       "\n",
       "    .dataframe thead th {\n",
       "        text-align: right;\n",
       "    }\n",
       "</style>\n",
       "<table border=\"1\" class=\"dataframe\">\n",
       "  <thead>\n",
       "    <tr style=\"text-align: right;\">\n",
       "      <th></th>\n",
       "      <th>Pclass</th>\n",
       "      <th>Name</th>\n",
       "      <th>Sex</th>\n",
       "      <th>Age</th>\n",
       "      <th>SibSp</th>\n",
       "      <th>Parch</th>\n",
       "      <th>Ticket</th>\n",
       "      <th>Fare</th>\n",
       "      <th>Cabin</th>\n",
       "      <th>Embarked</th>\n",
       "      <th>AgeBinnedEncoded</th>\n",
       "      <th>Title_Dr</th>\n",
       "      <th>Title_Master</th>\n",
       "      <th>Title_Miss</th>\n",
       "      <th>Title_Mr</th>\n",
       "      <th>Title_Mrs</th>\n",
       "      <th>Title_Rev</th>\n",
       "    </tr>\n",
       "  </thead>\n",
       "  <tbody>\n",
       "    <tr>\n",
       "      <th>0</th>\n",
       "      <td>1</td>\n",
       "      <td>Beckwith, Mrs. Richard Leonard (Sallie Monypeny)</td>\n",
       "      <td>female</td>\n",
       "      <td>47.0</td>\n",
       "      <td>1</td>\n",
       "      <td>1</td>\n",
       "      <td>11751</td>\n",
       "      <td>52.5542</td>\n",
       "      <td>D35</td>\n",
       "      <td>S</td>\n",
       "      <td>3</td>\n",
       "      <td>0</td>\n",
       "      <td>0</td>\n",
       "      <td>0</td>\n",
       "      <td>0</td>\n",
       "      <td>1</td>\n",
       "      <td>0</td>\n",
       "    </tr>\n",
       "    <tr>\n",
       "      <th>1</th>\n",
       "      <td>1</td>\n",
       "      <td>Behr, Mr. Karl Howell</td>\n",
       "      <td>male</td>\n",
       "      <td>26.0</td>\n",
       "      <td>0</td>\n",
       "      <td>0</td>\n",
       "      <td>111369</td>\n",
       "      <td>30.0000</td>\n",
       "      <td>C148</td>\n",
       "      <td>C</td>\n",
       "      <td>1</td>\n",
       "      <td>0</td>\n",
       "      <td>0</td>\n",
       "      <td>0</td>\n",
       "      <td>1</td>\n",
       "      <td>0</td>\n",
       "      <td>0</td>\n",
       "    </tr>\n",
       "    <tr>\n",
       "      <th>2</th>\n",
       "      <td>1</td>\n",
       "      <td>Bidois, Miss. Rosalie</td>\n",
       "      <td>female</td>\n",
       "      <td>42.0</td>\n",
       "      <td>0</td>\n",
       "      <td>0</td>\n",
       "      <td>PC 17757</td>\n",
       "      <td>227.5250</td>\n",
       "      <td>NaN</td>\n",
       "      <td>C</td>\n",
       "      <td>3</td>\n",
       "      <td>0</td>\n",
       "      <td>0</td>\n",
       "      <td>1</td>\n",
       "      <td>0</td>\n",
       "      <td>0</td>\n",
       "      <td>0</td>\n",
       "    </tr>\n",
       "    <tr>\n",
       "      <th>3</th>\n",
       "      <td>1</td>\n",
       "      <td>Bird, Miss. Ellen</td>\n",
       "      <td>female</td>\n",
       "      <td>29.0</td>\n",
       "      <td>0</td>\n",
       "      <td>0</td>\n",
       "      <td>PC 17483</td>\n",
       "      <td>221.7792</td>\n",
       "      <td>C97</td>\n",
       "      <td>S</td>\n",
       "      <td>1</td>\n",
       "      <td>0</td>\n",
       "      <td>0</td>\n",
       "      <td>1</td>\n",
       "      <td>0</td>\n",
       "      <td>0</td>\n",
       "      <td>0</td>\n",
       "    </tr>\n",
       "    <tr>\n",
       "      <th>4</th>\n",
       "      <td>1</td>\n",
       "      <td>Birnbaum, Mr. Jakob</td>\n",
       "      <td>male</td>\n",
       "      <td>25.0</td>\n",
       "      <td>0</td>\n",
       "      <td>0</td>\n",
       "      <td>13905</td>\n",
       "      <td>26.0000</td>\n",
       "      <td>NaN</td>\n",
       "      <td>C</td>\n",
       "      <td>1</td>\n",
       "      <td>0</td>\n",
       "      <td>0</td>\n",
       "      <td>0</td>\n",
       "      <td>1</td>\n",
       "      <td>0</td>\n",
       "      <td>0</td>\n",
       "    </tr>\n",
       "  </tbody>\n",
       "</table>\n",
       "</div>"
      ],
      "text/plain": [
       "   Pclass                                              Name     Sex   Age  \\\n",
       "0       1  Beckwith, Mrs. Richard Leonard (Sallie Monypeny)  female  47.0   \n",
       "1       1                             Behr, Mr. Karl Howell    male  26.0   \n",
       "2       1                             Bidois, Miss. Rosalie  female  42.0   \n",
       "3       1                                 Bird, Miss. Ellen  female  29.0   \n",
       "4       1                               Birnbaum, Mr. Jakob    male  25.0   \n",
       "\n",
       "   SibSp  Parch    Ticket      Fare Cabin Embarked  AgeBinnedEncoded  \\\n",
       "0      1      1     11751   52.5542   D35        S                 3   \n",
       "1      0      0    111369   30.0000  C148        C                 1   \n",
       "2      0      0  PC 17757  227.5250   NaN        C                 3   \n",
       "3      0      0  PC 17483  221.7792   C97        S                 1   \n",
       "4      0      0     13905   26.0000   NaN        C                 1   \n",
       "\n",
       "   Title_Dr  Title_Master  Title_Miss  Title_Mr  Title_Mrs  Title_Rev  \n",
       "0         0             0           0         0          1          0  \n",
       "1         0             0           0         1          0          0  \n",
       "2         0             0           1         0          0          0  \n",
       "3         0             0           1         0          0          0  \n",
       "4         0             0           0         1          0          0  "
      ]
     },
     "execution_count": 38,
     "metadata": {},
     "output_type": "execute_result"
    }
   ],
   "source": [
    "def process_names():\n",
    "    global total\n",
    "    \n",
    "    # turn titles into dummy variable\n",
    "    titles_dummies = pd.get_dummies(total['Title'], prefix='Title')\n",
    "    total = pd.concat([total, titles_dummies], axis=1)\n",
    "    \n",
    "    # removing the title variable\n",
    "    total.drop('Title', axis=1, inplace=True)\n",
    "    \n",
    "    return total\n",
    "\n",
    "total = process_names()\n",
    "total.head()"
   ]
  },
  {
   "cell_type": "code",
   "execution_count": 39,
   "metadata": {
    "colab": {
     "base_uri": "https://localhost:8080/",
     "height": 249
    },
    "colab_type": "code",
    "executionInfo": {
     "elapsed": 6737,
     "status": "ok",
     "timestamp": 1591345875991,
     "user": {
      "displayName": "Dannon Choo",
      "photoUrl": "https://lh3.googleusercontent.com/a-/AOh14GhdtUj67GQ_ikEO4rMJN8QzdjQQ8Kv1CIGFq2ib=s64",
      "userId": "13104822539939925533"
     },
     "user_tz": -480
    },
    "id": "aXei_iUDzTAZ",
    "outputId": "ccdd5751-728a-4b22-e303-0970b9dcbafb",
    "scrolled": true
   },
   "outputs": [
    {
     "data": {
      "text/html": [
       "<div>\n",
       "<style scoped>\n",
       "    .dataframe tbody tr th:only-of-type {\n",
       "        vertical-align: middle;\n",
       "    }\n",
       "\n",
       "    .dataframe tbody tr th {\n",
       "        vertical-align: top;\n",
       "    }\n",
       "\n",
       "    .dataframe thead th {\n",
       "        text-align: right;\n",
       "    }\n",
       "</style>\n",
       "<table border=\"1\" class=\"dataframe\">\n",
       "  <thead>\n",
       "    <tr style=\"text-align: right;\">\n",
       "      <th></th>\n",
       "      <th>Pclass</th>\n",
       "      <th>Sex</th>\n",
       "      <th>Age</th>\n",
       "      <th>SibSp</th>\n",
       "      <th>Parch</th>\n",
       "      <th>Ticket</th>\n",
       "      <th>Fare</th>\n",
       "      <th>Cabin</th>\n",
       "      <th>Embarked</th>\n",
       "      <th>AgeBinnedEncoded</th>\n",
       "      <th>Title_Dr</th>\n",
       "      <th>Title_Master</th>\n",
       "      <th>Title_Miss</th>\n",
       "      <th>Title_Mr</th>\n",
       "      <th>Title_Mrs</th>\n",
       "      <th>Title_Rev</th>\n",
       "    </tr>\n",
       "  </thead>\n",
       "  <tbody>\n",
       "    <tr>\n",
       "      <th>0</th>\n",
       "      <td>1</td>\n",
       "      <td>female</td>\n",
       "      <td>47.0</td>\n",
       "      <td>1</td>\n",
       "      <td>1</td>\n",
       "      <td>11751</td>\n",
       "      <td>52.5542</td>\n",
       "      <td>D35</td>\n",
       "      <td>S</td>\n",
       "      <td>3</td>\n",
       "      <td>0</td>\n",
       "      <td>0</td>\n",
       "      <td>0</td>\n",
       "      <td>0</td>\n",
       "      <td>1</td>\n",
       "      <td>0</td>\n",
       "    </tr>\n",
       "    <tr>\n",
       "      <th>1</th>\n",
       "      <td>1</td>\n",
       "      <td>male</td>\n",
       "      <td>26.0</td>\n",
       "      <td>0</td>\n",
       "      <td>0</td>\n",
       "      <td>111369</td>\n",
       "      <td>30.0000</td>\n",
       "      <td>C148</td>\n",
       "      <td>C</td>\n",
       "      <td>1</td>\n",
       "      <td>0</td>\n",
       "      <td>0</td>\n",
       "      <td>0</td>\n",
       "      <td>1</td>\n",
       "      <td>0</td>\n",
       "      <td>0</td>\n",
       "    </tr>\n",
       "    <tr>\n",
       "      <th>2</th>\n",
       "      <td>1</td>\n",
       "      <td>female</td>\n",
       "      <td>42.0</td>\n",
       "      <td>0</td>\n",
       "      <td>0</td>\n",
       "      <td>PC 17757</td>\n",
       "      <td>227.5250</td>\n",
       "      <td>NaN</td>\n",
       "      <td>C</td>\n",
       "      <td>3</td>\n",
       "      <td>0</td>\n",
       "      <td>0</td>\n",
       "      <td>1</td>\n",
       "      <td>0</td>\n",
       "      <td>0</td>\n",
       "      <td>0</td>\n",
       "    </tr>\n",
       "    <tr>\n",
       "      <th>3</th>\n",
       "      <td>1</td>\n",
       "      <td>female</td>\n",
       "      <td>29.0</td>\n",
       "      <td>0</td>\n",
       "      <td>0</td>\n",
       "      <td>PC 17483</td>\n",
       "      <td>221.7792</td>\n",
       "      <td>C97</td>\n",
       "      <td>S</td>\n",
       "      <td>1</td>\n",
       "      <td>0</td>\n",
       "      <td>0</td>\n",
       "      <td>1</td>\n",
       "      <td>0</td>\n",
       "      <td>0</td>\n",
       "      <td>0</td>\n",
       "    </tr>\n",
       "    <tr>\n",
       "      <th>4</th>\n",
       "      <td>1</td>\n",
       "      <td>male</td>\n",
       "      <td>25.0</td>\n",
       "      <td>0</td>\n",
       "      <td>0</td>\n",
       "      <td>13905</td>\n",
       "      <td>26.0000</td>\n",
       "      <td>NaN</td>\n",
       "      <td>C</td>\n",
       "      <td>1</td>\n",
       "      <td>0</td>\n",
       "      <td>0</td>\n",
       "      <td>0</td>\n",
       "      <td>1</td>\n",
       "      <td>0</td>\n",
       "      <td>0</td>\n",
       "    </tr>\n",
       "  </tbody>\n",
       "</table>\n",
       "</div>"
      ],
      "text/plain": [
       "   Pclass     Sex   Age  SibSp  Parch    Ticket      Fare Cabin Embarked  \\\n",
       "0       1  female  47.0      1      1     11751   52.5542   D35        S   \n",
       "1       1    male  26.0      0      0    111369   30.0000  C148        C   \n",
       "2       1  female  42.0      0      0  PC 17757  227.5250   NaN        C   \n",
       "3       1  female  29.0      0      0  PC 17483  221.7792   C97        S   \n",
       "4       1    male  25.0      0      0     13905   26.0000   NaN        C   \n",
       "\n",
       "   AgeBinnedEncoded  Title_Dr  Title_Master  Title_Miss  Title_Mr  Title_Mrs  \\\n",
       "0                 3         0             0           0         0          1   \n",
       "1                 1         0             0           0         1          0   \n",
       "2                 3         0             0           1         0          0   \n",
       "3                 1         0             0           1         0          0   \n",
       "4                 1         0             0           0         1          0   \n",
       "\n",
       "   Title_Rev  \n",
       "0          0  \n",
       "1          0  \n",
       "2          0  \n",
       "3          0  \n",
       "4          0  "
      ]
     },
     "execution_count": 39,
     "metadata": {},
     "output_type": "execute_result"
    }
   ],
   "source": [
    "#drop Name column\n",
    "total = total.drop([\"Name\"],axis=1)\n",
    "total.head()"
   ]
  },
  {
   "cell_type": "markdown",
   "metadata": {
    "colab_type": "text",
    "id": "FPy43dQ4zTAb"
   },
   "source": [
    "## Processing Fare"
   ]
  },
  {
   "cell_type": "code",
   "execution_count": 40,
   "metadata": {
    "colab": {
     "base_uri": "https://localhost:8080/",
     "height": 249
    },
    "colab_type": "code",
    "executionInfo": {
     "elapsed": 6733,
     "status": "ok",
     "timestamp": 1591345875991,
     "user": {
      "displayName": "Dannon Choo",
      "photoUrl": "https://lh3.googleusercontent.com/a-/AOh14GhdtUj67GQ_ikEO4rMJN8QzdjQQ8Kv1CIGFq2ib=s64",
      "userId": "13104822539939925533"
     },
     "user_tz": -480
    },
    "id": "1bfQICF9zTAb",
    "outputId": "0321679e-709c-4d9e-cc70-2207a8fc2894",
    "scrolled": true
   },
   "outputs": [
    {
     "data": {
      "text/html": [
       "<div>\n",
       "<style scoped>\n",
       "    .dataframe tbody tr th:only-of-type {\n",
       "        vertical-align: middle;\n",
       "    }\n",
       "\n",
       "    .dataframe tbody tr th {\n",
       "        vertical-align: top;\n",
       "    }\n",
       "\n",
       "    .dataframe thead th {\n",
       "        text-align: right;\n",
       "    }\n",
       "</style>\n",
       "<table border=\"1\" class=\"dataframe\">\n",
       "  <thead>\n",
       "    <tr style=\"text-align: right;\">\n",
       "      <th></th>\n",
       "      <th>Pclass</th>\n",
       "      <th>Sex</th>\n",
       "      <th>Age</th>\n",
       "      <th>SibSp</th>\n",
       "      <th>Parch</th>\n",
       "      <th>Ticket</th>\n",
       "      <th>Fare</th>\n",
       "      <th>Cabin</th>\n",
       "      <th>Embarked</th>\n",
       "      <th>AgeBinnedEncoded</th>\n",
       "      <th>Title_Dr</th>\n",
       "      <th>Title_Master</th>\n",
       "      <th>Title_Miss</th>\n",
       "      <th>Title_Mr</th>\n",
       "      <th>Title_Mrs</th>\n",
       "      <th>Title_Rev</th>\n",
       "    </tr>\n",
       "  </thead>\n",
       "  <tbody>\n",
       "    <tr>\n",
       "      <th>0</th>\n",
       "      <td>1</td>\n",
       "      <td>female</td>\n",
       "      <td>47.0</td>\n",
       "      <td>1</td>\n",
       "      <td>1</td>\n",
       "      <td>11751</td>\n",
       "      <td>52.5542</td>\n",
       "      <td>D35</td>\n",
       "      <td>S</td>\n",
       "      <td>3</td>\n",
       "      <td>0</td>\n",
       "      <td>0</td>\n",
       "      <td>0</td>\n",
       "      <td>0</td>\n",
       "      <td>1</td>\n",
       "      <td>0</td>\n",
       "    </tr>\n",
       "    <tr>\n",
       "      <th>1</th>\n",
       "      <td>1</td>\n",
       "      <td>male</td>\n",
       "      <td>26.0</td>\n",
       "      <td>0</td>\n",
       "      <td>0</td>\n",
       "      <td>111369</td>\n",
       "      <td>30.0000</td>\n",
       "      <td>C148</td>\n",
       "      <td>C</td>\n",
       "      <td>1</td>\n",
       "      <td>0</td>\n",
       "      <td>0</td>\n",
       "      <td>0</td>\n",
       "      <td>1</td>\n",
       "      <td>0</td>\n",
       "      <td>0</td>\n",
       "    </tr>\n",
       "    <tr>\n",
       "      <th>2</th>\n",
       "      <td>1</td>\n",
       "      <td>female</td>\n",
       "      <td>42.0</td>\n",
       "      <td>0</td>\n",
       "      <td>0</td>\n",
       "      <td>PC 17757</td>\n",
       "      <td>227.5250</td>\n",
       "      <td>NaN</td>\n",
       "      <td>C</td>\n",
       "      <td>3</td>\n",
       "      <td>0</td>\n",
       "      <td>0</td>\n",
       "      <td>1</td>\n",
       "      <td>0</td>\n",
       "      <td>0</td>\n",
       "      <td>0</td>\n",
       "    </tr>\n",
       "    <tr>\n",
       "      <th>3</th>\n",
       "      <td>1</td>\n",
       "      <td>female</td>\n",
       "      <td>29.0</td>\n",
       "      <td>0</td>\n",
       "      <td>0</td>\n",
       "      <td>PC 17483</td>\n",
       "      <td>221.7792</td>\n",
       "      <td>C97</td>\n",
       "      <td>S</td>\n",
       "      <td>1</td>\n",
       "      <td>0</td>\n",
       "      <td>0</td>\n",
       "      <td>1</td>\n",
       "      <td>0</td>\n",
       "      <td>0</td>\n",
       "      <td>0</td>\n",
       "    </tr>\n",
       "    <tr>\n",
       "      <th>4</th>\n",
       "      <td>1</td>\n",
       "      <td>male</td>\n",
       "      <td>25.0</td>\n",
       "      <td>0</td>\n",
       "      <td>0</td>\n",
       "      <td>13905</td>\n",
       "      <td>26.0000</td>\n",
       "      <td>NaN</td>\n",
       "      <td>C</td>\n",
       "      <td>1</td>\n",
       "      <td>0</td>\n",
       "      <td>0</td>\n",
       "      <td>0</td>\n",
       "      <td>1</td>\n",
       "      <td>0</td>\n",
       "      <td>0</td>\n",
       "    </tr>\n",
       "  </tbody>\n",
       "</table>\n",
       "</div>"
      ],
      "text/plain": [
       "   Pclass     Sex   Age  SibSp  Parch    Ticket      Fare Cabin Embarked  \\\n",
       "0       1  female  47.0      1      1     11751   52.5542   D35        S   \n",
       "1       1    male  26.0      0      0    111369   30.0000  C148        C   \n",
       "2       1  female  42.0      0      0  PC 17757  227.5250   NaN        C   \n",
       "3       1  female  29.0      0      0  PC 17483  221.7792   C97        S   \n",
       "4       1    male  25.0      0      0     13905   26.0000   NaN        C   \n",
       "\n",
       "   AgeBinnedEncoded  Title_Dr  Title_Master  Title_Miss  Title_Mr  Title_Mrs  \\\n",
       "0                 3         0             0           0         0          1   \n",
       "1                 1         0             0           0         1          0   \n",
       "2                 3         0             0           1         0          0   \n",
       "3                 1         0             0           1         0          0   \n",
       "4                 1         0             0           0         1          0   \n",
       "\n",
       "   Title_Rev  \n",
       "0          0  \n",
       "1          0  \n",
       "2          0  \n",
       "3          0  \n",
       "4          0  "
      ]
     },
     "execution_count": 40,
     "metadata": {},
     "output_type": "execute_result"
    }
   ],
   "source": [
    "#fill in null fare value in test with median fare value in train\n",
    "def process_fares():\n",
    "    global total\n",
    "    total.Fare.fillna(total.Fare.median(), inplace=True)\n",
    "    return total\n",
    "\n",
    "total = process_fares()\n",
    "total.head()"
   ]
  },
  {
   "cell_type": "code",
   "execution_count": 41,
   "metadata": {
    "colab": {
     "base_uri": "https://localhost:8080/",
     "height": 249
    },
    "colab_type": "code",
    "executionInfo": {
     "elapsed": 6731,
     "status": "ok",
     "timestamp": 1591345875992,
     "user": {
      "displayName": "Dannon Choo",
      "photoUrl": "https://lh3.googleusercontent.com/a-/AOh14GhdtUj67GQ_ikEO4rMJN8QzdjQQ8Kv1CIGFq2ib=s64",
      "userId": "13104822539939925533"
     },
     "user_tz": -480
    },
    "id": "d1AGBOO7zTAe",
    "outputId": "100079f7-c781-4c61-a857-7db5dd9685fb"
   },
   "outputs": [
    {
     "data": {
      "text/html": [
       "<div>\n",
       "<style scoped>\n",
       "    .dataframe tbody tr th:only-of-type {\n",
       "        vertical-align: middle;\n",
       "    }\n",
       "\n",
       "    .dataframe tbody tr th {\n",
       "        vertical-align: top;\n",
       "    }\n",
       "\n",
       "    .dataframe thead th {\n",
       "        text-align: right;\n",
       "    }\n",
       "</style>\n",
       "<table border=\"1\" class=\"dataframe\">\n",
       "  <thead>\n",
       "    <tr style=\"text-align: right;\">\n",
       "      <th></th>\n",
       "      <th>Pclass</th>\n",
       "      <th>Sex</th>\n",
       "      <th>Age</th>\n",
       "      <th>SibSp</th>\n",
       "      <th>Parch</th>\n",
       "      <th>Ticket</th>\n",
       "      <th>Fare</th>\n",
       "      <th>Cabin</th>\n",
       "      <th>Embarked</th>\n",
       "      <th>AgeBinnedEncoded</th>\n",
       "      <th>Title_Dr</th>\n",
       "      <th>Title_Master</th>\n",
       "      <th>Title_Miss</th>\n",
       "      <th>Title_Mr</th>\n",
       "      <th>Title_Mrs</th>\n",
       "      <th>Title_Rev</th>\n",
       "      <th>FareBinnedEncoded</th>\n",
       "    </tr>\n",
       "  </thead>\n",
       "  <tbody>\n",
       "    <tr>\n",
       "      <th>0</th>\n",
       "      <td>1</td>\n",
       "      <td>female</td>\n",
       "      <td>47.0</td>\n",
       "      <td>1</td>\n",
       "      <td>1</td>\n",
       "      <td>11751</td>\n",
       "      <td>52.5542</td>\n",
       "      <td>D35</td>\n",
       "      <td>S</td>\n",
       "      <td>3</td>\n",
       "      <td>0</td>\n",
       "      <td>0</td>\n",
       "      <td>0</td>\n",
       "      <td>0</td>\n",
       "      <td>1</td>\n",
       "      <td>0</td>\n",
       "      <td>2</td>\n",
       "    </tr>\n",
       "    <tr>\n",
       "      <th>1</th>\n",
       "      <td>1</td>\n",
       "      <td>male</td>\n",
       "      <td>26.0</td>\n",
       "      <td>0</td>\n",
       "      <td>0</td>\n",
       "      <td>111369</td>\n",
       "      <td>30.0000</td>\n",
       "      <td>C148</td>\n",
       "      <td>C</td>\n",
       "      <td>1</td>\n",
       "      <td>0</td>\n",
       "      <td>0</td>\n",
       "      <td>0</td>\n",
       "      <td>1</td>\n",
       "      <td>0</td>\n",
       "      <td>0</td>\n",
       "      <td>2</td>\n",
       "    </tr>\n",
       "    <tr>\n",
       "      <th>2</th>\n",
       "      <td>1</td>\n",
       "      <td>female</td>\n",
       "      <td>42.0</td>\n",
       "      <td>0</td>\n",
       "      <td>0</td>\n",
       "      <td>PC 17757</td>\n",
       "      <td>227.5250</td>\n",
       "      <td>NaN</td>\n",
       "      <td>C</td>\n",
       "      <td>3</td>\n",
       "      <td>0</td>\n",
       "      <td>0</td>\n",
       "      <td>1</td>\n",
       "      <td>0</td>\n",
       "      <td>0</td>\n",
       "      <td>0</td>\n",
       "      <td>2</td>\n",
       "    </tr>\n",
       "    <tr>\n",
       "      <th>3</th>\n",
       "      <td>1</td>\n",
       "      <td>female</td>\n",
       "      <td>29.0</td>\n",
       "      <td>0</td>\n",
       "      <td>0</td>\n",
       "      <td>PC 17483</td>\n",
       "      <td>221.7792</td>\n",
       "      <td>C97</td>\n",
       "      <td>S</td>\n",
       "      <td>1</td>\n",
       "      <td>0</td>\n",
       "      <td>0</td>\n",
       "      <td>1</td>\n",
       "      <td>0</td>\n",
       "      <td>0</td>\n",
       "      <td>0</td>\n",
       "      <td>2</td>\n",
       "    </tr>\n",
       "    <tr>\n",
       "      <th>4</th>\n",
       "      <td>1</td>\n",
       "      <td>male</td>\n",
       "      <td>25.0</td>\n",
       "      <td>0</td>\n",
       "      <td>0</td>\n",
       "      <td>13905</td>\n",
       "      <td>26.0000</td>\n",
       "      <td>NaN</td>\n",
       "      <td>C</td>\n",
       "      <td>1</td>\n",
       "      <td>0</td>\n",
       "      <td>0</td>\n",
       "      <td>0</td>\n",
       "      <td>1</td>\n",
       "      <td>0</td>\n",
       "      <td>0</td>\n",
       "      <td>1</td>\n",
       "    </tr>\n",
       "  </tbody>\n",
       "</table>\n",
       "</div>"
      ],
      "text/plain": [
       "   Pclass     Sex   Age  SibSp  Parch    Ticket      Fare Cabin Embarked  \\\n",
       "0       1  female  47.0      1      1     11751   52.5542   D35        S   \n",
       "1       1    male  26.0      0      0    111369   30.0000  C148        C   \n",
       "2       1  female  42.0      0      0  PC 17757  227.5250   NaN        C   \n",
       "3       1  female  29.0      0      0  PC 17483  221.7792   C97        S   \n",
       "4       1    male  25.0      0      0     13905   26.0000   NaN        C   \n",
       "\n",
       "   AgeBinnedEncoded  Title_Dr  Title_Master  Title_Miss  Title_Mr  Title_Mrs  \\\n",
       "0                 3         0             0           0         0          1   \n",
       "1                 1         0             0           0         1          0   \n",
       "2                 3         0             0           1         0          0   \n",
       "3                 1         0             0           1         0          0   \n",
       "4                 1         0             0           0         1          0   \n",
       "\n",
       "   Title_Rev  FareBinnedEncoded  \n",
       "0          0                  2  \n",
       "1          0                  2  \n",
       "2          0                  2  \n",
       "3          0                  2  \n",
       "4          0                  1  "
      ]
     },
     "execution_count": 41,
     "metadata": {},
     "output_type": "execute_result"
    }
   ],
   "source": [
    "# bin fares into 3 categories (cheap, middle class, expensive)\n",
    "def bin_fare():\n",
    "    global total\n",
    "    total['FareBinned'] = pd.qcut(total['Fare'], 3)\n",
    "    total['FareBinnedEncoded'] = LabelEncoder().fit_transform(total['FareBinned'])\n",
    "    total = total.drop(['FareBinned'], axis=1)\n",
    "    \n",
    "    return total\n",
    "\n",
    "total = bin_fare()\n",
    "\n",
    "total.head()"
   ]
  },
  {
   "cell_type": "markdown",
   "metadata": {
    "colab_type": "text",
    "id": "5djuJYdkzTAg"
   },
   "source": [
    "## Processing Embarked"
   ]
  },
  {
   "cell_type": "code",
   "execution_count": 42,
   "metadata": {
    "colab": {
     "base_uri": "https://localhost:8080/"
    },
    "colab_type": "code",
    "executionInfo": {
     "elapsed": 6728,
     "status": "ok",
     "timestamp": 1591345875992,
     "user": {
      "displayName": "Dannon Choo",
      "photoUrl": "https://lh3.googleusercontent.com/a-/AOh14GhdtUj67GQ_ikEO4rMJN8QzdjQQ8Kv1CIGFq2ib=s64",
      "userId": "13104822539939925533"
     },
     "user_tz": -480
    },
    "id": "NUZ8KqnLzTAg",
    "outputId": "7d6416b7-ceb1-4389-bdb5-170662e69154",
    "scrolled": true
   },
   "outputs": [
    {
     "data": {
      "text/html": [
       "<div>\n",
       "<style scoped>\n",
       "    .dataframe tbody tr th:only-of-type {\n",
       "        vertical-align: middle;\n",
       "    }\n",
       "\n",
       "    .dataframe tbody tr th {\n",
       "        vertical-align: top;\n",
       "    }\n",
       "\n",
       "    .dataframe thead th {\n",
       "        text-align: right;\n",
       "    }\n",
       "</style>\n",
       "<table border=\"1\" class=\"dataframe\">\n",
       "  <thead>\n",
       "    <tr style=\"text-align: right;\">\n",
       "      <th></th>\n",
       "      <th>Pclass</th>\n",
       "      <th>Sex</th>\n",
       "      <th>Age</th>\n",
       "      <th>SibSp</th>\n",
       "      <th>Parch</th>\n",
       "      <th>Ticket</th>\n",
       "      <th>Fare</th>\n",
       "      <th>Cabin</th>\n",
       "      <th>AgeBinnedEncoded</th>\n",
       "      <th>Title_Dr</th>\n",
       "      <th>Title_Master</th>\n",
       "      <th>Title_Miss</th>\n",
       "      <th>Title_Mr</th>\n",
       "      <th>Title_Mrs</th>\n",
       "      <th>Title_Rev</th>\n",
       "      <th>FareBinnedEncoded</th>\n",
       "      <th>Embarked_C</th>\n",
       "      <th>Embarked_Q</th>\n",
       "      <th>Embarked_S</th>\n",
       "    </tr>\n",
       "  </thead>\n",
       "  <tbody>\n",
       "    <tr>\n",
       "      <th>0</th>\n",
       "      <td>1</td>\n",
       "      <td>female</td>\n",
       "      <td>47.0</td>\n",
       "      <td>1</td>\n",
       "      <td>1</td>\n",
       "      <td>11751</td>\n",
       "      <td>52.5542</td>\n",
       "      <td>D35</td>\n",
       "      <td>3</td>\n",
       "      <td>0</td>\n",
       "      <td>0</td>\n",
       "      <td>0</td>\n",
       "      <td>0</td>\n",
       "      <td>1</td>\n",
       "      <td>0</td>\n",
       "      <td>2</td>\n",
       "      <td>0</td>\n",
       "      <td>0</td>\n",
       "      <td>1</td>\n",
       "    </tr>\n",
       "    <tr>\n",
       "      <th>1</th>\n",
       "      <td>1</td>\n",
       "      <td>male</td>\n",
       "      <td>26.0</td>\n",
       "      <td>0</td>\n",
       "      <td>0</td>\n",
       "      <td>111369</td>\n",
       "      <td>30.0000</td>\n",
       "      <td>C148</td>\n",
       "      <td>1</td>\n",
       "      <td>0</td>\n",
       "      <td>0</td>\n",
       "      <td>0</td>\n",
       "      <td>1</td>\n",
       "      <td>0</td>\n",
       "      <td>0</td>\n",
       "      <td>2</td>\n",
       "      <td>1</td>\n",
       "      <td>0</td>\n",
       "      <td>0</td>\n",
       "    </tr>\n",
       "    <tr>\n",
       "      <th>2</th>\n",
       "      <td>1</td>\n",
       "      <td>female</td>\n",
       "      <td>42.0</td>\n",
       "      <td>0</td>\n",
       "      <td>0</td>\n",
       "      <td>PC 17757</td>\n",
       "      <td>227.5250</td>\n",
       "      <td>NaN</td>\n",
       "      <td>3</td>\n",
       "      <td>0</td>\n",
       "      <td>0</td>\n",
       "      <td>1</td>\n",
       "      <td>0</td>\n",
       "      <td>0</td>\n",
       "      <td>0</td>\n",
       "      <td>2</td>\n",
       "      <td>1</td>\n",
       "      <td>0</td>\n",
       "      <td>0</td>\n",
       "    </tr>\n",
       "    <tr>\n",
       "      <th>3</th>\n",
       "      <td>1</td>\n",
       "      <td>female</td>\n",
       "      <td>29.0</td>\n",
       "      <td>0</td>\n",
       "      <td>0</td>\n",
       "      <td>PC 17483</td>\n",
       "      <td>221.7792</td>\n",
       "      <td>C97</td>\n",
       "      <td>1</td>\n",
       "      <td>0</td>\n",
       "      <td>0</td>\n",
       "      <td>1</td>\n",
       "      <td>0</td>\n",
       "      <td>0</td>\n",
       "      <td>0</td>\n",
       "      <td>2</td>\n",
       "      <td>0</td>\n",
       "      <td>0</td>\n",
       "      <td>1</td>\n",
       "    </tr>\n",
       "    <tr>\n",
       "      <th>4</th>\n",
       "      <td>1</td>\n",
       "      <td>male</td>\n",
       "      <td>25.0</td>\n",
       "      <td>0</td>\n",
       "      <td>0</td>\n",
       "      <td>13905</td>\n",
       "      <td>26.0000</td>\n",
       "      <td>NaN</td>\n",
       "      <td>1</td>\n",
       "      <td>0</td>\n",
       "      <td>0</td>\n",
       "      <td>0</td>\n",
       "      <td>1</td>\n",
       "      <td>0</td>\n",
       "      <td>0</td>\n",
       "      <td>1</td>\n",
       "      <td>1</td>\n",
       "      <td>0</td>\n",
       "      <td>0</td>\n",
       "    </tr>\n",
       "  </tbody>\n",
       "</table>\n",
       "</div>"
      ],
      "text/plain": [
       "   Pclass     Sex   Age  SibSp  Parch    Ticket      Fare Cabin  \\\n",
       "0       1  female  47.0      1      1     11751   52.5542   D35   \n",
       "1       1    male  26.0      0      0    111369   30.0000  C148   \n",
       "2       1  female  42.0      0      0  PC 17757  227.5250   NaN   \n",
       "3       1  female  29.0      0      0  PC 17483  221.7792   C97   \n",
       "4       1    male  25.0      0      0     13905   26.0000   NaN   \n",
       "\n",
       "   AgeBinnedEncoded  Title_Dr  Title_Master  Title_Miss  Title_Mr  Title_Mrs  \\\n",
       "0                 3         0             0           0         0          1   \n",
       "1                 1         0             0           0         1          0   \n",
       "2                 3         0             0           1         0          0   \n",
       "3                 1         0             0           1         0          0   \n",
       "4                 1         0             0           0         1          0   \n",
       "\n",
       "   Title_Rev  FareBinnedEncoded  Embarked_C  Embarked_Q  Embarked_S  \n",
       "0          0                  2           0           0           1  \n",
       "1          0                  2           1           0           0  \n",
       "2          0                  2           1           0           0  \n",
       "3          0                  2           0           0           1  \n",
       "4          0                  1           1           0           0  "
      ]
     },
     "execution_count": 42,
     "metadata": {},
     "output_type": "execute_result"
    }
   ],
   "source": [
    "#fill null embarked values with mode of embarked values in train\n",
    "total['Embarked'].fillna(total.iloc[:897]['Embarked'].mode()[0], inplace=True)\n",
    "model_embarked_mode = total['Embarked'].mode()[0]\n",
    "\n",
    "#convert to dummy variable\n",
    "embarked_dummies = pd.get_dummies(total['Embarked'], prefix='Embarked')\n",
    "total = pd.concat([total, embarked_dummies], axis=1)\n",
    "total.drop('Embarked', axis=1, inplace=True)\n",
    "    \n",
    "total.head()"
   ]
  },
  {
   "cell_type": "code",
   "execution_count": null,
   "metadata": {
    "colab": {},
    "colab_type": "code",
    "id": "vHzJCuCxzTAi"
   },
   "outputs": [],
   "source": []
  },
  {
   "cell_type": "markdown",
   "metadata": {
    "colab_type": "text",
    "id": "AILCfgF4zTAk"
   },
   "source": [
    "## Processing Cabin "
   ]
  },
  {
   "cell_type": "code",
   "execution_count": 43,
   "metadata": {
    "colab": {
     "base_uri": "https://localhost:8080/"
    },
    "colab_type": "code",
    "executionInfo": {
     "elapsed": 6721,
     "status": "ok",
     "timestamp": 1591345875993,
     "user": {
      "displayName": "Dannon Choo",
      "photoUrl": "https://lh3.googleusercontent.com/a-/AOh14GhdtUj67GQ_ikEO4rMJN8QzdjQQ8Kv1CIGFq2ib=s64",
      "userId": "13104822539939925533"
     },
     "user_tz": -480
    },
    "id": "tJTwGk3YzTAl",
    "outputId": "84552a29-58d0-4e34-e397-8ef4b181a66d"
   },
   "outputs": [
    {
     "data": {
      "text/html": [
       "<div>\n",
       "<style scoped>\n",
       "    .dataframe tbody tr th:only-of-type {\n",
       "        vertical-align: middle;\n",
       "    }\n",
       "\n",
       "    .dataframe tbody tr th {\n",
       "        vertical-align: top;\n",
       "    }\n",
       "\n",
       "    .dataframe thead th {\n",
       "        text-align: right;\n",
       "    }\n",
       "</style>\n",
       "<table border=\"1\" class=\"dataframe\">\n",
       "  <thead>\n",
       "    <tr style=\"text-align: right;\">\n",
       "      <th></th>\n",
       "      <th>Pclass</th>\n",
       "      <th>Sex</th>\n",
       "      <th>Age</th>\n",
       "      <th>SibSp</th>\n",
       "      <th>Parch</th>\n",
       "      <th>Ticket</th>\n",
       "      <th>Fare</th>\n",
       "      <th>AgeBinnedEncoded</th>\n",
       "      <th>Title_Dr</th>\n",
       "      <th>Title_Master</th>\n",
       "      <th>Title_Miss</th>\n",
       "      <th>Title_Mr</th>\n",
       "      <th>Title_Mrs</th>\n",
       "      <th>Title_Rev</th>\n",
       "      <th>FareBinnedEncoded</th>\n",
       "      <th>Embarked_C</th>\n",
       "      <th>Embarked_Q</th>\n",
       "      <th>Embarked_S</th>\n",
       "      <th>Cabin_No</th>\n",
       "      <th>Cabin_Yes</th>\n",
       "    </tr>\n",
       "  </thead>\n",
       "  <tbody>\n",
       "    <tr>\n",
       "      <th>0</th>\n",
       "      <td>1</td>\n",
       "      <td>female</td>\n",
       "      <td>47.0</td>\n",
       "      <td>1</td>\n",
       "      <td>1</td>\n",
       "      <td>11751</td>\n",
       "      <td>52.5542</td>\n",
       "      <td>3</td>\n",
       "      <td>0</td>\n",
       "      <td>0</td>\n",
       "      <td>0</td>\n",
       "      <td>0</td>\n",
       "      <td>1</td>\n",
       "      <td>0</td>\n",
       "      <td>2</td>\n",
       "      <td>0</td>\n",
       "      <td>0</td>\n",
       "      <td>1</td>\n",
       "      <td>0</td>\n",
       "      <td>1</td>\n",
       "    </tr>\n",
       "    <tr>\n",
       "      <th>1</th>\n",
       "      <td>1</td>\n",
       "      <td>male</td>\n",
       "      <td>26.0</td>\n",
       "      <td>0</td>\n",
       "      <td>0</td>\n",
       "      <td>111369</td>\n",
       "      <td>30.0000</td>\n",
       "      <td>1</td>\n",
       "      <td>0</td>\n",
       "      <td>0</td>\n",
       "      <td>0</td>\n",
       "      <td>1</td>\n",
       "      <td>0</td>\n",
       "      <td>0</td>\n",
       "      <td>2</td>\n",
       "      <td>1</td>\n",
       "      <td>0</td>\n",
       "      <td>0</td>\n",
       "      <td>0</td>\n",
       "      <td>1</td>\n",
       "    </tr>\n",
       "    <tr>\n",
       "      <th>2</th>\n",
       "      <td>1</td>\n",
       "      <td>female</td>\n",
       "      <td>42.0</td>\n",
       "      <td>0</td>\n",
       "      <td>0</td>\n",
       "      <td>PC 17757</td>\n",
       "      <td>227.5250</td>\n",
       "      <td>3</td>\n",
       "      <td>0</td>\n",
       "      <td>0</td>\n",
       "      <td>1</td>\n",
       "      <td>0</td>\n",
       "      <td>0</td>\n",
       "      <td>0</td>\n",
       "      <td>2</td>\n",
       "      <td>1</td>\n",
       "      <td>0</td>\n",
       "      <td>0</td>\n",
       "      <td>1</td>\n",
       "      <td>0</td>\n",
       "    </tr>\n",
       "    <tr>\n",
       "      <th>3</th>\n",
       "      <td>1</td>\n",
       "      <td>female</td>\n",
       "      <td>29.0</td>\n",
       "      <td>0</td>\n",
       "      <td>0</td>\n",
       "      <td>PC 17483</td>\n",
       "      <td>221.7792</td>\n",
       "      <td>1</td>\n",
       "      <td>0</td>\n",
       "      <td>0</td>\n",
       "      <td>1</td>\n",
       "      <td>0</td>\n",
       "      <td>0</td>\n",
       "      <td>0</td>\n",
       "      <td>2</td>\n",
       "      <td>0</td>\n",
       "      <td>0</td>\n",
       "      <td>1</td>\n",
       "      <td>0</td>\n",
       "      <td>1</td>\n",
       "    </tr>\n",
       "    <tr>\n",
       "      <th>4</th>\n",
       "      <td>1</td>\n",
       "      <td>male</td>\n",
       "      <td>25.0</td>\n",
       "      <td>0</td>\n",
       "      <td>0</td>\n",
       "      <td>13905</td>\n",
       "      <td>26.0000</td>\n",
       "      <td>1</td>\n",
       "      <td>0</td>\n",
       "      <td>0</td>\n",
       "      <td>0</td>\n",
       "      <td>1</td>\n",
       "      <td>0</td>\n",
       "      <td>0</td>\n",
       "      <td>1</td>\n",
       "      <td>1</td>\n",
       "      <td>0</td>\n",
       "      <td>0</td>\n",
       "      <td>1</td>\n",
       "      <td>0</td>\n",
       "    </tr>\n",
       "  </tbody>\n",
       "</table>\n",
       "</div>"
      ],
      "text/plain": [
       "   Pclass     Sex   Age  SibSp  Parch    Ticket      Fare  AgeBinnedEncoded  \\\n",
       "0       1  female  47.0      1      1     11751   52.5542                 3   \n",
       "1       1    male  26.0      0      0    111369   30.0000                 1   \n",
       "2       1  female  42.0      0      0  PC 17757  227.5250                 3   \n",
       "3       1  female  29.0      0      0  PC 17483  221.7792                 1   \n",
       "4       1    male  25.0      0      0     13905   26.0000                 1   \n",
       "\n",
       "   Title_Dr  Title_Master  Title_Miss  Title_Mr  Title_Mrs  Title_Rev  \\\n",
       "0         0             0           0         0          1          0   \n",
       "1         0             0           0         1          0          0   \n",
       "2         0             0           1         0          0          0   \n",
       "3         0             0           1         0          0          0   \n",
       "4         0             0           0         1          0          0   \n",
       "\n",
       "   FareBinnedEncoded  Embarked_C  Embarked_Q  Embarked_S  Cabin_No  Cabin_Yes  \n",
       "0                  2           0           0           1         0          1  \n",
       "1                  2           1           0           0         0          1  \n",
       "2                  2           1           0           0         1          0  \n",
       "3                  2           0           0           1         0          1  \n",
       "4                  1           1           0           0         1          0  "
      ]
     },
     "execution_count": 43,
     "metadata": {},
     "output_type": "execute_result"
    }
   ],
   "source": [
    "#fill null cabin values with No and the rest with Yes\n",
    "total['Cabin'].fillna('No', inplace=True)\n",
    "total['Cabin'].replace(regex=r'^((?!No).)*$',value='Yes',inplace=True)\n",
    "\n",
    "#concat dummy values to total and drop Cabin column\n",
    "cabin_dummies = pd.get_dummies(total['Cabin'], prefix='Cabin')\n",
    "total = pd.concat([total, cabin_dummies], axis=1)\n",
    "total.drop('Cabin', axis=1, inplace=True)\n",
    "\n",
    "total.head()"
   ]
  },
  {
   "cell_type": "markdown",
   "metadata": {
    "colab_type": "text",
    "id": "CCe9KRITzTAn"
   },
   "source": [
    "## Processing Sex "
   ]
  },
  {
   "cell_type": "code",
   "execution_count": 44,
   "metadata": {
    "colab": {
     "base_uri": "https://localhost:8080/"
    },
    "colab_type": "code",
    "executionInfo": {
     "elapsed": 6718,
     "status": "ok",
     "timestamp": 1591345875993,
     "user": {
      "displayName": "Dannon Choo",
      "photoUrl": "https://lh3.googleusercontent.com/a-/AOh14GhdtUj67GQ_ikEO4rMJN8QzdjQQ8Kv1CIGFq2ib=s64",
      "userId": "13104822539939925533"
     },
     "user_tz": -480
    },
    "id": "lwSEjj9TzTAn",
    "outputId": "38a0d694-7f48-43e8-9230-f67d7e2895c7"
   },
   "outputs": [
    {
     "data": {
      "text/html": [
       "<div>\n",
       "<style scoped>\n",
       "    .dataframe tbody tr th:only-of-type {\n",
       "        vertical-align: middle;\n",
       "    }\n",
       "\n",
       "    .dataframe tbody tr th {\n",
       "        vertical-align: top;\n",
       "    }\n",
       "\n",
       "    .dataframe thead th {\n",
       "        text-align: right;\n",
       "    }\n",
       "</style>\n",
       "<table border=\"1\" class=\"dataframe\">\n",
       "  <thead>\n",
       "    <tr style=\"text-align: right;\">\n",
       "      <th></th>\n",
       "      <th>Pclass</th>\n",
       "      <th>Age</th>\n",
       "      <th>SibSp</th>\n",
       "      <th>Parch</th>\n",
       "      <th>Ticket</th>\n",
       "      <th>Fare</th>\n",
       "      <th>AgeBinnedEncoded</th>\n",
       "      <th>Title_Dr</th>\n",
       "      <th>Title_Master</th>\n",
       "      <th>Title_Miss</th>\n",
       "      <th>...</th>\n",
       "      <th>Title_Mrs</th>\n",
       "      <th>Title_Rev</th>\n",
       "      <th>FareBinnedEncoded</th>\n",
       "      <th>Embarked_C</th>\n",
       "      <th>Embarked_Q</th>\n",
       "      <th>Embarked_S</th>\n",
       "      <th>Cabin_No</th>\n",
       "      <th>Cabin_Yes</th>\n",
       "      <th>Sex_female</th>\n",
       "      <th>Sex_male</th>\n",
       "    </tr>\n",
       "  </thead>\n",
       "  <tbody>\n",
       "    <tr>\n",
       "      <th>0</th>\n",
       "      <td>1</td>\n",
       "      <td>47.0</td>\n",
       "      <td>1</td>\n",
       "      <td>1</td>\n",
       "      <td>11751</td>\n",
       "      <td>52.5542</td>\n",
       "      <td>3</td>\n",
       "      <td>0</td>\n",
       "      <td>0</td>\n",
       "      <td>0</td>\n",
       "      <td>...</td>\n",
       "      <td>1</td>\n",
       "      <td>0</td>\n",
       "      <td>2</td>\n",
       "      <td>0</td>\n",
       "      <td>0</td>\n",
       "      <td>1</td>\n",
       "      <td>0</td>\n",
       "      <td>1</td>\n",
       "      <td>1</td>\n",
       "      <td>0</td>\n",
       "    </tr>\n",
       "    <tr>\n",
       "      <th>1</th>\n",
       "      <td>1</td>\n",
       "      <td>26.0</td>\n",
       "      <td>0</td>\n",
       "      <td>0</td>\n",
       "      <td>111369</td>\n",
       "      <td>30.0000</td>\n",
       "      <td>1</td>\n",
       "      <td>0</td>\n",
       "      <td>0</td>\n",
       "      <td>0</td>\n",
       "      <td>...</td>\n",
       "      <td>0</td>\n",
       "      <td>0</td>\n",
       "      <td>2</td>\n",
       "      <td>1</td>\n",
       "      <td>0</td>\n",
       "      <td>0</td>\n",
       "      <td>0</td>\n",
       "      <td>1</td>\n",
       "      <td>0</td>\n",
       "      <td>1</td>\n",
       "    </tr>\n",
       "    <tr>\n",
       "      <th>2</th>\n",
       "      <td>1</td>\n",
       "      <td>42.0</td>\n",
       "      <td>0</td>\n",
       "      <td>0</td>\n",
       "      <td>PC 17757</td>\n",
       "      <td>227.5250</td>\n",
       "      <td>3</td>\n",
       "      <td>0</td>\n",
       "      <td>0</td>\n",
       "      <td>1</td>\n",
       "      <td>...</td>\n",
       "      <td>0</td>\n",
       "      <td>0</td>\n",
       "      <td>2</td>\n",
       "      <td>1</td>\n",
       "      <td>0</td>\n",
       "      <td>0</td>\n",
       "      <td>1</td>\n",
       "      <td>0</td>\n",
       "      <td>1</td>\n",
       "      <td>0</td>\n",
       "    </tr>\n",
       "    <tr>\n",
       "      <th>3</th>\n",
       "      <td>1</td>\n",
       "      <td>29.0</td>\n",
       "      <td>0</td>\n",
       "      <td>0</td>\n",
       "      <td>PC 17483</td>\n",
       "      <td>221.7792</td>\n",
       "      <td>1</td>\n",
       "      <td>0</td>\n",
       "      <td>0</td>\n",
       "      <td>1</td>\n",
       "      <td>...</td>\n",
       "      <td>0</td>\n",
       "      <td>0</td>\n",
       "      <td>2</td>\n",
       "      <td>0</td>\n",
       "      <td>0</td>\n",
       "      <td>1</td>\n",
       "      <td>0</td>\n",
       "      <td>1</td>\n",
       "      <td>1</td>\n",
       "      <td>0</td>\n",
       "    </tr>\n",
       "    <tr>\n",
       "      <th>4</th>\n",
       "      <td>1</td>\n",
       "      <td>25.0</td>\n",
       "      <td>0</td>\n",
       "      <td>0</td>\n",
       "      <td>13905</td>\n",
       "      <td>26.0000</td>\n",
       "      <td>1</td>\n",
       "      <td>0</td>\n",
       "      <td>0</td>\n",
       "      <td>0</td>\n",
       "      <td>...</td>\n",
       "      <td>0</td>\n",
       "      <td>0</td>\n",
       "      <td>1</td>\n",
       "      <td>1</td>\n",
       "      <td>0</td>\n",
       "      <td>0</td>\n",
       "      <td>1</td>\n",
       "      <td>0</td>\n",
       "      <td>0</td>\n",
       "      <td>1</td>\n",
       "    </tr>\n",
       "  </tbody>\n",
       "</table>\n",
       "<p>5 rows × 21 columns</p>\n",
       "</div>"
      ],
      "text/plain": [
       "   Pclass   Age  SibSp  Parch    Ticket      Fare  AgeBinnedEncoded  Title_Dr  \\\n",
       "0       1  47.0      1      1     11751   52.5542                 3         0   \n",
       "1       1  26.0      0      0    111369   30.0000                 1         0   \n",
       "2       1  42.0      0      0  PC 17757  227.5250                 3         0   \n",
       "3       1  29.0      0      0  PC 17483  221.7792                 1         0   \n",
       "4       1  25.0      0      0     13905   26.0000                 1         0   \n",
       "\n",
       "   Title_Master  Title_Miss  ...  Title_Mrs  Title_Rev  FareBinnedEncoded  \\\n",
       "0             0           0  ...          1          0                  2   \n",
       "1             0           0  ...          0          0                  2   \n",
       "2             0           1  ...          0          0                  2   \n",
       "3             0           1  ...          0          0                  2   \n",
       "4             0           0  ...          0          0                  1   \n",
       "\n",
       "   Embarked_C  Embarked_Q  Embarked_S  Cabin_No  Cabin_Yes  Sex_female  \\\n",
       "0           0           0           1         0          1           1   \n",
       "1           1           0           0         0          1           0   \n",
       "2           1           0           0         1          0           1   \n",
       "3           0           0           1         0          1           1   \n",
       "4           1           0           0         1          0           0   \n",
       "\n",
       "   Sex_male  \n",
       "0         0  \n",
       "1         1  \n",
       "2         0  \n",
       "3         0  \n",
       "4         1  \n",
       "\n",
       "[5 rows x 21 columns]"
      ]
     },
     "execution_count": 44,
     "metadata": {},
     "output_type": "execute_result"
    }
   ],
   "source": [
    "# change string to numerical\n",
    "total = pd.get_dummies(total, columns=['Sex'])\n",
    "total.head()"
   ]
  },
  {
   "cell_type": "markdown",
   "metadata": {
    "colab_type": "text",
    "id": "pbDDsohVzTAq"
   },
   "source": [
    "## Creating Family Feature"
   ]
  },
  {
   "cell_type": "code",
   "execution_count": 45,
   "metadata": {
    "colab": {
     "base_uri": "https://localhost:8080/",
     "height": 249
    },
    "colab_type": "code",
    "executionInfo": {
     "elapsed": 6717,
     "status": "ok",
     "timestamp": 1591345875994,
     "user": {
      "displayName": "Dannon Choo",
      "photoUrl": "https://lh3.googleusercontent.com/a-/AOh14GhdtUj67GQ_ikEO4rMJN8QzdjQQ8Kv1CIGFq2ib=s64",
      "userId": "13104822539939925533"
     },
     "user_tz": -480
    },
    "id": "ylSsr1uazTAq",
    "outputId": "6070de2e-a578-4fb2-9b27-d60d24d34e91"
   },
   "outputs": [
    {
     "data": {
      "text/html": [
       "<div>\n",
       "<style scoped>\n",
       "    .dataframe tbody tr th:only-of-type {\n",
       "        vertical-align: middle;\n",
       "    }\n",
       "\n",
       "    .dataframe tbody tr th {\n",
       "        vertical-align: top;\n",
       "    }\n",
       "\n",
       "    .dataframe thead th {\n",
       "        text-align: right;\n",
       "    }\n",
       "</style>\n",
       "<table border=\"1\" class=\"dataframe\">\n",
       "  <thead>\n",
       "    <tr style=\"text-align: right;\">\n",
       "      <th></th>\n",
       "      <th>Pclass</th>\n",
       "      <th>Age</th>\n",
       "      <th>SibSp</th>\n",
       "      <th>Parch</th>\n",
       "      <th>Ticket</th>\n",
       "      <th>Fare</th>\n",
       "      <th>AgeBinnedEncoded</th>\n",
       "      <th>Title_Dr</th>\n",
       "      <th>Title_Master</th>\n",
       "      <th>Title_Miss</th>\n",
       "      <th>...</th>\n",
       "      <th>Title_Rev</th>\n",
       "      <th>FareBinnedEncoded</th>\n",
       "      <th>Embarked_C</th>\n",
       "      <th>Embarked_Q</th>\n",
       "      <th>Embarked_S</th>\n",
       "      <th>Cabin_No</th>\n",
       "      <th>Cabin_Yes</th>\n",
       "      <th>Sex_female</th>\n",
       "      <th>Sex_male</th>\n",
       "      <th>FamilySize</th>\n",
       "    </tr>\n",
       "  </thead>\n",
       "  <tbody>\n",
       "    <tr>\n",
       "      <th>0</th>\n",
       "      <td>1</td>\n",
       "      <td>47.0</td>\n",
       "      <td>1</td>\n",
       "      <td>1</td>\n",
       "      <td>11751</td>\n",
       "      <td>52.5542</td>\n",
       "      <td>3</td>\n",
       "      <td>0</td>\n",
       "      <td>0</td>\n",
       "      <td>0</td>\n",
       "      <td>...</td>\n",
       "      <td>0</td>\n",
       "      <td>2</td>\n",
       "      <td>0</td>\n",
       "      <td>0</td>\n",
       "      <td>1</td>\n",
       "      <td>0</td>\n",
       "      <td>1</td>\n",
       "      <td>1</td>\n",
       "      <td>0</td>\n",
       "      <td>3</td>\n",
       "    </tr>\n",
       "    <tr>\n",
       "      <th>1</th>\n",
       "      <td>1</td>\n",
       "      <td>26.0</td>\n",
       "      <td>0</td>\n",
       "      <td>0</td>\n",
       "      <td>111369</td>\n",
       "      <td>30.0000</td>\n",
       "      <td>1</td>\n",
       "      <td>0</td>\n",
       "      <td>0</td>\n",
       "      <td>0</td>\n",
       "      <td>...</td>\n",
       "      <td>0</td>\n",
       "      <td>2</td>\n",
       "      <td>1</td>\n",
       "      <td>0</td>\n",
       "      <td>0</td>\n",
       "      <td>0</td>\n",
       "      <td>1</td>\n",
       "      <td>0</td>\n",
       "      <td>1</td>\n",
       "      <td>1</td>\n",
       "    </tr>\n",
       "    <tr>\n",
       "      <th>2</th>\n",
       "      <td>1</td>\n",
       "      <td>42.0</td>\n",
       "      <td>0</td>\n",
       "      <td>0</td>\n",
       "      <td>PC 17757</td>\n",
       "      <td>227.5250</td>\n",
       "      <td>3</td>\n",
       "      <td>0</td>\n",
       "      <td>0</td>\n",
       "      <td>1</td>\n",
       "      <td>...</td>\n",
       "      <td>0</td>\n",
       "      <td>2</td>\n",
       "      <td>1</td>\n",
       "      <td>0</td>\n",
       "      <td>0</td>\n",
       "      <td>1</td>\n",
       "      <td>0</td>\n",
       "      <td>1</td>\n",
       "      <td>0</td>\n",
       "      <td>1</td>\n",
       "    </tr>\n",
       "    <tr>\n",
       "      <th>3</th>\n",
       "      <td>1</td>\n",
       "      <td>29.0</td>\n",
       "      <td>0</td>\n",
       "      <td>0</td>\n",
       "      <td>PC 17483</td>\n",
       "      <td>221.7792</td>\n",
       "      <td>1</td>\n",
       "      <td>0</td>\n",
       "      <td>0</td>\n",
       "      <td>1</td>\n",
       "      <td>...</td>\n",
       "      <td>0</td>\n",
       "      <td>2</td>\n",
       "      <td>0</td>\n",
       "      <td>0</td>\n",
       "      <td>1</td>\n",
       "      <td>0</td>\n",
       "      <td>1</td>\n",
       "      <td>1</td>\n",
       "      <td>0</td>\n",
       "      <td>1</td>\n",
       "    </tr>\n",
       "    <tr>\n",
       "      <th>4</th>\n",
       "      <td>1</td>\n",
       "      <td>25.0</td>\n",
       "      <td>0</td>\n",
       "      <td>0</td>\n",
       "      <td>13905</td>\n",
       "      <td>26.0000</td>\n",
       "      <td>1</td>\n",
       "      <td>0</td>\n",
       "      <td>0</td>\n",
       "      <td>0</td>\n",
       "      <td>...</td>\n",
       "      <td>0</td>\n",
       "      <td>1</td>\n",
       "      <td>1</td>\n",
       "      <td>0</td>\n",
       "      <td>0</td>\n",
       "      <td>1</td>\n",
       "      <td>0</td>\n",
       "      <td>0</td>\n",
       "      <td>1</td>\n",
       "      <td>1</td>\n",
       "    </tr>\n",
       "  </tbody>\n",
       "</table>\n",
       "<p>5 rows × 22 columns</p>\n",
       "</div>"
      ],
      "text/plain": [
       "   Pclass   Age  SibSp  Parch    Ticket      Fare  AgeBinnedEncoded  Title_Dr  \\\n",
       "0       1  47.0      1      1     11751   52.5542                 3         0   \n",
       "1       1  26.0      0      0    111369   30.0000                 1         0   \n",
       "2       1  42.0      0      0  PC 17757  227.5250                 3         0   \n",
       "3       1  29.0      0      0  PC 17483  221.7792                 1         0   \n",
       "4       1  25.0      0      0     13905   26.0000                 1         0   \n",
       "\n",
       "   Title_Master  Title_Miss  ...  Title_Rev  FareBinnedEncoded  Embarked_C  \\\n",
       "0             0           0  ...          0                  2           0   \n",
       "1             0           0  ...          0                  2           1   \n",
       "2             0           1  ...          0                  2           1   \n",
       "3             0           1  ...          0                  2           0   \n",
       "4             0           0  ...          0                  1           1   \n",
       "\n",
       "   Embarked_Q  Embarked_S  Cabin_No  Cabin_Yes  Sex_female  Sex_male  \\\n",
       "0           0           1         0          1           1         0   \n",
       "1           0           0         0          1           0         1   \n",
       "2           0           0         1          0           1         0   \n",
       "3           0           1         0          1           1         0   \n",
       "4           0           0         1          0           0         1   \n",
       "\n",
       "   FamilySize  \n",
       "0           3  \n",
       "1           1  \n",
       "2           1  \n",
       "3           1  \n",
       "4           1  \n",
       "\n",
       "[5 rows x 22 columns]"
      ]
     },
     "execution_count": 45,
     "metadata": {},
     "output_type": "execute_result"
    }
   ],
   "source": [
    "#calculate family size of passenger\n",
    "total['FamilySize'] = total['Parch'] + total['SibSp'] + 1\n",
    "total.head()"
   ]
  },
  {
   "cell_type": "code",
   "execution_count": 46,
   "metadata": {
    "colab": {
     "base_uri": "https://localhost:8080/",
     "height": 215
    },
    "colab_type": "code",
    "executionInfo": {
     "elapsed": 7205,
     "status": "ok",
     "timestamp": 1591345876485,
     "user": {
      "displayName": "Dannon Choo",
      "photoUrl": "https://lh3.googleusercontent.com/a-/AOh14GhdtUj67GQ_ikEO4rMJN8QzdjQQ8Kv1CIGFq2ib=s64",
      "userId": "13104822539939925533"
     },
     "user_tz": -480
    },
    "id": "6yVzhN9DzTAs",
    "outputId": "e0560121-cd80-4d7e-bfe4-b8678a556b2a"
   },
   "outputs": [
    {
     "data": {
      "text/html": [
       "<div>\n",
       "<style scoped>\n",
       "    .dataframe tbody tr th:only-of-type {\n",
       "        vertical-align: middle;\n",
       "    }\n",
       "\n",
       "    .dataframe tbody tr th {\n",
       "        vertical-align: top;\n",
       "    }\n",
       "\n",
       "    .dataframe thead th {\n",
       "        text-align: right;\n",
       "    }\n",
       "</style>\n",
       "<table border=\"1\" class=\"dataframe\">\n",
       "  <thead>\n",
       "    <tr style=\"text-align: right;\">\n",
       "      <th></th>\n",
       "      <th>Pclass</th>\n",
       "      <th>Age</th>\n",
       "      <th>SibSp</th>\n",
       "      <th>Parch</th>\n",
       "      <th>Fare</th>\n",
       "      <th>AgeBinnedEncoded</th>\n",
       "      <th>Title_Dr</th>\n",
       "      <th>Title_Master</th>\n",
       "      <th>Title_Miss</th>\n",
       "      <th>Title_Mr</th>\n",
       "      <th>...</th>\n",
       "      <th>Title_Rev</th>\n",
       "      <th>FareBinnedEncoded</th>\n",
       "      <th>Embarked_C</th>\n",
       "      <th>Embarked_Q</th>\n",
       "      <th>Embarked_S</th>\n",
       "      <th>Cabin_No</th>\n",
       "      <th>Cabin_Yes</th>\n",
       "      <th>Sex_female</th>\n",
       "      <th>Sex_male</th>\n",
       "      <th>FamilySize</th>\n",
       "    </tr>\n",
       "  </thead>\n",
       "  <tbody>\n",
       "    <tr>\n",
       "      <th>0</th>\n",
       "      <td>1</td>\n",
       "      <td>47.0</td>\n",
       "      <td>1</td>\n",
       "      <td>1</td>\n",
       "      <td>52.5542</td>\n",
       "      <td>3</td>\n",
       "      <td>0</td>\n",
       "      <td>0</td>\n",
       "      <td>0</td>\n",
       "      <td>0</td>\n",
       "      <td>...</td>\n",
       "      <td>0</td>\n",
       "      <td>2</td>\n",
       "      <td>0</td>\n",
       "      <td>0</td>\n",
       "      <td>1</td>\n",
       "      <td>0</td>\n",
       "      <td>1</td>\n",
       "      <td>1</td>\n",
       "      <td>0</td>\n",
       "      <td>3</td>\n",
       "    </tr>\n",
       "    <tr>\n",
       "      <th>1</th>\n",
       "      <td>1</td>\n",
       "      <td>26.0</td>\n",
       "      <td>0</td>\n",
       "      <td>0</td>\n",
       "      <td>30.0000</td>\n",
       "      <td>1</td>\n",
       "      <td>0</td>\n",
       "      <td>0</td>\n",
       "      <td>0</td>\n",
       "      <td>1</td>\n",
       "      <td>...</td>\n",
       "      <td>0</td>\n",
       "      <td>2</td>\n",
       "      <td>1</td>\n",
       "      <td>0</td>\n",
       "      <td>0</td>\n",
       "      <td>0</td>\n",
       "      <td>1</td>\n",
       "      <td>0</td>\n",
       "      <td>1</td>\n",
       "      <td>1</td>\n",
       "    </tr>\n",
       "    <tr>\n",
       "      <th>2</th>\n",
       "      <td>1</td>\n",
       "      <td>42.0</td>\n",
       "      <td>0</td>\n",
       "      <td>0</td>\n",
       "      <td>227.5250</td>\n",
       "      <td>3</td>\n",
       "      <td>0</td>\n",
       "      <td>0</td>\n",
       "      <td>1</td>\n",
       "      <td>0</td>\n",
       "      <td>...</td>\n",
       "      <td>0</td>\n",
       "      <td>2</td>\n",
       "      <td>1</td>\n",
       "      <td>0</td>\n",
       "      <td>0</td>\n",
       "      <td>1</td>\n",
       "      <td>0</td>\n",
       "      <td>1</td>\n",
       "      <td>0</td>\n",
       "      <td>1</td>\n",
       "    </tr>\n",
       "    <tr>\n",
       "      <th>3</th>\n",
       "      <td>1</td>\n",
       "      <td>29.0</td>\n",
       "      <td>0</td>\n",
       "      <td>0</td>\n",
       "      <td>221.7792</td>\n",
       "      <td>1</td>\n",
       "      <td>0</td>\n",
       "      <td>0</td>\n",
       "      <td>1</td>\n",
       "      <td>0</td>\n",
       "      <td>...</td>\n",
       "      <td>0</td>\n",
       "      <td>2</td>\n",
       "      <td>0</td>\n",
       "      <td>0</td>\n",
       "      <td>1</td>\n",
       "      <td>0</td>\n",
       "      <td>1</td>\n",
       "      <td>1</td>\n",
       "      <td>0</td>\n",
       "      <td>1</td>\n",
       "    </tr>\n",
       "    <tr>\n",
       "      <th>4</th>\n",
       "      <td>1</td>\n",
       "      <td>25.0</td>\n",
       "      <td>0</td>\n",
       "      <td>0</td>\n",
       "      <td>26.0000</td>\n",
       "      <td>1</td>\n",
       "      <td>0</td>\n",
       "      <td>0</td>\n",
       "      <td>0</td>\n",
       "      <td>1</td>\n",
       "      <td>...</td>\n",
       "      <td>0</td>\n",
       "      <td>1</td>\n",
       "      <td>1</td>\n",
       "      <td>0</td>\n",
       "      <td>0</td>\n",
       "      <td>1</td>\n",
       "      <td>0</td>\n",
       "      <td>0</td>\n",
       "      <td>1</td>\n",
       "      <td>1</td>\n",
       "    </tr>\n",
       "  </tbody>\n",
       "</table>\n",
       "<p>5 rows × 21 columns</p>\n",
       "</div>"
      ],
      "text/plain": [
       "   Pclass   Age  SibSp  Parch      Fare  AgeBinnedEncoded  Title_Dr  \\\n",
       "0       1  47.0      1      1   52.5542                 3         0   \n",
       "1       1  26.0      0      0   30.0000                 1         0   \n",
       "2       1  42.0      0      0  227.5250                 3         0   \n",
       "3       1  29.0      0      0  221.7792                 1         0   \n",
       "4       1  25.0      0      0   26.0000                 1         0   \n",
       "\n",
       "   Title_Master  Title_Miss  Title_Mr  ...  Title_Rev  FareBinnedEncoded  \\\n",
       "0             0           0         0  ...          0                  2   \n",
       "1             0           0         1  ...          0                  2   \n",
       "2             0           1         0  ...          0                  2   \n",
       "3             0           1         0  ...          0                  2   \n",
       "4             0           0         1  ...          0                  1   \n",
       "\n",
       "   Embarked_C  Embarked_Q  Embarked_S  Cabin_No  Cabin_Yes  Sex_female  \\\n",
       "0           0           0           1         0          1           1   \n",
       "1           1           0           0         0          1           0   \n",
       "2           1           0           0         1          0           1   \n",
       "3           0           0           1         0          1           1   \n",
       "4           1           0           0         1          0           0   \n",
       "\n",
       "   Sex_male  FamilySize  \n",
       "0         0           3  \n",
       "1         1           1  \n",
       "2         0           1  \n",
       "3         0           1  \n",
       "4         1           1  \n",
       "\n",
       "[5 rows x 21 columns]"
      ]
     },
     "execution_count": 46,
     "metadata": {},
     "output_type": "execute_result"
    }
   ],
   "source": [
    "total = total.drop([\"Ticket\"],axis=1)\n",
    "total.head()"
   ]
  },
  {
   "cell_type": "markdown",
   "metadata": {
    "colab_type": "text",
    "id": "jw22c4H1zTAw"
   },
   "source": [
    "# Feature Selection"
   ]
  },
  {
   "cell_type": "code",
   "execution_count": 50,
   "metadata": {
    "colab": {},
    "colab_type": "code",
    "id": "WnxAx96SzTAz"
   },
   "outputs": [],
   "source": [
    "#take out train and test from total\n",
    "def revert_train_test_target():\n",
    "    global total\n",
    "    \n",
    "    targets = pd.read_csv('train.csv', usecols=['Survived'])['Survived'].values\n",
    "    train = total.iloc[:897]\n",
    "    test = total.iloc[897:]\n",
    "    \n",
    "    return train, test, targets\n",
    "\n",
    "train, test, targets = revert_train_test_target()"
   ]
  },
  {
   "cell_type": "code",
   "execution_count": 51,
   "metadata": {
    "colab": {
     "base_uri": "https://localhost:8080/",
     "height": 67
    },
    "colab_type": "code",
    "executionInfo": {
     "elapsed": 7198,
     "status": "ok",
     "timestamp": 1591345876487,
     "user": {
      "displayName": "Dannon Choo",
      "photoUrl": "https://lh3.googleusercontent.com/a-/AOh14GhdtUj67GQ_ikEO4rMJN8QzdjQQ8Kv1CIGFq2ib=s64",
      "userId": "13104822539939925533"
     },
     "user_tz": -480
    },
    "id": "YJCP6ALmzTA2",
    "outputId": "404d98c6-c3cb-4cff-98d9-d69d74816d14",
    "scrolled": true
   },
   "outputs": [
    {
     "name": "stdout",
     "output_type": "stream",
     "text": [
      "(897, 21)\n",
      "(412, 21)\n",
      "(897,)\n"
     ]
    }
   ],
   "source": [
    "#check if number of rows are correct\n",
    "print(train.shape)\n",
    "print(test.shape)\n",
    "print(targets.shape)"
   ]
  },
  {
   "cell_type": "code",
   "execution_count": 52,
   "metadata": {
    "colab": {
     "base_uri": "https://localhost:8080/",
     "height": 215
    },
    "colab_type": "code",
    "executionInfo": {
     "elapsed": 7195,
     "status": "ok",
     "timestamp": 1591345876487,
     "user": {
      "displayName": "Dannon Choo",
      "photoUrl": "https://lh3.googleusercontent.com/a-/AOh14GhdtUj67GQ_ikEO4rMJN8QzdjQQ8Kv1CIGFq2ib=s64",
      "userId": "13104822539939925533"
     },
     "user_tz": -480
    },
    "id": "EQIWBuW9zTA4",
    "outputId": "697206c0-435b-4c9b-8a62-342c2da9078b",
    "scrolled": true
   },
   "outputs": [
    {
     "data": {
      "text/html": [
       "<div>\n",
       "<style scoped>\n",
       "    .dataframe tbody tr th:only-of-type {\n",
       "        vertical-align: middle;\n",
       "    }\n",
       "\n",
       "    .dataframe tbody tr th {\n",
       "        vertical-align: top;\n",
       "    }\n",
       "\n",
       "    .dataframe thead th {\n",
       "        text-align: right;\n",
       "    }\n",
       "</style>\n",
       "<table border=\"1\" class=\"dataframe\">\n",
       "  <thead>\n",
       "    <tr style=\"text-align: right;\">\n",
       "      <th></th>\n",
       "      <th>Pclass</th>\n",
       "      <th>Age</th>\n",
       "      <th>SibSp</th>\n",
       "      <th>Parch</th>\n",
       "      <th>Fare</th>\n",
       "      <th>AgeBinnedEncoded</th>\n",
       "      <th>Title_Dr</th>\n",
       "      <th>Title_Master</th>\n",
       "      <th>Title_Miss</th>\n",
       "      <th>Title_Mr</th>\n",
       "      <th>...</th>\n",
       "      <th>Title_Rev</th>\n",
       "      <th>FareBinnedEncoded</th>\n",
       "      <th>Embarked_C</th>\n",
       "      <th>Embarked_Q</th>\n",
       "      <th>Embarked_S</th>\n",
       "      <th>Cabin_No</th>\n",
       "      <th>Cabin_Yes</th>\n",
       "      <th>Sex_female</th>\n",
       "      <th>Sex_male</th>\n",
       "      <th>FamilySize</th>\n",
       "    </tr>\n",
       "  </thead>\n",
       "  <tbody>\n",
       "    <tr>\n",
       "      <th>897</th>\n",
       "      <td>1</td>\n",
       "      <td>25.0</td>\n",
       "      <td>1</td>\n",
       "      <td>0</td>\n",
       "      <td>91.0792</td>\n",
       "      <td>1</td>\n",
       "      <td>0</td>\n",
       "      <td>0</td>\n",
       "      <td>0</td>\n",
       "      <td>1</td>\n",
       "      <td>...</td>\n",
       "      <td>0</td>\n",
       "      <td>2</td>\n",
       "      <td>1</td>\n",
       "      <td>0</td>\n",
       "      <td>0</td>\n",
       "      <td>0</td>\n",
       "      <td>1</td>\n",
       "      <td>0</td>\n",
       "      <td>1</td>\n",
       "      <td>2</td>\n",
       "    </tr>\n",
       "    <tr>\n",
       "      <th>898</th>\n",
       "      <td>1</td>\n",
       "      <td>35.0</td>\n",
       "      <td>0</td>\n",
       "      <td>0</td>\n",
       "      <td>135.6333</td>\n",
       "      <td>2</td>\n",
       "      <td>0</td>\n",
       "      <td>0</td>\n",
       "      <td>1</td>\n",
       "      <td>0</td>\n",
       "      <td>...</td>\n",
       "      <td>0</td>\n",
       "      <td>2</td>\n",
       "      <td>0</td>\n",
       "      <td>0</td>\n",
       "      <td>1</td>\n",
       "      <td>0</td>\n",
       "      <td>1</td>\n",
       "      <td>1</td>\n",
       "      <td>0</td>\n",
       "      <td>1</td>\n",
       "    </tr>\n",
       "    <tr>\n",
       "      <th>899</th>\n",
       "      <td>1</td>\n",
       "      <td>28.0</td>\n",
       "      <td>0</td>\n",
       "      <td>0</td>\n",
       "      <td>26.5500</td>\n",
       "      <td>1</td>\n",
       "      <td>0</td>\n",
       "      <td>0</td>\n",
       "      <td>0</td>\n",
       "      <td>1</td>\n",
       "      <td>...</td>\n",
       "      <td>0</td>\n",
       "      <td>2</td>\n",
       "      <td>0</td>\n",
       "      <td>0</td>\n",
       "      <td>1</td>\n",
       "      <td>0</td>\n",
       "      <td>1</td>\n",
       "      <td>0</td>\n",
       "      <td>1</td>\n",
       "      <td>1</td>\n",
       "    </tr>\n",
       "    <tr>\n",
       "      <th>900</th>\n",
       "      <td>1</td>\n",
       "      <td>30.0</td>\n",
       "      <td>0</td>\n",
       "      <td>0</td>\n",
       "      <td>164.8667</td>\n",
       "      <td>2</td>\n",
       "      <td>0</td>\n",
       "      <td>0</td>\n",
       "      <td>1</td>\n",
       "      <td>0</td>\n",
       "      <td>...</td>\n",
       "      <td>0</td>\n",
       "      <td>2</td>\n",
       "      <td>0</td>\n",
       "      <td>0</td>\n",
       "      <td>1</td>\n",
       "      <td>0</td>\n",
       "      <td>1</td>\n",
       "      <td>1</td>\n",
       "      <td>0</td>\n",
       "      <td>1</td>\n",
       "    </tr>\n",
       "    <tr>\n",
       "      <th>901</th>\n",
       "      <td>1</td>\n",
       "      <td>42.0</td>\n",
       "      <td>0</td>\n",
       "      <td>0</td>\n",
       "      <td>26.5500</td>\n",
       "      <td>3</td>\n",
       "      <td>0</td>\n",
       "      <td>0</td>\n",
       "      <td>0</td>\n",
       "      <td>1</td>\n",
       "      <td>...</td>\n",
       "      <td>0</td>\n",
       "      <td>2</td>\n",
       "      <td>0</td>\n",
       "      <td>0</td>\n",
       "      <td>1</td>\n",
       "      <td>0</td>\n",
       "      <td>1</td>\n",
       "      <td>0</td>\n",
       "      <td>1</td>\n",
       "      <td>1</td>\n",
       "    </tr>\n",
       "  </tbody>\n",
       "</table>\n",
       "<p>5 rows × 21 columns</p>\n",
       "</div>"
      ],
      "text/plain": [
       "     Pclass   Age  SibSp  Parch      Fare  AgeBinnedEncoded  Title_Dr  \\\n",
       "897       1  25.0      1      0   91.0792                 1         0   \n",
       "898       1  35.0      0      0  135.6333                 2         0   \n",
       "899       1  28.0      0      0   26.5500                 1         0   \n",
       "900       1  30.0      0      0  164.8667                 2         0   \n",
       "901       1  42.0      0      0   26.5500                 3         0   \n",
       "\n",
       "     Title_Master  Title_Miss  Title_Mr  ...  Title_Rev  FareBinnedEncoded  \\\n",
       "897             0           0         1  ...          0                  2   \n",
       "898             0           1         0  ...          0                  2   \n",
       "899             0           0         1  ...          0                  2   \n",
       "900             0           1         0  ...          0                  2   \n",
       "901             0           0         1  ...          0                  2   \n",
       "\n",
       "     Embarked_C  Embarked_Q  Embarked_S  Cabin_No  Cabin_Yes  Sex_female  \\\n",
       "897           1           0           0         0          1           0   \n",
       "898           0           0           1         0          1           1   \n",
       "899           0           0           1         0          1           0   \n",
       "900           0           0           1         0          1           1   \n",
       "901           0           0           1         0          1           0   \n",
       "\n",
       "     Sex_male  FamilySize  \n",
       "897         1           2  \n",
       "898         0           1  \n",
       "899         1           1  \n",
       "900         0           1  \n",
       "901         1           1  \n",
       "\n",
       "[5 rows x 21 columns]"
      ]
     },
     "execution_count": 52,
     "metadata": {},
     "output_type": "execute_result"
    }
   ],
   "source": [
    "test.head()"
   ]
  },
  {
   "cell_type": "code",
   "execution_count": 53,
   "metadata": {
    "colab": {},
    "colab_type": "code",
    "id": "JLngdOd8zTA_"
   },
   "outputs": [],
   "source": [
    "#using random forest to check for feature importance\n",
    "clf = RandomForestClassifier(n_estimators=50, max_features='sqrt', random_state=0)\n",
    "clf = clf.fit(train, targets)"
   ]
  },
  {
   "cell_type": "code",
   "execution_count": 54,
   "metadata": {
    "colab": {
     "base_uri": "https://localhost:8080/",
     "height": 450
    },
    "colab_type": "code",
    "executionInfo": {
     "elapsed": 7846,
     "status": "ok",
     "timestamp": 1591345877144,
     "user": {
      "displayName": "Dannon Choo",
      "photoUrl": "https://lh3.googleusercontent.com/a-/AOh14GhdtUj67GQ_ikEO4rMJN8QzdjQQ8Kv1CIGFq2ib=s64",
      "userId": "13104822539939925533"
     },
     "user_tz": -480
    },
    "id": "X7XeeokJzTBC",
    "outputId": "9d23428e-ee9d-485d-c3a3-20ff105790c2",
    "scrolled": false
   },
   "outputs": [
    {
     "data": {
      "text/plain": [
       "<matplotlib.axes._subplots.AxesSubplot at 0x1fcf3662760>"
      ]
     },
     "execution_count": 54,
     "metadata": {},
     "output_type": "execute_result"
    },
    {
     "data": {
      "image/png": "[encoded data removed]",
      "text/plain": [
       "<Figure size 1800x720 with 1 Axes>"
      ]
     },
     "metadata": {},
     "output_type": "display_data"
    }
   ],
   "source": [
    "#find the most important features used\n",
    "features = pd.DataFrame()\n",
    "features['feature'] = train.columns\n",
    "features['importance'] = clf.feature_importances_\n",
    "features.sort_values(by=['importance'], ascending=True, inplace=True)\n",
    "features.set_index('feature', inplace=True)\n",
    "\n",
    "features.plot(kind='barh', figsize=(25, 10))"
   ]
  },
  {
   "cell_type": "code",
   "execution_count": 55,
   "metadata": {
    "colab": {
     "base_uri": "https://localhost:8080/",
     "height": 50
    },
    "colab_type": "code",
    "executionInfo": {
     "elapsed": 7843,
     "status": "ok",
     "timestamp": 1591345877144,
     "user": {
      "displayName": "Dannon Choo",
      "photoUrl": "https://lh3.googleusercontent.com/a-/AOh14GhdtUj67GQ_ikEO4rMJN8QzdjQQ8Kv1CIGFq2ib=s64",
      "userId": "13104822539939925533"
     },
     "user_tz": -480
    },
    "id": "oJHBKrRjzTBE",
    "outputId": "184e0386-9ef9-4a81-8bbe-690571293745"
   },
   "outputs": [
    {
     "name": "stdout",
     "output_type": "stream",
     "text": [
      "(897, 7)\n",
      "(412, 7)\n"
     ]
    }
   ],
   "source": [
    "#transform datasets to remove less important features\n",
    "model = SelectFromModel(clf, prefit=True)\n",
    "\n",
    "train_reduced = model.transform(train)\n",
    "print(train_reduced.shape)\n",
    "\n",
    "test_reduced = model.transform(test)\n",
    "print(test_reduced.shape)"
   ]
  },
  {
   "cell_type": "markdown",
   "metadata": {
    "colab_type": "text",
    "id": "m5H1JonOzTBI"
   },
   "source": [
    "# Score and Evaluate Model¶"
   ]
  },
  {
   "cell_type": "code",
   "execution_count": 56,
   "metadata": {
    "colab": {},
    "colab_type": "code",
    "id": "xhHbcztgzTBI"
   },
   "outputs": [],
   "source": [
    "def compute_score(clf, X, y, scoring='accuracy'):\n",
    "    xval = cross_val_score(clf, X, y, cv = 5, scoring=scoring)\n",
    "    return np.mean(xval)"
   ]
  },
  {
   "cell_type": "markdown",
   "metadata": {
    "colab_type": "text",
    "id": "VDZ_Mc79zTBK"
   },
   "source": [
    "## Score Model and Evaluate Model with Logistic Regression:  "
   ]
  },
  {
   "cell_type": "code",
   "execution_count": 57,
   "metadata": {
    "colab": {
     "base_uri": "https://localhost:8080/",
     "height": 252
    },
    "colab_type": "code",
    "executionInfo": {
     "elapsed": 8243,
     "status": "ok",
     "timestamp": 1591345877551,
     "user": {
      "displayName": "Dannon Choo",
      "photoUrl": "https://lh3.googleusercontent.com/a-/AOh14GhdtUj67GQ_ikEO4rMJN8QzdjQQ8Kv1CIGFq2ib=s64",
      "userId": "13104822539939925533"
     },
     "user_tz": -480
    },
    "id": "rXc_nR6tzTBO",
    "outputId": "8bb618ce-7167-4ec9-dd36-8c0dfd8bce74"
   },
   "outputs": [
    {
     "name": "stdout",
     "output_type": "stream",
     "text": [
      "Cross Validation Score of LogisticRegression: 0.737014276846679\n",
      "Classification report for Logistic Regression: \n",
      "              precision    recall  f1-score   support\n",
      "\n",
      "           0       0.81      0.74      0.77       549\n",
      "           1       0.64      0.73      0.68       348\n",
      "\n",
      "    accuracy                           0.74       897\n",
      "   macro avg       0.73      0.74      0.73       897\n",
      "weighted avg       0.75      0.74      0.74       897\n",
      "\n",
      "Confusion Matrix for Logistic Regression cross validated: \n",
      "[[406 143]\n",
      " [ 93 255]]\n"
     ]
    }
   ],
   "source": [
    "score_lg = compute_score(clf=LogisticRegression(), X=train_reduced, y=targets, scoring='accuracy', )\n",
    "print('Cross Validation Score of LogisticRegression: {}'.format(score_lg))\n",
    "\n",
    "predicted_lg = cross_val_predict(LogisticRegression(), X=train_reduced, y=targets, cv=5)\n",
    "report_lg = classification_report(targets, predicted_lg)\n",
    "print(\"Classification report for Logistic Regression: \\n{}\".format(report_lg))\n",
    "\n",
    "#confusion matrix\n",
    "cm_lg = confusion_matrix(targets, predicted_lg)\n",
    "print(\"Confusion Matrix for Logistic Regression cross validated: \\n{}\".format(cm_lg))"
   ]
  },
  {
   "cell_type": "markdown",
   "metadata": {
    "colab_type": "text",
    "id": "NsKrcRihzTBT"
   },
   "source": [
    "## Score Model and Evaluate Model with Random Forest:  "
   ]
  },
  {
   "cell_type": "code",
   "execution_count": 58,
   "metadata": {
    "colab": {
     "base_uri": "https://localhost:8080/",
     "height": 252
    },
    "colab_type": "code",
    "executionInfo": {
     "elapsed": 9526,
     "status": "ok",
     "timestamp": 1591345878838,
     "user": {
      "displayName": "Dannon Choo",
      "photoUrl": "https://lh3.googleusercontent.com/a-/AOh14GhdtUj67GQ_ikEO4rMJN8QzdjQQ8Kv1CIGFq2ib=s64",
      "userId": "13104822539939925533"
     },
     "user_tz": -480
    },
    "id": "4qREfvypzTBU",
    "outputId": "461ae6da-00b6-4634-b135-0696f9518bdd"
   },
   "outputs": [
    {
     "name": "stdout",
     "output_type": "stream",
     "text": [
      "Cross Validation Score of RandomForestClassifier: 0.7057231533209187\n",
      "Classification report for Random Forest: \n",
      "              precision    recall  f1-score   support\n",
      "\n",
      "           0       0.76      0.74      0.75       549\n",
      "           1       0.61      0.64      0.62       348\n",
      "\n",
      "    accuracy                           0.70       897\n",
      "   macro avg       0.69      0.69      0.69       897\n",
      "weighted avg       0.70      0.70      0.70       897\n",
      "\n",
      "Confusion Matrix for Random Forest cross validated: \n",
      "[[409 140]\n",
      " [127 221]]\n"
     ]
    }
   ],
   "source": [
    "score_rf = compute_score(clf= RandomForestClassifier(n_estimators=50), X=train_reduced, y=targets, scoring='accuracy')\n",
    "print('Cross Validation Score of RandomForestClassifier: {}'.format(score_rf))\n",
    "\n",
    "predicted_rf = cross_val_predict(RandomForestClassifier(), X=train_reduced, y=targets, cv=5)\n",
    "report_rf = classification_report(targets, predicted_rf)\n",
    "print(\"Classification report for Random Forest: \\n{}\".format(report_rf))\n",
    "\n",
    "#confusion matrix\n",
    "cm_rf = confusion_matrix(targets, predicted_rf)\n",
    "print(\"Confusion Matrix for Random Forest cross validated: \\n{}\".format(cm_rf))"
   ]
  },
  {
   "cell_type": "markdown",
   "metadata": {
    "colab_type": "text",
    "id": "2zKQeaCazTBa"
   },
   "source": [
    "## Score Model and Evaluate Model with K Nearest Neighbours:"
   ]
  },
  {
   "cell_type": "code",
   "execution_count": 59,
   "metadata": {
    "colab": {
     "base_uri": "https://localhost:8080/",
     "height": 252
    },
    "colab_type": "code",
    "executionInfo": {
     "elapsed": 9523,
     "status": "ok",
     "timestamp": 1591345878838,
     "user": {
      "displayName": "Dannon Choo",
      "photoUrl": "https://lh3.googleusercontent.com/a-/AOh14GhdtUj67GQ_ikEO4rMJN8QzdjQQ8Kv1CIGFq2ib=s64",
      "userId": "13104822539939925533"
     },
     "user_tz": -480
    },
    "id": "2BMNcHm5zTBa",
    "outputId": "ef8aeb25-8a17-4486-bf14-34ad52289fa1"
   },
   "outputs": [
    {
     "name": "stdout",
     "output_type": "stream",
     "text": [
      "Cross Validation Score of KNeighborsClassifier: 0.6176784605834885\n",
      "Classification report for KNN: \n",
      "              precision    recall  f1-score   support\n",
      "\n",
      "           0       0.68      0.68      0.68       549\n",
      "           1       0.50      0.51      0.50       348\n",
      "\n",
      "    accuracy                           0.61       897\n",
      "   macro avg       0.59      0.59      0.59       897\n",
      "weighted avg       0.61      0.61      0.61       897\n",
      "\n",
      "Confusion Matrix for KNN cross validated: \n",
      "[[371 178]\n",
      " [171 177]]\n"
     ]
    }
   ],
   "source": [
    "score_knn = compute_score(clf= KNeighborsClassifier(n_neighbors=3), X=train_reduced, y=targets, scoring='accuracy')\n",
    "print('Cross Validation Score of KNeighborsClassifier: {}'.format(score_knn))\n",
    "\n",
    "predicted_knn = cross_val_predict(KNeighborsClassifier(), X=train_reduced, y=targets, cv=5)\n",
    "report_knn = classification_report(targets, predicted_knn)\n",
    "print(\"Classification report for KNN: \\n{}\".format(report_knn))\n",
    "\n",
    "#confusion matrix\n",
    "cm_knn = confusion_matrix(targets, predicted_knn)\n",
    "print(\"Confusion Matrix for KNN cross validated: \\n{}\".format(cm_knn))"
   ]
  },
  {
   "cell_type": "markdown",
   "metadata": {
    "colab_type": "text",
    "id": "DkD3sP1szTBg"
   },
   "source": [
    "# Tuning Hyperparameters"
   ]
  },
  {
   "cell_type": "markdown",
   "metadata": {
    "colab_type": "text",
    "id": "uFgh-l0vzTBg"
   },
   "source": [
    "## Tuning Random Forest "
   ]
  },
  {
   "cell_type": "code",
   "execution_count": 60,
   "metadata": {
    "colab": {
     "base_uri": "https://localhost:8080/",
     "height": 171
    },
    "colab_type": "code",
    "executionInfo": {
     "elapsed": 371646,
     "status": "ok",
     "timestamp": 1591346240963,
     "user": {
      "displayName": "Dannon Choo",
      "photoUrl": "https://lh3.googleusercontent.com/a-/AOh14GhdtUj67GQ_ikEO4rMJN8QzdjQQ8Kv1CIGFq2ib=s64",
      "userId": "13104822539939925533"
     },
     "user_tz": -480
    },
    "id": "levVhWrIzTBh",
    "outputId": "3d26f345-f4ab-4928-8157-9b5952d20b33"
   },
   "outputs": [
    {
     "name": "stdout",
     "output_type": "stream",
     "text": [
      "Fitting 8 folds for each of 96 candidates, totalling 768 fits\n"
     ]
    },
    {
     "name": "stderr",
     "output_type": "stream",
     "text": [
      "[Parallel(n_jobs=4)]: Using backend LokyBackend with 4 concurrent workers.\n",
      "[Parallel(n_jobs=4)]: Done  42 tasks      | elapsed:    5.0s\n",
      "[Parallel(n_jobs=4)]: Done 192 tasks      | elapsed:   19.6s\n",
      "[Parallel(n_jobs=4)]: Done 442 tasks      | elapsed:   46.0s\n",
      "[Parallel(n_jobs=4)]: Done 768 out of 768 | elapsed:  1.4min finished\n"
     ]
    },
    {
     "name": "stdout",
     "output_type": "stream",
     "text": [
      "Best params: {'bootstrap': True, 'criterion': 'gini', 'max_depth': None, 'max_features': 'sqrt', 'min_samples_leaf': 7, 'min_samples_split': 2, 'n_estimators': 200, 'random_state': 42}\n",
      "Best score: 0.8393553886647959\n"
     ]
    }
   ],
   "source": [
    "kfold = StratifiedKFold(n_splits=8, random_state = 42)\n",
    "\n",
    "RFC = RandomForestClassifier()\n",
    "\n",
    "rf_param_grid = {\"n_estimators\" : [200, 500],\n",
    "                 \"criterion\" : [\"gini\", \"entropy\"],\n",
    "                 \"max_depth\" : [None],\n",
    "                 \"min_samples_split\" : [2, 4],\n",
    "                 \"min_samples_leaf\" : [5, 7],\n",
    "                 \"max_features\" : [3,\"sqrt\", \"log2\"],\n",
    "                 \"bootstrap\" : [False, True],\n",
    "                 \"random_state\" : [42]\n",
    "                }\n",
    "\n",
    "\n",
    "rf = GridSearchCV(RFC, param_grid = rf_param_grid, cv=kfold, scoring=\"roc_auc\", n_jobs= 4, verbose = 1)\n",
    "\n",
    "rf.fit(train_reduced, targets)\n",
    "\n",
    "rfmodel = rf.best_estimator_\n",
    "print('Best params: {}'.format(rf.best_params_))\n",
    "print('Best score: {}'.format(rf.best_score_))"
   ]
  },
  {
   "cell_type": "code",
   "execution_count": 61,
   "metadata": {
    "colab": {
     "base_uri": "https://localhost:8080/",
     "height": 335
    },
    "colab_type": "code",
    "executionInfo": {
     "elapsed": 374149,
     "status": "ok",
     "timestamp": 1591346243469,
     "user": {
      "displayName": "Dannon Choo",
      "photoUrl": "https://lh3.googleusercontent.com/a-/AOh14GhdtUj67GQ_ikEO4rMJN8QzdjQQ8Kv1CIGFq2ib=s64",
      "userId": "13104822539939925533"
     },
     "user_tz": -480
    },
    "id": "tO5XxCVGzTBj",
    "outputId": "0a3df9f5-8e8f-4e45-9212-51d3aad7c5cf"
   },
   "outputs": [
    {
     "name": "stdout",
     "output_type": "stream",
     "text": [
      "Confusion Matrix for Random Forest after hypertuning: \n",
      "[[429 120]\n",
      " [115 233]]\n"
     ]
    },
    {
     "data": {
      "text/plain": [
       "<matplotlib.axes._subplots.AxesSubplot at 0x1fcf37602e0>"
      ]
     },
     "execution_count": 61,
     "metadata": {},
     "output_type": "execute_result"
    },
    {
     "data": {
      "image/png": "[encoded data removed]",
      "text/plain": [
       "<Figure size 432x288 with 2 Axes>"
      ]
     },
     "metadata": {},
     "output_type": "display_data"
    }
   ],
   "source": [
    "kfold = StratifiedKFold(n_splits=8, random_state = 42)\n",
    "predicted_rf_ht = cross_val_predict(rfmodel, X=train_reduced, y=targets, cv=kfold)\n",
    "\n",
    "#confusion matrix\n",
    "cm_rf_ht = confusion_matrix(targets, predicted_rf_ht)\n",
    "print(\"Confusion Matrix for Random Forest after hypertuning: \\n{}\".format(cm_rf_ht))\n",
    "\n",
    "group_names = ['True Neg','False Pos','False Neg','True Pos']\n",
    "group_counts = [\"{0:0.0f}\".format(value) for value in cm_rf_ht.flatten()]\n",
    "\n",
    "group_percentages = [\"{0:.2%}\".format(value) for value in cm_rf_ht.flatten()/np.sum(cm_rf_ht)]\n",
    "\n",
    "labels = [f\"{v1}\\n{v2}\\n{v3}\" for v1, v2, v3 in zip(group_names,group_counts,group_percentages)]\n",
    "\n",
    "labels = np.asarray(labels).reshape(2,2)\n",
    "sns.heatmap(cm_rf_ht, annot=labels, fmt='')"
   ]
  },
  {
   "cell_type": "markdown",
   "metadata": {
    "colab_type": "text",
    "id": "ZAqotfHrzTBp"
   },
   "source": [
    "## Tuning Logistic Regression"
   ]
  },
  {
   "cell_type": "code",
   "execution_count": 62,
   "metadata": {
    "colab": {
     "base_uri": "https://localhost:8080/",
     "height": 50
    },
    "colab_type": "code",
    "executionInfo": {
     "elapsed": 375998,
     "status": "ok",
     "timestamp": 1591346245321,
     "user": {
      "displayName": "Dannon Choo",
      "photoUrl": "https://lh3.googleusercontent.com/a-/AOh14GhdtUj67GQ_ikEO4rMJN8QzdjQQ8Kv1CIGFq2ib=s64",
      "userId": "13104822539939925533"
     },
     "user_tz": -480
    },
    "id": "kg5qggq1zTBp",
    "outputId": "10844307-5d7f-4a6e-fea1-cbebed420bca"
   },
   "outputs": [
    {
     "name": "stdout",
     "output_type": "stream",
     "text": [
      "Best params: {'C': 2.7825594022071245, 'penalty': 'l2'}\n",
      "Best score: 0.7605878634639697\n"
     ]
    }
   ],
   "source": [
    "kfold = StratifiedKFold(n_splits=8, random_state = 42)\n",
    "\n",
    "logistic = LogisticRegression()\n",
    "\n",
    "penalty = ['l1', 'l2']\n",
    "\n",
    "C = np.logspace(0, 4, 10)\n",
    "\n",
    "hyperparameters = dict(C=C, penalty=penalty)\n",
    "\n",
    "lgmodel = GridSearchCV(logistic, hyperparameters, cv=kfold, verbose=0)\n",
    "\n",
    "lgmodel.fit(train_reduced, targets)\n",
    "\n",
    "print('Best params: {}'.format(lgmodel.best_params_))\n",
    "print('Best score: {}'.format(lgmodel.best_score_))"
   ]
  },
  {
   "cell_type": "code",
   "execution_count": 63,
   "metadata": {
    "colab": {
     "base_uri": "https://localhost:8080/",
     "height": 335
    },
    "colab_type": "code",
    "executionInfo": {
     "elapsed": 391046,
     "status": "ok",
     "timestamp": 1591346260372,
     "user": {
      "displayName": "Dannon Choo",
      "photoUrl": "https://lh3.googleusercontent.com/a-/AOh14GhdtUj67GQ_ikEO4rMJN8QzdjQQ8Kv1CIGFq2ib=s64",
      "userId": "13104822539939925533"
     },
     "user_tz": -480
    },
    "id": "bn7ERFTlzTBr",
    "outputId": "4aeaaa6e-e530-4c0a-abb9-e310622f1a41"
   },
   "outputs": [
    {
     "name": "stdout",
     "output_type": "stream",
     "text": [
      "Confusion Matrix for Random Forest after hypertuning: \n",
      "[[425 124]\n",
      " [ 94 254]]\n"
     ]
    },
    {
     "data": {
      "text/plain": [
       "<matplotlib.axes._subplots.AxesSubplot at 0x1fcf3833640>"
      ]
     },
     "execution_count": 63,
     "metadata": {},
     "output_type": "execute_result"
    },
    {
     "data": {
      "image/png": "[encoded data removed]",
      "text/plain": [
       "<Figure size 432x288 with 2 Axes>"
      ]
     },
     "metadata": {},
     "output_type": "display_data"
    }
   ],
   "source": [
    "kfold = StratifiedKFold(n_splits=8, random_state = 42)\n",
    "predicted_lg_ht = cross_val_predict(lgmodel, X=train_reduced, y=targets, cv=kfold)\n",
    "\n",
    "#confusion matrix\n",
    "cm_lg_ht = confusion_matrix(targets, predicted_lg_ht)\n",
    "print(\"Confusion Matrix for Random Forest after hypertuning: \\n{}\".format(cm_lg_ht))\n",
    "\n",
    "group_names = ['True Neg','False Pos','False Neg','True Pos']\n",
    "group_counts = [\"{0:0.0f}\".format(value) for value in cm_lg_ht.flatten()]\n",
    "\n",
    "group_percentages = [\"{0:.2%}\".format(value) for value in cm_lg_ht.flatten()/np.sum(cm_lg_ht)]\n",
    "\n",
    "labels = [f\"{v1}\\n{v2}\\n{v3}\" for v1, v2, v3 in zip(group_names,group_counts,group_percentages)]\n",
    "\n",
    "labels = np.asarray(labels).reshape(2,2)\n",
    "sns.heatmap(cm_lg_ht, annot=labels, fmt='')"
   ]
  },
  {
   "cell_type": "markdown",
   "metadata": {
    "colab_type": "text",
    "id": "mQKFfNm0zTBu"
   },
   "source": [
    "## Tuning K Nearest Neighbours"
   ]
  },
  {
   "cell_type": "code",
   "execution_count": 64,
   "metadata": {
    "colab": {
     "base_uri": "https://localhost:8080/",
     "height": 50
    },
    "colab_type": "code",
    "executionInfo": {
     "elapsed": 436638,
     "status": "ok",
     "timestamp": 1591346305967,
     "user": {
      "displayName": "Dannon Choo",
      "photoUrl": "https://lh3.googleusercontent.com/a-/AOh14GhdtUj67GQ_ikEO4rMJN8QzdjQQ8Kv1CIGFq2ib=s64",
      "userId": "13104822539939925533"
     },
     "user_tz": -480
    },
    "id": "f56px6bPzTBu",
    "outputId": "070ac11f-5fb1-496b-d9da-3899ac2d2e80"
   },
   "outputs": [
    {
     "name": "stdout",
     "output_type": "stream",
     "text": [
      "Best params: {'algorithm': 'ball_tree', 'leaf_size': 1, 'n_jobs': -1, 'n_neighbors': 4, 'weights': 'uniform'}\n",
      "Best score: 0.6376660459342023\n"
     ]
    }
   ],
   "source": [
    "knn = KNeighborsClassifier(n_jobs=-1)\n",
    "\n",
    "params = {'n_neighbors':[3,4,5,6,7,8,9,10],\n",
    "          'leaf_size':[1,2,3,5],\n",
    "          'weights':['uniform', 'distance'],\n",
    "          'algorithm':['auto', 'ball_tree','kd_tree','brute'],\n",
    "          'n_jobs':[-1]}\n",
    "\n",
    "knnmodel = GridSearchCV(knn, param_grid=params, n_jobs=1)\n",
    "\n",
    "knnmodel.fit(train_reduced, targets)\n",
    "\n",
    "print('Best params: {}'.format(knnmodel.best_params_))\n",
    "print('Best score: {}'.format(knnmodel.best_score_))"
   ]
  },
  {
   "cell_type": "code",
   "execution_count": 65,
   "metadata": {
    "colab": {
     "base_uri": "https://localhost:8080/",
     "height": 335
    },
    "colab_type": "code",
    "executionInfo": {
     "elapsed": 795270,
     "status": "ok",
     "timestamp": 1591346664602,
     "user": {
      "displayName": "Dannon Choo",
      "photoUrl": "https://lh3.googleusercontent.com/a-/AOh14GhdtUj67GQ_ikEO4rMJN8QzdjQQ8Kv1CIGFq2ib=s64",
      "userId": "13104822539939925533"
     },
     "user_tz": -480
    },
    "id": "Vk9VN6NQzTB1",
    "outputId": "f02aa9ee-acc9-4046-c516-26084b07ef5c"
   },
   "outputs": [
    {
     "name": "stdout",
     "output_type": "stream",
     "text": [
      "Confusion Matrix for Random Forest after hypertuning: \n",
      "[[417 132]\n",
      " [188 160]]\n"
     ]
    },
    {
     "data": {
      "text/plain": [
       "<matplotlib.axes._subplots.AxesSubplot at 0x1fcf7905d30>"
      ]
     },
     "execution_count": 65,
     "metadata": {},
     "output_type": "execute_result"
    },
    {
     "data": {
      "image/png": "[encoded data removed]",
      "text/plain": [
       "<Figure size 432x288 with 2 Axes>"
      ]
     },
     "metadata": {},
     "output_type": "display_data"
    }
   ],
   "source": [
    "kfold = StratifiedKFold(n_splits=8, random_state = 42)\n",
    "predicted_knn_ht = cross_val_predict(knnmodel, X=train_reduced, y=targets, cv=kfold)\n",
    "\n",
    "#confusion matrix\n",
    "cm_knn_ht = confusion_matrix(targets, predicted_knn_ht)\n",
    "print(\"Confusion Matrix for Random Forest after hypertuning: \\n{}\".format(cm_knn_ht))\n",
    "\n",
    "group_names = ['True Neg','False Pos','False Neg','True Pos']\n",
    "group_counts = [\"{0:0.0f}\".format(value) for value in cm_knn_ht.flatten()]\n",
    "\n",
    "group_percentages = [\"{0:.2%}\".format(value) for value in cm_knn_ht.flatten()/np.sum(cm_knn_ht)]\n",
    "\n",
    "labels = [f\"{v1}\\n{v2}\\n{v3}\" for v1, v2, v3 in zip(group_names,group_counts,group_percentages)]\n",
    "\n",
    "labels = np.asarray(labels).reshape(2,2)\n",
    "sns.heatmap(cm_knn_ht, annot=labels, fmt='')"
   ]
  },
  {
   "cell_type": "markdown",
   "metadata": {
    "colab_type": "text",
    "id": "_cj-EmsXzTB6"
   },
   "source": [
    "# Submitting to Kaggle"
   ]
  },
  {
   "cell_type": "code",
   "execution_count": 0,
   "metadata": {
    "colab": {
     "base_uri": "https://localhost:8080/",
     "height": 195
    },
    "colab_type": "code",
    "executionInfo": {
     "elapsed": 795267,
     "status": "ok",
     "timestamp": 1591346664604,
     "user": {
      "displayName": "Dannon Choo",
      "photoUrl": "https://lh3.googleusercontent.com/a-/AOh14GhdtUj67GQ_ikEO4rMJN8QzdjQQ8Kv1CIGFq2ib=s64",
      "userId": "13104822539939925533"
     },
     "user_tz": -480
    },
    "id": "hRIZIeEKzTB7",
    "outputId": "c60b9373-73d7-4b81-8740-297843a866c1"
   },
   "outputs": [
    {
     "data": {
      "text/html": [
       "<div>\n",
       "<style scoped>\n",
       "    .dataframe tbody tr th:only-of-type {\n",
       "        vertical-align: middle;\n",
       "    }\n",
       "\n",
       "    .dataframe tbody tr th {\n",
       "        vertical-align: top;\n",
       "    }\n",
       "\n",
       "    .dataframe thead th {\n",
       "        text-align: right;\n",
       "    }\n",
       "</style>\n",
       "<table border=\"1\" class=\"dataframe\">\n",
       "  <thead>\n",
       "    <tr style=\"text-align: right;\">\n",
       "      <th></th>\n",
       "      <th>PassengerId</th>\n",
       "      <th>Survived</th>\n",
       "    </tr>\n",
       "  </thead>\n",
       "  <tbody>\n",
       "    <tr>\n",
       "      <th>0</th>\n",
       "      <td>6</td>\n",
       "      <td>0</td>\n",
       "    </tr>\n",
       "    <tr>\n",
       "      <th>1</th>\n",
       "      <td>8</td>\n",
       "      <td>1</td>\n",
       "    </tr>\n",
       "    <tr>\n",
       "      <th>2</th>\n",
       "      <td>9</td>\n",
       "      <td>0</td>\n",
       "    </tr>\n",
       "    <tr>\n",
       "      <th>3</th>\n",
       "      <td>12</td>\n",
       "      <td>1</td>\n",
       "    </tr>\n",
       "    <tr>\n",
       "      <th>4</th>\n",
       "      <td>14</td>\n",
       "      <td>0</td>\n",
       "    </tr>\n",
       "  </tbody>\n",
       "</table>\n",
       "</div>"
      ],
      "text/plain": [
       "   PassengerId  Survived\n",
       "0            6         0\n",
       "1            8         1\n",
       "2            9         0\n",
       "3           12         1\n",
       "4           14         0"
      ]
     },
     "execution_count": 62,
     "metadata": {
      "tags": []
     },
     "output_type": "execute_result"
    }
   ],
   "source": [
    "#random forest\n",
    "dfout = pd.DataFrame() \n",
    "test_original = pd.read_csv('data/test.csv')\n",
    "dfout[[\"PassengerId\"]] = test_original[[\"PassengerId\"]]\n",
    "dfout[\"Survived\"] = rfmodel.predict(test_reduced)\n",
    "dfout[:5]"
   ]
  },
  {
   "cell_type": "code",
   "execution_count": 0,
   "metadata": {
    "colab": {},
    "colab_type": "code",
    "id": "1etUMYj0zTB_"
   },
   "outputs": [],
   "source": [
    "dfout.to_csv(\"rf_submission.csv\",index=False)"
   ]
  },
  {
   "cell_type": "code",
   "execution_count": 0,
   "metadata": {
    "colab": {
     "base_uri": "https://localhost:8080/",
     "height": 195
    },
    "colab_type": "code",
    "executionInfo": {
     "elapsed": 795267,
     "status": "ok",
     "timestamp": 1591346664609,
     "user": {
      "displayName": "Dannon Choo",
      "photoUrl": "https://lh3.googleusercontent.com/a-/AOh14GhdtUj67GQ_ikEO4rMJN8QzdjQQ8Kv1CIGFq2ib=s64",
      "userId": "13104822539939925533"
     },
     "user_tz": -480
    },
    "id": "GVATwfG4zTCD",
    "outputId": "743295de-5c29-4c85-ff42-17cf92cae8e5"
   },
   "outputs": [
    {
     "data": {
      "text/html": [
       "<div>\n",
       "<style scoped>\n",
       "    .dataframe tbody tr th:only-of-type {\n",
       "        vertical-align: middle;\n",
       "    }\n",
       "\n",
       "    .dataframe tbody tr th {\n",
       "        vertical-align: top;\n",
       "    }\n",
       "\n",
       "    .dataframe thead th {\n",
       "        text-align: right;\n",
       "    }\n",
       "</style>\n",
       "<table border=\"1\" class=\"dataframe\">\n",
       "  <thead>\n",
       "    <tr style=\"text-align: right;\">\n",
       "      <th></th>\n",
       "      <th>PassengerId</th>\n",
       "      <th>Survived</th>\n",
       "    </tr>\n",
       "  </thead>\n",
       "  <tbody>\n",
       "    <tr>\n",
       "      <th>0</th>\n",
       "      <td>6</td>\n",
       "      <td>0</td>\n",
       "    </tr>\n",
       "    <tr>\n",
       "      <th>1</th>\n",
       "      <td>8</td>\n",
       "      <td>1</td>\n",
       "    </tr>\n",
       "    <tr>\n",
       "      <th>2</th>\n",
       "      <td>9</td>\n",
       "      <td>0</td>\n",
       "    </tr>\n",
       "    <tr>\n",
       "      <th>3</th>\n",
       "      <td>12</td>\n",
       "      <td>1</td>\n",
       "    </tr>\n",
       "    <tr>\n",
       "      <th>4</th>\n",
       "      <td>14</td>\n",
       "      <td>0</td>\n",
       "    </tr>\n",
       "  </tbody>\n",
       "</table>\n",
       "</div>"
      ],
      "text/plain": [
       "   PassengerId  Survived\n",
       "0            6         0\n",
       "1            8         1\n",
       "2            9         0\n",
       "3           12         1\n",
       "4           14         0"
      ]
     },
     "execution_count": 64,
     "metadata": {
      "tags": []
     },
     "output_type": "execute_result"
    }
   ],
   "source": [
    "#logistic regression\n",
    "dfout2 = pd.DataFrame() \n",
    "test_original = pd.read_csv('data/test.csv')\n",
    "dfout2[[\"PassengerId\"]] = test_original[[\"PassengerId\"]]\n",
    "dfout2[\"Survived\"] = lgmodel.predict(test_reduced)\n",
    "dfout2[:5]"
   ]
  },
  {
   "cell_type": "code",
   "execution_count": 0,
   "metadata": {
    "colab": {},
    "colab_type": "code",
    "id": "hrwOf_41zTCF"
   },
   "outputs": [],
   "source": [
    "dfout2.to_csv(\"lg_submission.csv\",index=False)"
   ]
  },
  {
   "cell_type": "code",
   "execution_count": 0,
   "metadata": {
    "colab": {
     "base_uri": "https://localhost:8080/",
     "height": 195
    },
    "colab_type": "code",
    "executionInfo": {
     "elapsed": 795657,
     "status": "ok",
     "timestamp": 1591346665005,
     "user": {
      "displayName": "Dannon Choo",
      "photoUrl": "https://lh3.googleusercontent.com/a-/AOh14GhdtUj67GQ_ikEO4rMJN8QzdjQQ8Kv1CIGFq2ib=s64",
      "userId": "13104822539939925533"
     },
     "user_tz": -480
    },
    "id": "z9HQnfTFzTCH",
    "outputId": "1a61988f-1b15-41f6-b263-c74e2f8f87b9"
   },
   "outputs": [
    {
     "data": {
      "text/html": [
       "<div>\n",
       "<style scoped>\n",
       "    .dataframe tbody tr th:only-of-type {\n",
       "        vertical-align: middle;\n",
       "    }\n",
       "\n",
       "    .dataframe tbody tr th {\n",
       "        vertical-align: top;\n",
       "    }\n",
       "\n",
       "    .dataframe thead th {\n",
       "        text-align: right;\n",
       "    }\n",
       "</style>\n",
       "<table border=\"1\" class=\"dataframe\">\n",
       "  <thead>\n",
       "    <tr style=\"text-align: right;\">\n",
       "      <th></th>\n",
       "      <th>PassengerId</th>\n",
       "      <th>Survived</th>\n",
       "    </tr>\n",
       "  </thead>\n",
       "  <tbody>\n",
       "    <tr>\n",
       "      <th>0</th>\n",
       "      <td>6</td>\n",
       "      <td>1</td>\n",
       "    </tr>\n",
       "    <tr>\n",
       "      <th>1</th>\n",
       "      <td>8</td>\n",
       "      <td>1</td>\n",
       "    </tr>\n",
       "    <tr>\n",
       "      <th>2</th>\n",
       "      <td>9</td>\n",
       "      <td>0</td>\n",
       "    </tr>\n",
       "    <tr>\n",
       "      <th>3</th>\n",
       "      <td>12</td>\n",
       "      <td>0</td>\n",
       "    </tr>\n",
       "    <tr>\n",
       "      <th>4</th>\n",
       "      <td>14</td>\n",
       "      <td>0</td>\n",
       "    </tr>\n",
       "  </tbody>\n",
       "</table>\n",
       "</div>"
      ],
      "text/plain": [
       "   PassengerId  Survived\n",
       "0            6         1\n",
       "1            8         1\n",
       "2            9         0\n",
       "3           12         0\n",
       "4           14         0"
      ]
     },
     "execution_count": 66,
     "metadata": {
      "tags": []
     },
     "output_type": "execute_result"
    }
   ],
   "source": [
    "#knn\n",
    "dfout3 = pd.DataFrame() \n",
    "test_original = pd.read_csv('data/test.csv')\n",
    "dfout3[[\"PassengerId\"]] = test_original[[\"PassengerId\"]]\n",
    "dfout3[\"Survived\"] = knnmodel.predict(test_reduced)\n",
    "dfout3[:5]"
   ]
  },
  {
   "cell_type": "code",
   "execution_count": 0,
   "metadata": {
    "colab": {},
    "colab_type": "code",
    "id": "epd2vb1qzTCK"
   },
   "outputs": [],
   "source": [
    "dfout3.to_csv(\"knn_submission.csv\",index=False)"
   ]
  },
  {
   "cell_type": "markdown",
   "metadata": {
    "colab_type": "text",
    "id": "MOc-XjhEzTCN"
   },
   "source": [
    "The stupid baseline is based on the majority of *Survived* status. In which case, we will have a rule which states that everybody died in the Titanic. "
   ]
  },
  {
   "cell_type": "code",
   "execution_count": 0,
   "metadata": {
    "colab": {
     "base_uri": "https://localhost:8080/",
     "height": 195
    },
    "colab_type": "code",
    "executionInfo": {
     "elapsed": 795655,
     "status": "ok",
     "timestamp": 1591346665011,
     "user": {
      "displayName": "Dannon Choo",
      "photoUrl": "https://lh3.googleusercontent.com/a-/AOh14GhdtUj67GQ_ikEO4rMJN8QzdjQQ8Kv1CIGFq2ib=s64",
      "userId": "13104822539939925533"
     },
     "user_tz": -480
    },
    "id": "fKAr7OE1zTCN",
    "outputId": "53d25cf2-7c3c-4440-85f1-13331dac30b9"
   },
   "outputs": [
    {
     "data": {
      "text/html": [
       "<div>\n",
       "<style scoped>\n",
       "    .dataframe tbody tr th:only-of-type {\n",
       "        vertical-align: middle;\n",
       "    }\n",
       "\n",
       "    .dataframe tbody tr th {\n",
       "        vertical-align: top;\n",
       "    }\n",
       "\n",
       "    .dataframe thead th {\n",
       "        text-align: right;\n",
       "    }\n",
       "</style>\n",
       "<table border=\"1\" class=\"dataframe\">\n",
       "  <thead>\n",
       "    <tr style=\"text-align: right;\">\n",
       "      <th></th>\n",
       "      <th>PassengerId</th>\n",
       "      <th>Survived</th>\n",
       "    </tr>\n",
       "  </thead>\n",
       "  <tbody>\n",
       "    <tr>\n",
       "      <th>0</th>\n",
       "      <td>6</td>\n",
       "      <td>0</td>\n",
       "    </tr>\n",
       "    <tr>\n",
       "      <th>1</th>\n",
       "      <td>8</td>\n",
       "      <td>0</td>\n",
       "    </tr>\n",
       "    <tr>\n",
       "      <th>2</th>\n",
       "      <td>9</td>\n",
       "      <td>0</td>\n",
       "    </tr>\n",
       "    <tr>\n",
       "      <th>3</th>\n",
       "      <td>12</td>\n",
       "      <td>0</td>\n",
       "    </tr>\n",
       "    <tr>\n",
       "      <th>4</th>\n",
       "      <td>14</td>\n",
       "      <td>0</td>\n",
       "    </tr>\n",
       "  </tbody>\n",
       "</table>\n",
       "</div>"
      ],
      "text/plain": [
       "   PassengerId  Survived\n",
       "0            6         0\n",
       "1            8         0\n",
       "2            9         0\n",
       "3           12         0\n",
       "4           14         0"
      ]
     },
     "execution_count": 68,
     "metadata": {
      "tags": []
     },
     "output_type": "execute_result"
    }
   ],
   "source": [
    "dfout = pd.DataFrame() \n",
    "dfout[[\"PassengerId\"]] = test_original[[\"PassengerId\"]]\n",
    "dfout[\"Survived\"] = 0\n",
    "dfout[:5]"
   ]
  },
  {
   "cell_type": "code",
   "execution_count": 0,
   "metadata": {
    "colab": {},
    "colab_type": "code",
    "id": "qULmC6bGzTCU"
   },
   "outputs": [],
   "source": [
    "dfout.to_csv(\"stupidbaseline.csv\",index=False)"
   ]
  },
  {
   "cell_type": "markdown",
   "metadata": {},
   "source": [
    "### Saving rfmodel for deployment"
   ]
  },
  {
   "cell_type": "code",
   "execution_count": 66,
   "metadata": {},
   "outputs": [],
   "source": [
    "# Saving model to disk\n",
    "pickle.dump(rfmodel, open('model.pkl','wb'))"
   ]
  },
  {
   "cell_type": "code",
   "execution_count": 8,
   "metadata": {},
   "outputs": [
    {
     "name": "stdout",
     "output_type": "stream",
     "text": [
      "You are likely to survive the titanic\n"
     ]
    }
   ],
   "source": [
    "## fare, age, title_mr, sex_male, pclass, sex_female, FamilySize\n",
    "#test rfmodel\n",
    "\n",
    "model = pickle.load(open('model.pkl','rb'))\n",
    "features = [250, 12, 0, 1, 2]\n",
    "if features[2] == 0:\n",
    "    features.insert(3, 0)\n",
    "    features.insert(5, 1)\n",
    "else:\n",
    "    features.insert(3, 1)\n",
    "    features.insert(5, 0)\n",
    "pred = model.predict([features])\n",
    "if pred == 0:\n",
    "    print(\"You would not have survived the Titanic\")\n",
    "else:\n",
    "    print(\"You are likely to survive the titanic\")"
   ]
  },
  {
   "cell_type": "code",
   "execution_count": 4,
   "metadata": {},
   "outputs": [
    {
     "name": "stdout",
     "output_type": "stream",
     "text": [
      "[250, 12, 1, 1, 1, 0, 2]\n"
     ]
    }
   ],
   "source": [
    "features = [250, 12, 1, 1, 2]\n",
    "if features[2] == 0:\n",
    "    features.insert(3, 0)\n",
    "    features.insert(5, 1)\n",
    "    print(features)\n",
    "else:\n",
    "    features.insert(3, 1)\n",
    "    features.insert(5, 0)\n",
    "    print(features)"
   ]
  },
  {
   "cell_type": "markdown",
   "metadata": {
    "colab_type": "text",
    "id": "3MXpoVobOFz5"
   },
   "source": [
    "# ROC\n"
   ]
  },
  {
   "cell_type": "markdown",
   "metadata": {
    "colab_type": "text",
    "id": "6uWGZ7tgORmu"
   },
   "source": [
    "## Random Forest"
   ]
  },
  {
   "cell_type": "code",
   "execution_count": 0,
   "metadata": {
    "colab": {
     "base_uri": "https://localhost:8080/",
     "height": 627
    },
    "colab_type": "code",
    "executionInfo": {
     "elapsed": 799418,
     "status": "ok",
     "timestamp": 1591346668779,
     "user": {
      "displayName": "Dannon Choo",
      "photoUrl": "https://lh3.googleusercontent.com/a-/AOh14GhdtUj67GQ_ikEO4rMJN8QzdjQQ8Kv1CIGFq2ib=s64",
      "userId": "13104822539939925533"
     },
     "user_tz": -480
    },
    "id": "5Ly262DrOQMp",
    "outputId": "5db7e392-e79f-4d19-abff-983f857983e3"
   },
   "outputs": [
    {
     "data": {
      "image/png": "[encoded data removed]",
      "text/plain": [
       "<Figure size 720x720 with 1 Axes>"
      ]
     },
     "metadata": {
      "tags": []
     },
     "output_type": "display_data"
    }
   ],
   "source": [
    "# roc_curve\n",
    "cv = StratifiedKFold(n_splits=8, random_state = 42)\n",
    "classifier = rfmodel\n",
    "\n",
    "tprs = []\n",
    "aucs = []\n",
    "mean_fpr = np.linspace(0, 1, 100)\n",
    "\n",
    "X = train_reduced\n",
    "y = targets\n",
    "\n",
    "fig, ax = plt.subplots(figsize = (10,10))\n",
    "for i, (train, target) in enumerate(cv.split(X, y)):\n",
    "    classifier.fit(X[train], y[train])\n",
    "    viz = plot_roc_curve(classifier, X[target], y[target],\n",
    "                         name='ROC fold {}'.format(i),\n",
    "                         alpha=0.3, lw=1, ax=ax)\n",
    "    interp_tpr = np.interp(mean_fpr, viz.fpr, viz.tpr)\n",
    "    interp_tpr[0] = 0.0\n",
    "    tprs.append(interp_tpr)\n",
    "    aucs.append(viz.roc_auc)\n",
    "\n",
    "ax.plot([0, 1], [0, 1], linestyle='--', lw=2, color='r',\n",
    "        label='Chance', alpha=.8)\n",
    "\n",
    "mean_tpr = np.mean(tprs, axis=0)\n",
    "mean_tpr[-1] = 1.0\n",
    "mean_auc = auc(mean_fpr, mean_tpr)\n",
    "std_auc = np.std(aucs)\n",
    "ax.plot(mean_fpr, mean_tpr, color='b',\n",
    "        label=r'Mean ROC (AUC = %0.2f $\\pm$ %0.2f)' % (mean_auc, std_auc),\n",
    "        lw=2, alpha=.8)\n",
    "\n",
    "std_tpr = np.std(tprs, axis=0)\n",
    "tprs_upper = np.minimum(mean_tpr + std_tpr, 1)\n",
    "tprs_lower = np.maximum(mean_tpr - std_tpr, 0)\n",
    "ax.fill_between(mean_fpr, tprs_lower, tprs_upper, color='grey', alpha=.2,\n",
    "                label=r'$\\pm$ 1 std. dev.')\n",
    "\n",
    "ax.set(xlim=[-0.05, 1.05], ylim=[-0.05, 1.05],\n",
    "       title=\"ROC curve for Random Forest\")\n",
    "ax.legend(loc=\"lower right\")\n",
    "plt.show()"
   ]
  },
  {
   "cell_type": "markdown",
   "metadata": {
    "colab_type": "text",
    "id": "asj6PQAAOUTd"
   },
   "source": [
    "## Logistic Regression"
   ]
  },
  {
   "cell_type": "code",
   "execution_count": 0,
   "metadata": {
    "colab": {
     "base_uri": "https://localhost:8080/",
     "height": 627
    },
    "colab_type": "code",
    "executionInfo": {
     "elapsed": 815118,
     "status": "ok",
     "timestamp": 1591346684481,
     "user": {
      "displayName": "Dannon Choo",
      "photoUrl": "https://lh3.googleusercontent.com/a-/AOh14GhdtUj67GQ_ikEO4rMJN8QzdjQQ8Kv1CIGFq2ib=s64",
      "userId": "13104822539939925533"
     },
     "user_tz": -480
    },
    "id": "NgH9tadjOXGz",
    "outputId": "24efa618-2f89-41f0-ed68-6b366017b423"
   },
   "outputs": [
    {
     "data": {
      "image/png": "[encoded data removed]",
      "text/plain": [
       "<Figure size 720x720 with 1 Axes>"
      ]
     },
     "metadata": {
      "tags": []
     },
     "output_type": "display_data"
    }
   ],
   "source": [
    "# roc_curve\n",
    "cv = StratifiedKFold(n_splits=8, random_state = 42)\n",
    "classifier = lgmodel\n",
    "\n",
    "tprs = []\n",
    "aucs = []\n",
    "mean_fpr = np.linspace(0, 1, 100)\n",
    "\n",
    "X = train_reduced\n",
    "y = targets\n",
    "\n",
    "fig, ax = plt.subplots(figsize = (10,10))\n",
    "for i, (train, target) in enumerate(cv.split(X, y)):\n",
    "    classifier.fit(X[train], y[train])\n",
    "    viz = plot_roc_curve(classifier, X[target], y[target],\n",
    "                         name='ROC fold {}'.format(i),\n",
    "                         alpha=0.3, lw=1, ax=ax)\n",
    "    interp_tpr = np.interp(mean_fpr, viz.fpr, viz.tpr)\n",
    "    interp_tpr[0] = 0.0\n",
    "    tprs.append(interp_tpr)\n",
    "    aucs.append(viz.roc_auc)\n",
    "\n",
    "ax.plot([0, 1], [0, 1], linestyle='--', lw=2, color='r',\n",
    "        label='Chance', alpha=.8)\n",
    "\n",
    "mean_tpr = np.mean(tprs, axis=0)\n",
    "mean_tpr[-1] = 1.0\n",
    "mean_auc = auc(mean_fpr, mean_tpr)\n",
    "std_auc = np.std(aucs)\n",
    "ax.plot(mean_fpr, mean_tpr, color='b',\n",
    "        label=r'Mean ROC (AUC = %0.2f $\\pm$ %0.2f)' % (mean_auc, std_auc),\n",
    "        lw=2, alpha=.8)\n",
    "\n",
    "std_tpr = np.std(tprs, axis=0)\n",
    "tprs_upper = np.minimum(mean_tpr + std_tpr, 1)\n",
    "tprs_lower = np.maximum(mean_tpr - std_tpr, 0)\n",
    "ax.fill_between(mean_fpr, tprs_lower, tprs_upper, color='grey', alpha=.2,\n",
    "                label=r'$\\pm$ 1 std. dev.')\n",
    "\n",
    "ax.set(xlim=[-0.05, 1.05], ylim=[-0.05, 1.05],\n",
    "       title=\"ROC for Logistic Regression\")\n",
    "ax.legend(loc=\"lower right\")\n",
    "plt.show()"
   ]
  },
  {
   "cell_type": "markdown",
   "metadata": {
    "colab_type": "text",
    "id": "3z4iH80WOaxH"
   },
   "source": [
    "## KNN"
   ]
  },
  {
   "cell_type": "code",
   "execution_count": 0,
   "metadata": {
    "colab": {
     "base_uri": "https://localhost:8080/",
     "height": 627
    },
    "colab_type": "code",
    "executionInfo": {
     "elapsed": 1178413,
     "status": "ok",
     "timestamp": 1591347047779,
     "user": {
      "displayName": "Dannon Choo",
      "photoUrl": "https://lh3.googleusercontent.com/a-/AOh14GhdtUj67GQ_ikEO4rMJN8QzdjQQ8Kv1CIGFq2ib=s64",
      "userId": "13104822539939925533"
     },
     "user_tz": -480
    },
    "id": "J8M_d2hZOcQ7",
    "outputId": "a3aaeff7-62fd-4b57-f391-e3c75b3f0364"
   },
   "outputs": [
    {
     "data": {
      "image/png": "[encoded data removed]",
      "text/plain": [
       "<Figure size 720x720 with 1 Axes>"
      ]
     },
     "metadata": {
      "tags": []
     },
     "output_type": "display_data"
    }
   ],
   "source": [
    "# roc_curve\n",
    "cv = StratifiedKFold(n_splits=8, random_state = 42)\n",
    "classifier = knnmodel\n",
    "\n",
    "tprs = []\n",
    "aucs = []\n",
    "mean_fpr = np.linspace(0, 1, 100)\n",
    "\n",
    "X = train_reduced\n",
    "y = targets\n",
    "\n",
    "fig, ax = plt.subplots(figsize = (10,10))\n",
    "for i, (train, target) in enumerate(cv.split(X, y)):\n",
    "    classifier.fit(X[train], y[train])\n",
    "    viz = plot_roc_curve(classifier, X[target], y[target],\n",
    "                         name='ROC fold {}'.format(i),\n",
    "                         alpha=0.3, lw=1, ax=ax)\n",
    "    interp_tpr = np.interp(mean_fpr, viz.fpr, viz.tpr)\n",
    "    interp_tpr[0] = 0.0\n",
    "    tprs.append(interp_tpr)\n",
    "    aucs.append(viz.roc_auc)\n",
    "\n",
    "ax.plot([0, 1], [0, 1], linestyle='--', lw=2, color='r',\n",
    "        label='Chance', alpha=.8)\n",
    "\n",
    "mean_tpr = np.mean(tprs, axis=0)\n",
    "mean_tpr[-1] = 1.0\n",
    "mean_auc = auc(mean_fpr, mean_tpr)\n",
    "std_auc = np.std(aucs)\n",
    "ax.plot(mean_fpr, mean_tpr, color='b',\n",
    "        label=r'Mean ROC (AUC = %0.2f $\\pm$ %0.2f)' % (mean_auc, std_auc),\n",
    "        lw=2, alpha=.8)\n",
    "\n",
    "std_tpr = np.std(tprs, axis=0)\n",
    "tprs_upper = np.minimum(mean_tpr + std_tpr, 1)\n",
    "tprs_lower = np.maximum(mean_tpr - std_tpr, 0)\n",
    "ax.fill_between(mean_fpr, tprs_lower, tprs_upper, color='grey', alpha=.2,\n",
    "                label=r'$\\pm$ 1 std. dev.')\n",
    "\n",
    "ax.set(xlim=[-0.05, 1.05], ylim=[-0.05, 1.05],\n",
    "       title=\"ROC for KNN\")\n",
    "ax.legend(loc=\"lower right\")\n",
    "plt.show()"
   ]
  },
  {
   "cell_type": "markdown",
   "metadata": {
    "colab_type": "text",
    "id": "rHpPYbkYzTCc"
   },
   "source": [
    "# Conclusions"
   ]
  },
  {
   "cell_type": "markdown",
   "metadata": {
    "colab_type": "text",
    "id": "Hx3mFi-UzTCd"
   },
   "source": [
    "- Even though the Random Forest Classifier did not perform as well as the Logistic Regression Classifier, it managed to score better on both train.csv and test.csv after hypertuning\n",
    "- The Fare, Age, Gender, Pclass and Mr title are the top features for Random Forest\n",
    "- Hypertuning a classifier can significantly improve its accuracy\n",
    "- Feature Importance is useful for finding the most important features for a model"
   ]
  },
  {
   "cell_type": "markdown",
   "metadata": {
    "colab_type": "text",
    "id": "Q2p6BnF6zTCe"
   },
   "source": [
    "## Report"
   ]
  },
  {
   "cell_type": "markdown",
   "metadata": {
    "colab_type": "text",
    "id": "eQD-4Hl7zTCf"
   },
   "source": [
    "1. How is your prediction task defined? And what is the meaning of the output variable?<br>\n",
    "<br>\n",
    "- It is a classification. The output variable is the predicted value of the survival of a passenger in the test dataset(1 or 0).<br>\n",
    "<br>\n",
    "\n",
    "2. How do you represent your data as features?<br>\n",
    "<br>\n",
    "- The data was separated into columns that are categorical or numerical. The categorical data were converted to dummy variables.<br>\n",
    "<br>\n",
    "\n",
    "3. Did you process the features in any way?<br>\n",
    "<br>\n",
    "- The titles of the passengers were extracted from their names to create another feature.<br>\n",
    "- The null age was filled by using the median ages of passengers grouped by sex and title, and were binned into 4 groups (Child, Young Adult, Adult, Elderly).<br>\n",
    "- The fare was binned into 3 groups (Cheap, Middle Class, Expensive).<br>\n",
    "- The null values in embarked were filled with the mode of embarked values in the dataset.<br>\n",
    "- The null values in Cabin were changed to 'No' and the rest to 'Yes'.<br>\n",
    "- Created Family Size by adding the number of parents and siblings/spouse they boarded with, and adding 1 to include the passenger themselves.<br>\n",
    "<br>\n",
    "\n",
    "4. Did you bring in any additional sources of data?<br>\n",
    "<br>\n",
    "- Some notebooks that had hyperparameter tuning and feature engineering such as family size and title, were used as reference.<br>\n",
    "<br>\n",
    "\n",
    "5. How did you select which learning algorithms to use?<br>\n",
    "<br>\n",
    "- Random Classifier is a good algorithm for using feature importance as it has relatively good accuracy and is easy to use.<br>\n",
    "- K Nearest Neighbours is one of the simplest algorithm to use.<br>\n",
    "<br>\n",
    "\n",
    "6. Did you try to tune the hyperparameters of the learning algorithm, and in that case how?<br>\n",
    "<br>\n",
    "- GridSearchCV was used to find the best parameters for the different models and Stratified K Fold was used.<br>\n",
    "<br>\n",
    "\n",
    "7. How do you evaluate the quality of your system?<br>\n",
    "<br>\n",
    "- best_score_ was used to get the mean cross-validated score of the best_estimator so we could see how well the models performed on the train data.<br>\n",
    "- A confusion matrix was created for each model to see the errors it made.<br>\n",
    "- An ROC curve was plotted to see the area under the curve for each model.<br>\n",
    "<br>\n",
    "\n",
    "8. How well does your system compare to a stupid baseline?<br>\n",
    "<br>\n",
    "- The random forest classifer scored 0.85365, the logistic regression model scored 0.81300 and the K Nearest Neighbour scored 0.70731, which is better than the 0.66666 score of the stupid baseline<br>\n",
    "<br>\n",
    "\n",
    "9. Can you say anything about the errors that the system makes? For a classification task, you may consider a confusion matrix.<br>\n",
    "<br>\n",
    "- The Random Forest Classifier correctly predicted 429 deaths and 233 survivors, and wrongly predicted 120 deaths as survivors and 115 survivors as dead.<br>\n",
    "- The Logistic Regression Classifier correctly predicted 426 deaths and 254 survivors, and wrongly predicted 123 deaths as survivors and 94 survivors as dead.<br>\n",
    "- The KNN Classifier correctly predicted 417 deaths and 160 survivors, and wrongly predicted 132 deaths as survivors and 188 survivors as dead.<br>\n",
    "- All 3 classifiers improved their accuracy on predicting the survival of passengers.<br>\n",
    "<br>\n",
    "\n",
    "10. Is it possible to say something about which features the model considers important? (Whether this is possible depends on the type of classifier you are using)<br>\n",
    "<br>\n",
    "- According to the feature importance from the first random forest classifier, Fare, Age, Title_Mr, Sex_Male, Sex_Female, Pclass, FamilySize were the top 7 features that were considered important and chosen for the new dataset.<br>\n",
    "- This makes sense as having higher fare and being in 1st class meant that the passenger was upper class and was more likely to escape as the upper class were mostly on the top levels of titanic.<br>\n",
    "- Children on board the titanic were also prioritised on lifeboats, making Age important.<br>\n",
    "- Being a male or female was also an important variable as females were prioritised on the limited lifeboats which led to more male deaths.\n"
   ]
  },
  {
   "cell_type": "code",
   "execution_count": 0,
   "metadata": {
    "colab": {},
    "colab_type": "code",
    "id": "q8JqGjizzTCf"
   },
   "outputs": [],
   "source": []
  },
  {
   "cell_type": "code",
   "execution_count": 0,
   "metadata": {
    "colab": {},
    "colab_type": "code",
    "id": "ANOLfpsKzTCl"
   },
   "outputs": [],
   "source": []
  },
  {
   "cell_type": "markdown",
   "metadata": {
    "colab_type": "text",
    "id": "oQHQ1M4HzTCo"
   },
   "source": [
    "# References"
   ]
  },
  {
   "cell_type": "markdown",
   "metadata": {
    "colab_type": "text",
    "id": "35kqPHaKzTCp"
   },
   "source": [
    "- https://github.com/minsuk-heo/kaggle-titanic/blob/master/titanic-solution.ipynb\n",
    "- https://www.kaggle.com/eraaz1/a-comprehensive-guide-to-titanic-machine-learning\n",
    "- https://towardsdatascience.com/predicting-the-survival-of-titanic-passengers-30870ccc7e8\n",
    "- https://www.kaggle.com/startupsci/titanic-data-science-solutions\n",
    "- https://stackabuse.com/overview-of-classification-methods-in-python-with-scikit-learn/\n",
    "- https://www.kaggle.com/josh24990/simple-end-to-end-ml-workflow-top-5-score\n",
    "- https://chrisalbon.com/machine_learning/model_selection/hyperparameter_tuning_using_grid_search/\n",
    "- https://www.ahmedbesbes.com/blog/kaggle-titanic-competition\n",
    "- https://www.kaggle.com/mayu0116/hyper-parameters-tuning-of-dtree-rf-svm-knn\n",
    "- https://stackoverflow.com/questions/39163354/evaluating-logistic-regression-with-cross-validation\n",
    "- https://medium.com/@EduardoSaverin/confusion-matrix-614be4ff4c9e\n",
    "- https://scikit-learn.org/stable/auto_examples/model_selection/plot_roc_crossval.html"
   ]
  },
  {
   "cell_type": "code",
   "execution_count": 0,
   "metadata": {
    "colab": {},
    "colab_type": "code",
    "id": "vnFIIuIqzTCq"
   },
   "outputs": [],
   "source": []
  },
  {
   "cell_type": "code",
   "execution_count": 0,
   "metadata": {
    "colab": {},
    "colab_type": "code",
    "id": "vpaaFb8YzTCt"
   },
   "outputs": [],
   "source": []
  }
 ],
 "metadata": {
  "colab": {
   "collapsed_sections": [
    "m5H1JonOzTBI",
    "VDZ_Mc79zTBK",
    "NsKrcRihzTBT",
    "2zKQeaCazTBa",
    "uFgh-l0vzTBg",
    "mQKFfNm0zTBu",
    "_cj-EmsXzTB6",
    "oQHQ1M4HzTCo"
   ],
   "name": "utf-8''TitanicCA1 (1).ipynb",
   "provenance": [],
   "toc_visible": true
  },
  "kernelspec": {
   "display_name": "Python 3",
   "language": "python",
   "name": "python3"
  },
  "language_info": {
   "codemirror_mode": {
    "name": "ipython",
    "version": 3
   },
   "file_extension": ".py",
   "mimetype": "text/x-python",
   "name": "python",
   "nbconvert_exporter": "python",
   "pygments_lexer": "ipython3",
   "version": "3.8.3"
  },
  "toc": {
   "base_numbering": 1,
   "nav_menu": {},
   "number_sections": true,
   "sideBar": false,
   "skip_h1_title": false,
   "title_cell": "Table of Contents",
   "title_sidebar": "Contents",
   "toc_cell": true,
   "toc_position": {
    "height": "530px",
    "left": "0px",
    "top": "150.8px",
    "width": "165px"
   },
   "toc_section_display": true,
   "toc_window_display": true
  }
 },
 "nbformat": 4,
 "nbformat_minor": 1
}
